{
 "cells": [
  {
   "cell_type": "code",
   "execution_count": 33,
   "metadata": {},
   "outputs": [],
   "source": [
    "import pandas as pd\n",
    "import numpy as np\n"
   ]
  },
  {
   "cell_type": "markdown",
   "metadata": {},
   "source": [
    "\n",
    "# Loading the data"
   ]
  },
  {
   "cell_type": "code",
   "execution_count": 34,
   "metadata": {},
   "outputs": [
    {
     "data": {
      "text/html": [
       "<div>\n",
       "<style scoped>\n",
       "    .dataframe tbody tr th:only-of-type {\n",
       "        vertical-align: middle;\n",
       "    }\n",
       "\n",
       "    .dataframe tbody tr th {\n",
       "        vertical-align: top;\n",
       "    }\n",
       "\n",
       "    .dataframe thead th {\n",
       "        text-align: right;\n",
       "    }\n",
       "</style>\n",
       "<table border=\"1\" class=\"dataframe\">\n",
       "  <thead>\n",
       "    <tr style=\"text-align: right;\">\n",
       "      <th></th>\n",
       "      <th>age</th>\n",
       "      <th>sex</th>\n",
       "      <th>cp</th>\n",
       "      <th>trestbps</th>\n",
       "      <th>chol</th>\n",
       "      <th>fbs</th>\n",
       "      <th>restecg</th>\n",
       "      <th>thalach</th>\n",
       "      <th>exang</th>\n",
       "      <th>oldpeak</th>\n",
       "      <th>slope</th>\n",
       "      <th>ca</th>\n",
       "      <th>thal</th>\n",
       "      <th>target</th>\n",
       "    </tr>\n",
       "  </thead>\n",
       "  <tbody>\n",
       "    <tr>\n",
       "      <td>0</td>\n",
       "      <td>63</td>\n",
       "      <td>1</td>\n",
       "      <td>3</td>\n",
       "      <td>145</td>\n",
       "      <td>233</td>\n",
       "      <td>1</td>\n",
       "      <td>0</td>\n",
       "      <td>150</td>\n",
       "      <td>0</td>\n",
       "      <td>2.30</td>\n",
       "      <td>0</td>\n",
       "      <td>0</td>\n",
       "      <td>1</td>\n",
       "      <td>1</td>\n",
       "    </tr>\n",
       "    <tr>\n",
       "      <td>1</td>\n",
       "      <td>37</td>\n",
       "      <td>1</td>\n",
       "      <td>2</td>\n",
       "      <td>130</td>\n",
       "      <td>250</td>\n",
       "      <td>0</td>\n",
       "      <td>1</td>\n",
       "      <td>187</td>\n",
       "      <td>0</td>\n",
       "      <td>3.50</td>\n",
       "      <td>0</td>\n",
       "      <td>0</td>\n",
       "      <td>2</td>\n",
       "      <td>1</td>\n",
       "    </tr>\n",
       "    <tr>\n",
       "      <td>2</td>\n",
       "      <td>41</td>\n",
       "      <td>0</td>\n",
       "      <td>1</td>\n",
       "      <td>130</td>\n",
       "      <td>204</td>\n",
       "      <td>0</td>\n",
       "      <td>0</td>\n",
       "      <td>172</td>\n",
       "      <td>0</td>\n",
       "      <td>1.40</td>\n",
       "      <td>2</td>\n",
       "      <td>0</td>\n",
       "      <td>2</td>\n",
       "      <td>1</td>\n",
       "    </tr>\n",
       "    <tr>\n",
       "      <td>3</td>\n",
       "      <td>56</td>\n",
       "      <td>1</td>\n",
       "      <td>1</td>\n",
       "      <td>120</td>\n",
       "      <td>236</td>\n",
       "      <td>0</td>\n",
       "      <td>1</td>\n",
       "      <td>178</td>\n",
       "      <td>0</td>\n",
       "      <td>0.80</td>\n",
       "      <td>2</td>\n",
       "      <td>0</td>\n",
       "      <td>2</td>\n",
       "      <td>1</td>\n",
       "    </tr>\n",
       "    <tr>\n",
       "      <td>4</td>\n",
       "      <td>57</td>\n",
       "      <td>0</td>\n",
       "      <td>0</td>\n",
       "      <td>120</td>\n",
       "      <td>354</td>\n",
       "      <td>0</td>\n",
       "      <td>1</td>\n",
       "      <td>163</td>\n",
       "      <td>1</td>\n",
       "      <td>0.60</td>\n",
       "      <td>2</td>\n",
       "      <td>0</td>\n",
       "      <td>2</td>\n",
       "      <td>1</td>\n",
       "    </tr>\n",
       "  </tbody>\n",
       "</table>\n",
       "</div>"
      ],
      "text/plain": [
       "   age  sex  cp  trestbps  chol  fbs  restecg  thalach  exang  oldpeak  slope  \\\n",
       "0   63    1   3       145   233    1        0      150      0     2.30      0   \n",
       "1   37    1   2       130   250    0        1      187      0     3.50      0   \n",
       "2   41    0   1       130   204    0        0      172      0     1.40      2   \n",
       "3   56    1   1       120   236    0        1      178      0     0.80      2   \n",
       "4   57    0   0       120   354    0        1      163      1     0.60      2   \n",
       "\n",
       "   ca  thal  target  \n",
       "0   0     1       1  \n",
       "1   0     2       1  \n",
       "2   0     2       1  \n",
       "3   0     2       1  \n",
       "4   0     2       1  "
      ]
     },
     "execution_count": 34,
     "metadata": {},
     "output_type": "execute_result"
    }
   ],
   "source": [
    "df = pd.read_csv(\"heart.csv\")\n",
    "df.head()"
   ]
  },
  {
   "cell_type": "markdown",
   "metadata": {},
   "source": [
    "#  Exploratory Data Analysis (EDA)"
   ]
  },
  {
   "cell_type": "code",
   "execution_count": 35,
   "metadata": {},
   "outputs": [
    {
     "data": {
      "text/html": [
       "<div>\n",
       "<style scoped>\n",
       "    .dataframe tbody tr th:only-of-type {\n",
       "        vertical-align: middle;\n",
       "    }\n",
       "\n",
       "    .dataframe tbody tr th {\n",
       "        vertical-align: top;\n",
       "    }\n",
       "\n",
       "    .dataframe thead th {\n",
       "        text-align: right;\n",
       "    }\n",
       "</style>\n",
       "<table border=\"1\" class=\"dataframe\">\n",
       "  <thead>\n",
       "    <tr style=\"text-align: right;\">\n",
       "      <th></th>\n",
       "      <th>age</th>\n",
       "      <th>sex</th>\n",
       "      <th>cp</th>\n",
       "      <th>trestbps</th>\n",
       "      <th>chol</th>\n",
       "      <th>fbs</th>\n",
       "      <th>restecg</th>\n",
       "      <th>thalach</th>\n",
       "      <th>exang</th>\n",
       "      <th>oldpeak</th>\n",
       "      <th>slope</th>\n",
       "      <th>ca</th>\n",
       "      <th>thal</th>\n",
       "      <th>target</th>\n",
       "    </tr>\n",
       "  </thead>\n",
       "  <tbody>\n",
       "    <tr>\n",
       "      <td>count</td>\n",
       "      <td>303.00</td>\n",
       "      <td>303.00</td>\n",
       "      <td>303.00</td>\n",
       "      <td>303.00</td>\n",
       "      <td>303.00</td>\n",
       "      <td>303.00</td>\n",
       "      <td>303.00</td>\n",
       "      <td>303.00</td>\n",
       "      <td>303.00</td>\n",
       "      <td>303.00</td>\n",
       "      <td>303.00</td>\n",
       "      <td>303.00</td>\n",
       "      <td>303.00</td>\n",
       "      <td>303.00</td>\n",
       "    </tr>\n",
       "    <tr>\n",
       "      <td>mean</td>\n",
       "      <td>54.37</td>\n",
       "      <td>0.68</td>\n",
       "      <td>0.97</td>\n",
       "      <td>131.62</td>\n",
       "      <td>246.26</td>\n",
       "      <td>0.15</td>\n",
       "      <td>0.53</td>\n",
       "      <td>149.65</td>\n",
       "      <td>0.33</td>\n",
       "      <td>1.04</td>\n",
       "      <td>1.40</td>\n",
       "      <td>0.73</td>\n",
       "      <td>2.31</td>\n",
       "      <td>0.54</td>\n",
       "    </tr>\n",
       "    <tr>\n",
       "      <td>std</td>\n",
       "      <td>9.08</td>\n",
       "      <td>0.47</td>\n",
       "      <td>1.03</td>\n",
       "      <td>17.54</td>\n",
       "      <td>51.83</td>\n",
       "      <td>0.36</td>\n",
       "      <td>0.53</td>\n",
       "      <td>22.91</td>\n",
       "      <td>0.47</td>\n",
       "      <td>1.16</td>\n",
       "      <td>0.62</td>\n",
       "      <td>1.02</td>\n",
       "      <td>0.61</td>\n",
       "      <td>0.50</td>\n",
       "    </tr>\n",
       "    <tr>\n",
       "      <td>min</td>\n",
       "      <td>29.00</td>\n",
       "      <td>0.00</td>\n",
       "      <td>0.00</td>\n",
       "      <td>94.00</td>\n",
       "      <td>126.00</td>\n",
       "      <td>0.00</td>\n",
       "      <td>0.00</td>\n",
       "      <td>71.00</td>\n",
       "      <td>0.00</td>\n",
       "      <td>0.00</td>\n",
       "      <td>0.00</td>\n",
       "      <td>0.00</td>\n",
       "      <td>0.00</td>\n",
       "      <td>0.00</td>\n",
       "    </tr>\n",
       "    <tr>\n",
       "      <td>25%</td>\n",
       "      <td>47.50</td>\n",
       "      <td>0.00</td>\n",
       "      <td>0.00</td>\n",
       "      <td>120.00</td>\n",
       "      <td>211.00</td>\n",
       "      <td>0.00</td>\n",
       "      <td>0.00</td>\n",
       "      <td>133.50</td>\n",
       "      <td>0.00</td>\n",
       "      <td>0.00</td>\n",
       "      <td>1.00</td>\n",
       "      <td>0.00</td>\n",
       "      <td>2.00</td>\n",
       "      <td>0.00</td>\n",
       "    </tr>\n",
       "    <tr>\n",
       "      <td>50%</td>\n",
       "      <td>55.00</td>\n",
       "      <td>1.00</td>\n",
       "      <td>1.00</td>\n",
       "      <td>130.00</td>\n",
       "      <td>240.00</td>\n",
       "      <td>0.00</td>\n",
       "      <td>1.00</td>\n",
       "      <td>153.00</td>\n",
       "      <td>0.00</td>\n",
       "      <td>0.80</td>\n",
       "      <td>1.00</td>\n",
       "      <td>0.00</td>\n",
       "      <td>2.00</td>\n",
       "      <td>1.00</td>\n",
       "    </tr>\n",
       "    <tr>\n",
       "      <td>75%</td>\n",
       "      <td>61.00</td>\n",
       "      <td>1.00</td>\n",
       "      <td>2.00</td>\n",
       "      <td>140.00</td>\n",
       "      <td>274.50</td>\n",
       "      <td>0.00</td>\n",
       "      <td>1.00</td>\n",
       "      <td>166.00</td>\n",
       "      <td>1.00</td>\n",
       "      <td>1.60</td>\n",
       "      <td>2.00</td>\n",
       "      <td>1.00</td>\n",
       "      <td>3.00</td>\n",
       "      <td>1.00</td>\n",
       "    </tr>\n",
       "    <tr>\n",
       "      <td>max</td>\n",
       "      <td>77.00</td>\n",
       "      <td>1.00</td>\n",
       "      <td>3.00</td>\n",
       "      <td>200.00</td>\n",
       "      <td>564.00</td>\n",
       "      <td>1.00</td>\n",
       "      <td>2.00</td>\n",
       "      <td>202.00</td>\n",
       "      <td>1.00</td>\n",
       "      <td>6.20</td>\n",
       "      <td>2.00</td>\n",
       "      <td>4.00</td>\n",
       "      <td>3.00</td>\n",
       "      <td>1.00</td>\n",
       "    </tr>\n",
       "  </tbody>\n",
       "</table>\n",
       "</div>"
      ],
      "text/plain": [
       "         age    sex     cp  trestbps   chol    fbs  restecg  thalach  exang  \\\n",
       "count 303.00 303.00 303.00    303.00 303.00 303.00   303.00   303.00 303.00   \n",
       "mean   54.37   0.68   0.97    131.62 246.26   0.15     0.53   149.65   0.33   \n",
       "std     9.08   0.47   1.03     17.54  51.83   0.36     0.53    22.91   0.47   \n",
       "min    29.00   0.00   0.00     94.00 126.00   0.00     0.00    71.00   0.00   \n",
       "25%    47.50   0.00   0.00    120.00 211.00   0.00     0.00   133.50   0.00   \n",
       "50%    55.00   1.00   1.00    130.00 240.00   0.00     1.00   153.00   0.00   \n",
       "75%    61.00   1.00   2.00    140.00 274.50   0.00     1.00   166.00   1.00   \n",
       "max    77.00   1.00   3.00    200.00 564.00   1.00     2.00   202.00   1.00   \n",
       "\n",
       "       oldpeak  slope     ca   thal  target  \n",
       "count   303.00 303.00 303.00 303.00  303.00  \n",
       "mean      1.04   1.40   0.73   2.31    0.54  \n",
       "std       1.16   0.62   1.02   0.61    0.50  \n",
       "min       0.00   0.00   0.00   0.00    0.00  \n",
       "25%       0.00   1.00   0.00   2.00    0.00  \n",
       "50%       0.80   1.00   0.00   2.00    1.00  \n",
       "75%       1.60   2.00   1.00   3.00    1.00  \n",
       "max       6.20   2.00   4.00   3.00    1.00  "
      ]
     },
     "execution_count": 35,
     "metadata": {},
     "output_type": "execute_result"
    }
   ],
   "source": [
    "df.describe()\n"
   ]
  },
  {
   "cell_type": "code",
   "execution_count": 36,
   "metadata": {},
   "outputs": [
    {
     "name": "stdout",
     "output_type": "stream",
     "text": [
      "<class 'pandas.core.frame.DataFrame'>\n",
      "RangeIndex: 303 entries, 0 to 302\n",
      "Data columns (total 14 columns):\n",
      "age         303 non-null int64\n",
      "sex         303 non-null int64\n",
      "cp          303 non-null int64\n",
      "trestbps    303 non-null int64\n",
      "chol        303 non-null int64\n",
      "fbs         303 non-null int64\n",
      "restecg     303 non-null int64\n",
      "thalach     303 non-null int64\n",
      "exang       303 non-null int64\n",
      "oldpeak     303 non-null float64\n",
      "slope       303 non-null int64\n",
      "ca          303 non-null int64\n",
      "thal        303 non-null int64\n",
      "target      303 non-null int64\n",
      "dtypes: float64(1), int64(13)\n",
      "memory usage: 33.3 KB\n",
      "None\n"
     ]
    }
   ],
   "source": [
    "print(df.info())\n",
    "\n",
    "\n"
   ]
  },
  {
   "cell_type": "code",
   "execution_count": 37,
   "metadata": {},
   "outputs": [
    {
     "data": {
      "text/plain": [
       "age          41\n",
       "sex           2\n",
       "cp            4\n",
       "trestbps     49\n",
       "chol        152\n",
       "fbs           2\n",
       "restecg       3\n",
       "thalach      91\n",
       "exang         2\n",
       "oldpeak      40\n",
       "slope         3\n",
       "ca            5\n",
       "thal          4\n",
       "target        2\n",
       "dtype: int64"
      ]
     },
     "execution_count": 37,
     "metadata": {},
     "output_type": "execute_result"
    }
   ],
   "source": [
    "df.nunique()"
   ]
  },
  {
   "cell_type": "code",
   "execution_count": 38,
   "metadata": {},
   "outputs": [
    {
     "data": {
      "text/html": [
       "<div>\n",
       "<style scoped>\n",
       "    .dataframe tbody tr th:only-of-type {\n",
       "        vertical-align: middle;\n",
       "    }\n",
       "\n",
       "    .dataframe tbody tr th {\n",
       "        vertical-align: top;\n",
       "    }\n",
       "\n",
       "    .dataframe thead th {\n",
       "        text-align: right;\n",
       "    }\n",
       "</style>\n",
       "<table border=\"1\" class=\"dataframe\">\n",
       "  <thead>\n",
       "    <tr style=\"text-align: right;\">\n",
       "      <th></th>\n",
       "      <th>age</th>\n",
       "      <th>sex</th>\n",
       "      <th>cp</th>\n",
       "      <th>trestbps</th>\n",
       "      <th>chol</th>\n",
       "      <th>fbs</th>\n",
       "      <th>restecg</th>\n",
       "      <th>thalach</th>\n",
       "      <th>exang</th>\n",
       "      <th>oldpeak</th>\n",
       "      <th>slope</th>\n",
       "      <th>ca</th>\n",
       "      <th>thal</th>\n",
       "      <th>target</th>\n",
       "    </tr>\n",
       "  </thead>\n",
       "  <tbody>\n",
       "    <tr>\n",
       "      <td>0</td>\n",
       "      <td>63</td>\n",
       "      <td>1</td>\n",
       "      <td>3</td>\n",
       "      <td>145</td>\n",
       "      <td>233</td>\n",
       "      <td>1</td>\n",
       "      <td>0</td>\n",
       "      <td>150</td>\n",
       "      <td>0</td>\n",
       "      <td>2.30</td>\n",
       "      <td>0</td>\n",
       "      <td>0</td>\n",
       "      <td>1</td>\n",
       "      <td>1</td>\n",
       "    </tr>\n",
       "    <tr>\n",
       "      <td>1</td>\n",
       "      <td>37</td>\n",
       "      <td>1</td>\n",
       "      <td>2</td>\n",
       "      <td>130</td>\n",
       "      <td>250</td>\n",
       "      <td>0</td>\n",
       "      <td>1</td>\n",
       "      <td>187</td>\n",
       "      <td>0</td>\n",
       "      <td>3.50</td>\n",
       "      <td>0</td>\n",
       "      <td>0</td>\n",
       "      <td>2</td>\n",
       "      <td>1</td>\n",
       "    </tr>\n",
       "    <tr>\n",
       "      <td>2</td>\n",
       "      <td>41</td>\n",
       "      <td>0</td>\n",
       "      <td>1</td>\n",
       "      <td>130</td>\n",
       "      <td>204</td>\n",
       "      <td>0</td>\n",
       "      <td>0</td>\n",
       "      <td>172</td>\n",
       "      <td>0</td>\n",
       "      <td>1.40</td>\n",
       "      <td>2</td>\n",
       "      <td>0</td>\n",
       "      <td>2</td>\n",
       "      <td>1</td>\n",
       "    </tr>\n",
       "    <tr>\n",
       "      <td>3</td>\n",
       "      <td>56</td>\n",
       "      <td>1</td>\n",
       "      <td>1</td>\n",
       "      <td>120</td>\n",
       "      <td>236</td>\n",
       "      <td>0</td>\n",
       "      <td>1</td>\n",
       "      <td>178</td>\n",
       "      <td>0</td>\n",
       "      <td>0.80</td>\n",
       "      <td>2</td>\n",
       "      <td>0</td>\n",
       "      <td>2</td>\n",
       "      <td>1</td>\n",
       "    </tr>\n",
       "    <tr>\n",
       "      <td>4</td>\n",
       "      <td>57</td>\n",
       "      <td>0</td>\n",
       "      <td>0</td>\n",
       "      <td>120</td>\n",
       "      <td>354</td>\n",
       "      <td>0</td>\n",
       "      <td>1</td>\n",
       "      <td>163</td>\n",
       "      <td>1</td>\n",
       "      <td>0.60</td>\n",
       "      <td>2</td>\n",
       "      <td>0</td>\n",
       "      <td>2</td>\n",
       "      <td>1</td>\n",
       "    </tr>\n",
       "    <tr>\n",
       "      <td>5</td>\n",
       "      <td>57</td>\n",
       "      <td>1</td>\n",
       "      <td>0</td>\n",
       "      <td>140</td>\n",
       "      <td>192</td>\n",
       "      <td>0</td>\n",
       "      <td>1</td>\n",
       "      <td>148</td>\n",
       "      <td>0</td>\n",
       "      <td>0.40</td>\n",
       "      <td>1</td>\n",
       "      <td>0</td>\n",
       "      <td>1</td>\n",
       "      <td>1</td>\n",
       "    </tr>\n",
       "    <tr>\n",
       "      <td>6</td>\n",
       "      <td>56</td>\n",
       "      <td>0</td>\n",
       "      <td>1</td>\n",
       "      <td>140</td>\n",
       "      <td>294</td>\n",
       "      <td>0</td>\n",
       "      <td>0</td>\n",
       "      <td>153</td>\n",
       "      <td>0</td>\n",
       "      <td>1.30</td>\n",
       "      <td>1</td>\n",
       "      <td>0</td>\n",
       "      <td>2</td>\n",
       "      <td>1</td>\n",
       "    </tr>\n",
       "    <tr>\n",
       "      <td>7</td>\n",
       "      <td>44</td>\n",
       "      <td>1</td>\n",
       "      <td>1</td>\n",
       "      <td>120</td>\n",
       "      <td>263</td>\n",
       "      <td>0</td>\n",
       "      <td>1</td>\n",
       "      <td>173</td>\n",
       "      <td>0</td>\n",
       "      <td>0.00</td>\n",
       "      <td>2</td>\n",
       "      <td>0</td>\n",
       "      <td>3</td>\n",
       "      <td>1</td>\n",
       "    </tr>\n",
       "    <tr>\n",
       "      <td>8</td>\n",
       "      <td>52</td>\n",
       "      <td>1</td>\n",
       "      <td>2</td>\n",
       "      <td>172</td>\n",
       "      <td>199</td>\n",
       "      <td>1</td>\n",
       "      <td>1</td>\n",
       "      <td>162</td>\n",
       "      <td>0</td>\n",
       "      <td>0.50</td>\n",
       "      <td>2</td>\n",
       "      <td>0</td>\n",
       "      <td>3</td>\n",
       "      <td>1</td>\n",
       "    </tr>\n",
       "    <tr>\n",
       "      <td>9</td>\n",
       "      <td>57</td>\n",
       "      <td>1</td>\n",
       "      <td>2</td>\n",
       "      <td>150</td>\n",
       "      <td>168</td>\n",
       "      <td>0</td>\n",
       "      <td>1</td>\n",
       "      <td>174</td>\n",
       "      <td>0</td>\n",
       "      <td>1.60</td>\n",
       "      <td>2</td>\n",
       "      <td>0</td>\n",
       "      <td>2</td>\n",
       "      <td>1</td>\n",
       "    </tr>\n",
       "  </tbody>\n",
       "</table>\n",
       "</div>"
      ],
      "text/plain": [
       "   age  sex  cp  trestbps  chol  fbs  restecg  thalach  exang  oldpeak  slope  \\\n",
       "0   63    1   3       145   233    1        0      150      0     2.30      0   \n",
       "1   37    1   2       130   250    0        1      187      0     3.50      0   \n",
       "2   41    0   1       130   204    0        0      172      0     1.40      2   \n",
       "3   56    1   1       120   236    0        1      178      0     0.80      2   \n",
       "4   57    0   0       120   354    0        1      163      1     0.60      2   \n",
       "5   57    1   0       140   192    0        1      148      0     0.40      1   \n",
       "6   56    0   1       140   294    0        0      153      0     1.30      1   \n",
       "7   44    1   1       120   263    0        1      173      0     0.00      2   \n",
       "8   52    1   2       172   199    1        1      162      0     0.50      2   \n",
       "9   57    1   2       150   168    0        1      174      0     1.60      2   \n",
       "\n",
       "   ca  thal  target  \n",
       "0   0     1       1  \n",
       "1   0     2       1  \n",
       "2   0     2       1  \n",
       "3   0     2       1  \n",
       "4   0     2       1  \n",
       "5   0     1       1  \n",
       "6   0     2       1  \n",
       "7   0     3       1  \n",
       "8   0     3       1  \n",
       "9   0     2       1  "
      ]
     },
     "execution_count": 38,
     "metadata": {},
     "output_type": "execute_result"
    }
   ],
   "source": [
    "df.head(10)"
   ]
  },
  {
   "cell_type": "raw",
   "metadata": {},
   "source": [
    "#no null values in our dataset"
   ]
  },
  {
   "cell_type": "code",
   "execution_count": 39,
   "metadata": {},
   "outputs": [
    {
     "data": {
      "text/html": [
       "<div>\n",
       "<style scoped>\n",
       "    .dataframe tbody tr th:only-of-type {\n",
       "        vertical-align: middle;\n",
       "    }\n",
       "\n",
       "    .dataframe tbody tr th {\n",
       "        vertical-align: top;\n",
       "    }\n",
       "\n",
       "    .dataframe thead th {\n",
       "        text-align: right;\n",
       "    }\n",
       "</style>\n",
       "<table border=\"1\" class=\"dataframe\">\n",
       "  <thead>\n",
       "    <tr style=\"text-align: right;\">\n",
       "      <th></th>\n",
       "      <th>age</th>\n",
       "      <th>sex</th>\n",
       "      <th>cp</th>\n",
       "      <th>trestbps</th>\n",
       "      <th>chol</th>\n",
       "      <th>fbs</th>\n",
       "      <th>restecg</th>\n",
       "      <th>thalach</th>\n",
       "      <th>exang</th>\n",
       "      <th>oldpeak</th>\n",
       "      <th>slope</th>\n",
       "      <th>ca</th>\n",
       "      <th>thal</th>\n",
       "      <th>target</th>\n",
       "    </tr>\n",
       "  </thead>\n",
       "  <tbody>\n",
       "    <tr>\n",
       "      <td>count</td>\n",
       "      <td>303.00</td>\n",
       "      <td>303.00</td>\n",
       "      <td>303.00</td>\n",
       "      <td>303.00</td>\n",
       "      <td>303.00</td>\n",
       "      <td>303.00</td>\n",
       "      <td>303.00</td>\n",
       "      <td>303.00</td>\n",
       "      <td>303.00</td>\n",
       "      <td>303.00</td>\n",
       "      <td>303.00</td>\n",
       "      <td>303.00</td>\n",
       "      <td>303.00</td>\n",
       "      <td>303.00</td>\n",
       "    </tr>\n",
       "    <tr>\n",
       "      <td>mean</td>\n",
       "      <td>54.37</td>\n",
       "      <td>0.68</td>\n",
       "      <td>0.97</td>\n",
       "      <td>131.62</td>\n",
       "      <td>246.26</td>\n",
       "      <td>0.15</td>\n",
       "      <td>0.53</td>\n",
       "      <td>149.65</td>\n",
       "      <td>0.33</td>\n",
       "      <td>1.04</td>\n",
       "      <td>1.40</td>\n",
       "      <td>0.73</td>\n",
       "      <td>2.31</td>\n",
       "      <td>0.54</td>\n",
       "    </tr>\n",
       "    <tr>\n",
       "      <td>std</td>\n",
       "      <td>9.08</td>\n",
       "      <td>0.47</td>\n",
       "      <td>1.03</td>\n",
       "      <td>17.54</td>\n",
       "      <td>51.83</td>\n",
       "      <td>0.36</td>\n",
       "      <td>0.53</td>\n",
       "      <td>22.91</td>\n",
       "      <td>0.47</td>\n",
       "      <td>1.16</td>\n",
       "      <td>0.62</td>\n",
       "      <td>1.02</td>\n",
       "      <td>0.61</td>\n",
       "      <td>0.50</td>\n",
       "    </tr>\n",
       "    <tr>\n",
       "      <td>min</td>\n",
       "      <td>29.00</td>\n",
       "      <td>0.00</td>\n",
       "      <td>0.00</td>\n",
       "      <td>94.00</td>\n",
       "      <td>126.00</td>\n",
       "      <td>0.00</td>\n",
       "      <td>0.00</td>\n",
       "      <td>71.00</td>\n",
       "      <td>0.00</td>\n",
       "      <td>0.00</td>\n",
       "      <td>0.00</td>\n",
       "      <td>0.00</td>\n",
       "      <td>0.00</td>\n",
       "      <td>0.00</td>\n",
       "    </tr>\n",
       "    <tr>\n",
       "      <td>25%</td>\n",
       "      <td>47.50</td>\n",
       "      <td>0.00</td>\n",
       "      <td>0.00</td>\n",
       "      <td>120.00</td>\n",
       "      <td>211.00</td>\n",
       "      <td>0.00</td>\n",
       "      <td>0.00</td>\n",
       "      <td>133.50</td>\n",
       "      <td>0.00</td>\n",
       "      <td>0.00</td>\n",
       "      <td>1.00</td>\n",
       "      <td>0.00</td>\n",
       "      <td>2.00</td>\n",
       "      <td>0.00</td>\n",
       "    </tr>\n",
       "    <tr>\n",
       "      <td>50%</td>\n",
       "      <td>55.00</td>\n",
       "      <td>1.00</td>\n",
       "      <td>1.00</td>\n",
       "      <td>130.00</td>\n",
       "      <td>240.00</td>\n",
       "      <td>0.00</td>\n",
       "      <td>1.00</td>\n",
       "      <td>153.00</td>\n",
       "      <td>0.00</td>\n",
       "      <td>0.80</td>\n",
       "      <td>1.00</td>\n",
       "      <td>0.00</td>\n",
       "      <td>2.00</td>\n",
       "      <td>1.00</td>\n",
       "    </tr>\n",
       "    <tr>\n",
       "      <td>75%</td>\n",
       "      <td>61.00</td>\n",
       "      <td>1.00</td>\n",
       "      <td>2.00</td>\n",
       "      <td>140.00</td>\n",
       "      <td>274.50</td>\n",
       "      <td>0.00</td>\n",
       "      <td>1.00</td>\n",
       "      <td>166.00</td>\n",
       "      <td>1.00</td>\n",
       "      <td>1.60</td>\n",
       "      <td>2.00</td>\n",
       "      <td>1.00</td>\n",
       "      <td>3.00</td>\n",
       "      <td>1.00</td>\n",
       "    </tr>\n",
       "    <tr>\n",
       "      <td>max</td>\n",
       "      <td>77.00</td>\n",
       "      <td>1.00</td>\n",
       "      <td>3.00</td>\n",
       "      <td>200.00</td>\n",
       "      <td>564.00</td>\n",
       "      <td>1.00</td>\n",
       "      <td>2.00</td>\n",
       "      <td>202.00</td>\n",
       "      <td>1.00</td>\n",
       "      <td>6.20</td>\n",
       "      <td>2.00</td>\n",
       "      <td>4.00</td>\n",
       "      <td>3.00</td>\n",
       "      <td>1.00</td>\n",
       "    </tr>\n",
       "  </tbody>\n",
       "</table>\n",
       "</div>"
      ],
      "text/plain": [
       "         age    sex     cp  trestbps   chol    fbs  restecg  thalach  exang  \\\n",
       "count 303.00 303.00 303.00    303.00 303.00 303.00   303.00   303.00 303.00   \n",
       "mean   54.37   0.68   0.97    131.62 246.26   0.15     0.53   149.65   0.33   \n",
       "std     9.08   0.47   1.03     17.54  51.83   0.36     0.53    22.91   0.47   \n",
       "min    29.00   0.00   0.00     94.00 126.00   0.00     0.00    71.00   0.00   \n",
       "25%    47.50   0.00   0.00    120.00 211.00   0.00     0.00   133.50   0.00   \n",
       "50%    55.00   1.00   1.00    130.00 240.00   0.00     1.00   153.00   0.00   \n",
       "75%    61.00   1.00   2.00    140.00 274.50   0.00     1.00   166.00   1.00   \n",
       "max    77.00   1.00   3.00    200.00 564.00   1.00     2.00   202.00   1.00   \n",
       "\n",
       "       oldpeak  slope     ca   thal  target  \n",
       "count   303.00 303.00 303.00 303.00  303.00  \n",
       "mean      1.04   1.40   0.73   2.31    0.54  \n",
       "std       1.16   0.62   1.02   0.61    0.50  \n",
       "min       0.00   0.00   0.00   0.00    0.00  \n",
       "25%       0.00   1.00   0.00   2.00    0.00  \n",
       "50%       0.80   1.00   0.00   2.00    1.00  \n",
       "75%       1.60   2.00   1.00   3.00    1.00  \n",
       "max       6.20   2.00   4.00   3.00    1.00  "
      ]
     },
     "execution_count": 39,
     "metadata": {},
     "output_type": "execute_result"
    }
   ],
   "source": [
    "df.shape #shape of dataset\n",
    "\n",
    "\n",
    "\n",
    "pd.set_option(\"display.float\", \"{:.2f}\".format)\n",
    "df.describe()\n",
    "\n"
   ]
  },
  {
   "cell_type": "code",
   "execution_count": 40,
   "metadata": {},
   "outputs": [
    {
     "data": {
      "text/plain": [
       "1    165\n",
       "0    138\n",
       "Name: target, dtype: int64"
      ]
     },
     "execution_count": 40,
     "metadata": {},
     "output_type": "execute_result"
    }
   ],
   "source": [
    "\n",
    "df.target.value_counts()\n"
   ]
  },
  {
   "cell_type": "code",
   "execution_count": 41,
   "metadata": {},
   "outputs": [
    {
     "name": "stdout",
     "output_type": "stream",
     "text": [
      "==============================\n",
      "age : [63 37 41 56 57 44 52 54 48 49 64 58 50 66 43 69 59 42 61 40 71 51 65 53\n",
      " 46 45 39 47 62 34 35 29 55 60 67 68 74 76 70 38 77]\n",
      "==============================\n",
      "sex : [1 0]\n",
      "==============================\n",
      "cp : [3 2 1 0]\n",
      "==============================\n",
      "trestbps : [145 130 120 140 172 150 110 135 160 105 125 142 155 104 138 128 108 134\n",
      " 122 115 118 100 124  94 112 102 152 101 132 148 178 129 180 136 126 106\n",
      " 156 170 146 117 200 165 174 192 144 123 154 114 164]\n",
      "==============================\n",
      "chol : [233 250 204 236 354 192 294 263 199 168 239 275 266 211 283 219 340 226\n",
      " 247 234 243 302 212 175 417 197 198 177 273 213 304 232 269 360 308 245\n",
      " 208 264 321 325 235 257 216 256 231 141 252 201 222 260 182 303 265 309\n",
      " 186 203 183 220 209 258 227 261 221 205 240 318 298 564 277 214 248 255\n",
      " 207 223 288 160 394 315 246 244 270 195 196 254 126 313 262 215 193 271\n",
      " 268 267 210 295 306 178 242 180 228 149 278 253 342 157 286 229 284 224\n",
      " 206 167 230 335 276 353 225 330 290 172 305 188 282 185 326 274 164 307\n",
      " 249 341 407 217 174 281 289 322 299 300 293 184 409 259 200 327 237 218\n",
      " 319 166 311 169 187 176 241 131]\n",
      "==============================\n",
      "fbs : [1 0]\n",
      "==============================\n",
      "restecg : [0 1 2]\n",
      "==============================\n",
      "thalach : [150 187 172 178 163 148 153 173 162 174 160 139 171 144 158 114 151 161\n",
      " 179 137 157 123 152 168 140 188 125 170 165 142 180 143 182 156 115 149\n",
      " 146 175 186 185 159 130 190 132 147 154 202 166 164 184 122 169 138 111\n",
      " 145 194 131 133 155 167 192 121  96 126 105 181 116 108 129 120 112 128\n",
      " 109 113  99 177 141 136  97 127 103 124  88 195 106  95 117  71 118 134\n",
      "  90]\n",
      "==============================\n",
      "exang : [0 1]\n",
      "==============================\n",
      "oldpeak : [2.3 3.5 1.4 0.8 0.6 0.4 1.3 0.  0.5 1.6 1.2 0.2 1.8 1.  2.6 1.5 3.  2.4\n",
      " 0.1 1.9 4.2 1.1 2.  0.7 0.3 0.9 3.6 3.1 3.2 2.5 2.2 2.8 3.4 6.2 4.  5.6\n",
      " 2.9 2.1 3.8 4.4]\n",
      "==============================\n",
      "slope : [0 2 1]\n",
      "==============================\n",
      "ca : [0 2 1 3 4]\n",
      "==============================\n",
      "thal : [1 2 3 0]\n",
      "==============================\n",
      "target : [1 0]\n"
     ]
    }
   ],
   "source": [
    "categorical_val = []\n",
    "continous_val = []\n",
    "for column in df.columns:\n",
    "    print('==============================')\n",
    "    print(f\"{column} : {df[column].unique()}\")\n",
    "    if len(df[column].unique()) <= 10:\n",
    "        categorical_val.append(column)\n",
    "    else:\n",
    "        continous_val.append(column)"
   ]
  },
  {
   "cell_type": "code",
   "execution_count": 42,
   "metadata": {},
   "outputs": [
    {
     "name": "stdout",
     "output_type": "stream",
     "text": [
      " actegorical val  ['sex', 'cp', 'fbs', 'restecg', 'exang', 'slope', 'ca', 'thal', 'target']\n",
      "continous val  ['age', 'trestbps', 'chol', 'thalach', 'oldpeak']\n"
     ]
    }
   ],
   "source": [
    "print(\" actegorical val \",categorical_val)\n",
    "print(\"continous val \",continous_val)"
   ]
  },
  {
   "cell_type": "markdown",
   "metadata": {},
   "source": [
    "# Data processing"
   ]
  },
  {
   "cell_type": "code",
   "execution_count": 43,
   "metadata": {},
   "outputs": [],
   "source": [
    "\n",
    "categorical_val.remove('target')\n",
    "dataset = pd.get_dummies(df, columns = categorical_val)\n",
    "#dataset.head()"
   ]
  },
  {
   "cell_type": "code",
   "execution_count": 44,
   "metadata": {},
   "outputs": [
    {
     "data": {
      "text/html": [
       "<div>\n",
       "<style scoped>\n",
       "    .dataframe tbody tr th:only-of-type {\n",
       "        vertical-align: middle;\n",
       "    }\n",
       "\n",
       "    .dataframe tbody tr th {\n",
       "        vertical-align: top;\n",
       "    }\n",
       "\n",
       "    .dataframe thead th {\n",
       "        text-align: right;\n",
       "    }\n",
       "</style>\n",
       "<table border=\"1\" class=\"dataframe\">\n",
       "  <thead>\n",
       "    <tr style=\"text-align: right;\">\n",
       "      <th></th>\n",
       "      <th>age</th>\n",
       "      <th>trestbps</th>\n",
       "      <th>chol</th>\n",
       "      <th>thalach</th>\n",
       "      <th>oldpeak</th>\n",
       "      <th>target</th>\n",
       "      <th>sex_0</th>\n",
       "      <th>sex_1</th>\n",
       "      <th>cp_0</th>\n",
       "      <th>cp_1</th>\n",
       "      <th>...</th>\n",
       "      <th>slope_2</th>\n",
       "      <th>ca_0</th>\n",
       "      <th>ca_1</th>\n",
       "      <th>ca_2</th>\n",
       "      <th>ca_3</th>\n",
       "      <th>ca_4</th>\n",
       "      <th>thal_0</th>\n",
       "      <th>thal_1</th>\n",
       "      <th>thal_2</th>\n",
       "      <th>thal_3</th>\n",
       "    </tr>\n",
       "  </thead>\n",
       "  <tbody>\n",
       "    <tr>\n",
       "      <td>0</td>\n",
       "      <td>63</td>\n",
       "      <td>145</td>\n",
       "      <td>233</td>\n",
       "      <td>150</td>\n",
       "      <td>2.30</td>\n",
       "      <td>1</td>\n",
       "      <td>0</td>\n",
       "      <td>1</td>\n",
       "      <td>0</td>\n",
       "      <td>0</td>\n",
       "      <td>...</td>\n",
       "      <td>0</td>\n",
       "      <td>1</td>\n",
       "      <td>0</td>\n",
       "      <td>0</td>\n",
       "      <td>0</td>\n",
       "      <td>0</td>\n",
       "      <td>0</td>\n",
       "      <td>1</td>\n",
       "      <td>0</td>\n",
       "      <td>0</td>\n",
       "    </tr>\n",
       "    <tr>\n",
       "      <td>1</td>\n",
       "      <td>37</td>\n",
       "      <td>130</td>\n",
       "      <td>250</td>\n",
       "      <td>187</td>\n",
       "      <td>3.50</td>\n",
       "      <td>1</td>\n",
       "      <td>0</td>\n",
       "      <td>1</td>\n",
       "      <td>0</td>\n",
       "      <td>0</td>\n",
       "      <td>...</td>\n",
       "      <td>0</td>\n",
       "      <td>1</td>\n",
       "      <td>0</td>\n",
       "      <td>0</td>\n",
       "      <td>0</td>\n",
       "      <td>0</td>\n",
       "      <td>0</td>\n",
       "      <td>0</td>\n",
       "      <td>1</td>\n",
       "      <td>0</td>\n",
       "    </tr>\n",
       "    <tr>\n",
       "      <td>2</td>\n",
       "      <td>41</td>\n",
       "      <td>130</td>\n",
       "      <td>204</td>\n",
       "      <td>172</td>\n",
       "      <td>1.40</td>\n",
       "      <td>1</td>\n",
       "      <td>1</td>\n",
       "      <td>0</td>\n",
       "      <td>0</td>\n",
       "      <td>1</td>\n",
       "      <td>...</td>\n",
       "      <td>1</td>\n",
       "      <td>1</td>\n",
       "      <td>0</td>\n",
       "      <td>0</td>\n",
       "      <td>0</td>\n",
       "      <td>0</td>\n",
       "      <td>0</td>\n",
       "      <td>0</td>\n",
       "      <td>1</td>\n",
       "      <td>0</td>\n",
       "    </tr>\n",
       "    <tr>\n",
       "      <td>3</td>\n",
       "      <td>56</td>\n",
       "      <td>120</td>\n",
       "      <td>236</td>\n",
       "      <td>178</td>\n",
       "      <td>0.80</td>\n",
       "      <td>1</td>\n",
       "      <td>0</td>\n",
       "      <td>1</td>\n",
       "      <td>0</td>\n",
       "      <td>1</td>\n",
       "      <td>...</td>\n",
       "      <td>1</td>\n",
       "      <td>1</td>\n",
       "      <td>0</td>\n",
       "      <td>0</td>\n",
       "      <td>0</td>\n",
       "      <td>0</td>\n",
       "      <td>0</td>\n",
       "      <td>0</td>\n",
       "      <td>1</td>\n",
       "      <td>0</td>\n",
       "    </tr>\n",
       "    <tr>\n",
       "      <td>4</td>\n",
       "      <td>57</td>\n",
       "      <td>120</td>\n",
       "      <td>354</td>\n",
       "      <td>163</td>\n",
       "      <td>0.60</td>\n",
       "      <td>1</td>\n",
       "      <td>1</td>\n",
       "      <td>0</td>\n",
       "      <td>1</td>\n",
       "      <td>0</td>\n",
       "      <td>...</td>\n",
       "      <td>1</td>\n",
       "      <td>1</td>\n",
       "      <td>0</td>\n",
       "      <td>0</td>\n",
       "      <td>0</td>\n",
       "      <td>0</td>\n",
       "      <td>0</td>\n",
       "      <td>0</td>\n",
       "      <td>1</td>\n",
       "      <td>0</td>\n",
       "    </tr>\n",
       "  </tbody>\n",
       "</table>\n",
       "<p>5 rows × 31 columns</p>\n",
       "</div>"
      ],
      "text/plain": [
       "   age  trestbps  chol  thalach  oldpeak  target  sex_0  sex_1  cp_0  cp_1  \\\n",
       "0   63       145   233      150     2.30       1      0      1     0     0   \n",
       "1   37       130   250      187     3.50       1      0      1     0     0   \n",
       "2   41       130   204      172     1.40       1      1      0     0     1   \n",
       "3   56       120   236      178     0.80       1      0      1     0     1   \n",
       "4   57       120   354      163     0.60       1      1      0     1     0   \n",
       "\n",
       "   ...  slope_2  ca_0  ca_1  ca_2  ca_3  ca_4  thal_0  thal_1  thal_2  thal_3  \n",
       "0  ...        0     1     0     0     0     0       0       1       0       0  \n",
       "1  ...        0     1     0     0     0     0       0       0       1       0  \n",
       "2  ...        1     1     0     0     0     0       0       0       1       0  \n",
       "3  ...        1     1     0     0     0     0       0       0       1       0  \n",
       "4  ...        1     1     0     0     0     0       0       0       1       0  \n",
       "\n",
       "[5 rows x 31 columns]"
      ]
     },
     "execution_count": 44,
     "metadata": {},
     "output_type": "execute_result"
    }
   ],
   "source": [
    "dataset.head()"
   ]
  },
  {
   "cell_type": "code",
   "execution_count": 45,
   "metadata": {},
   "outputs": [
    {
     "name": "stdout",
     "output_type": "stream",
     "text": [
      "Index(['age', 'sex', 'cp', 'trestbps', 'chol', 'fbs', 'restecg', 'thalach',\n",
      "       'exang', 'oldpeak', 'slope', 'ca', 'thal', 'target'],\n",
      "      dtype='object')\n",
      "Index(['age', 'trestbps', 'chol', 'thalach', 'oldpeak', 'target', 'sex_0',\n",
      "       'sex_1', 'cp_0', 'cp_1', 'cp_2', 'cp_3', 'fbs_0', 'fbs_1', 'restecg_0',\n",
      "       'restecg_1', 'restecg_2', 'exang_0', 'exang_1', 'slope_0', 'slope_1',\n",
      "       'slope_2', 'ca_0', 'ca_1', 'ca_2', 'ca_3', 'ca_4', 'thal_0', 'thal_1',\n",
      "       'thal_2', 'thal_3'],\n",
      "      dtype='object')\n"
     ]
    }
   ],
   "source": [
    "print(df.columns)\n",
    "\n",
    "print(dataset.columns)"
   ]
  },
  {
   "cell_type": "code",
   "execution_count": 46,
   "metadata": {},
   "outputs": [],
   "source": [
    "from sklearn.preprocessing import StandardScaler\n",
    "\n",
    "s_sc = StandardScaler()\n",
    "col_to_scale = ['age', 'trestbps', 'chol', 'thalach', 'oldpeak']\n",
    "dataset[col_to_scale] = s_sc.fit_transform(dataset[col_to_scale])\n"
   ]
  },
  {
   "cell_type": "markdown",
   "metadata": {},
   "source": [
    "# Applying Decision tree algo"
   ]
  },
  {
   "cell_type": "code",
   "execution_count": 47,
   "metadata": {},
   "outputs": [],
   "source": [
    "from sklearn.metrics import accuracy_score, confusion_matrix, precision_score, recall_score, f1_score\n",
    "train_score_1={}\n",
    "\n",
    "f1_train1={}\n",
    "precision_train1={}\n",
    "recall_train1={}\n",
    "test_score_1={}\n",
    "f1_test1={}\n",
    "precision_test1={}\n",
    "recall_test1={}\n",
    "def print_score(algo_name,clf, X_train, y_train, X_test, y_test, train=True):\n",
    "    \n",
    "    if train:\n",
    "        pred = clf.predict(X_train)\n",
    "        print(\"Train Result:\\n================================================\")\n",
    "        \n",
    "        print(f\"Accuracy Score: {accuracy_score(y_train, pred) * 100:.2f}%\")\n",
    "        print(\"_______________________________________________\")\n",
    "        print(\"Classification Report:\", end='')\n",
    "        print(f\"\\tPrecision Score: {precision_score(y_train, pred) * 100:.2f}%\")\n",
    "        print(f\"\\t\\t\\tRecall Score: {recall_score(y_train, pred) * 100:.2f}%\")\n",
    "        print(f\"\\t\\t\\tF1 score: {f1_score(y_train, pred) * 100:.2f}%\")\n",
    "        print(\"_______________________________________________\")\n",
    "        print(f\"Confusion Matrix: \\n {confusion_matrix(y_train, pred)}\\n\")\n",
    "        train_score_1[\"Training score \"+algo_name]=accuracy_score(y_train, pred) * 100\n",
    "        f1_train1[algo_name+\" training f1 score \"]=f1_score(y_train, pred) * 100\n",
    "        precision_train1[algo_name+\" training precision score\"]=precision_score(y_train, pred) * 100\n",
    "        recall_train1[algo_name+\" training recall score\"]= recall_score(y_train, pred) * 100\n",
    "        \n",
    "    elif train==False:\n",
    "        pred = clf.predict(X_test)\n",
    "        print(\"Test Result:\\n================================================\")        \n",
    "        print(f\"Accuracy Score: {accuracy_score(y_test, pred) * 100:.2f}%\")\n",
    "        print(\"_______________________________________________\")\n",
    "        print(\"Classification Report:\", end='')\n",
    "        print(f\"\\tPrecision Score: {precision_score(y_test, pred) * 100:.2f}%\")\n",
    "        print(f\"\\t\\t\\tRecall Score: {recall_score(y_test, pred) * 100:.2f}%\")\n",
    "        print(f\"\\t\\t\\tF1 score: {f1_score(y_test, pred) * 100:.2f}%\")\n",
    "        print(\"_______________________________________________\")\n",
    "        print(f\"Confusion Matrix: \\n {confusion_matrix(y_test, pred)}\\n\")\n",
    "        test_score_1[\"Testing score\"+algo_name]=accuracy_score(y_test, pred) * 100\n",
    "        f1_test1[algo_name+\" testing f1 score\"]=f1_score(y_test, pred) * 100\n",
    "        precision_test1[algo_name+\" testing precision score\"]=precision_score(y_test, pred) * 100\n",
    "        recall_test1[algo_name+\" testing recall score\"]= recall_score(y_test, pred) * 100\n",
    "    #return f1_train , precision_train ,recall_train,f1_test,precision_test,recall_test"
   ]
  },
  {
   "cell_type": "code",
   "execution_count": 128,
   "metadata": {},
   "outputs": [],
   "source": [
    "from sklearn.model_selection import train_test_split\n",
    "import matplotlib.pyplot as plt\n",
    "X = dataset.drop(['target','ca_4','restecg_2','thal_0'], axis=1)\n",
    "\n",
    "y = dataset.target\n",
    "\n",
    "X_train, X_test, y_train, y_test = train_test_split(X, y, test_size=0.3, random_state=42)\n"
   ]
  },
  {
   "cell_type": "code",
   "execution_count": 129,
   "metadata": {},
   "outputs": [
    {
     "name": "stderr",
     "output_type": "stream",
     "text": [
      "/home/adnan/anaconda3/envs/adnan_env/lib/python3.7/site-packages/sklearn/ensemble/forest.py:245: FutureWarning: The default value of n_estimators will change from 10 in version 0.20 to 100 in 0.22.\n",
      "  \"10 in version 0.20 to 100 in 0.22.\", FutureWarning)\n"
     ]
    },
    {
     "data": {
      "text/plain": [
       "ExtraTreesClassifier(bootstrap=False, class_weight=None, criterion='gini',\n",
       "                     max_depth=None, max_features='auto', max_leaf_nodes=None,\n",
       "                     min_impurity_decrease=0.0, min_impurity_split=None,\n",
       "                     min_samples_leaf=1, min_samples_split=2,\n",
       "                     min_weight_fraction_leaf=0.0, n_estimators=10, n_jobs=None,\n",
       "                     oob_score=False, random_state=None, verbose=0,\n",
       "                     warm_start=False)"
      ]
     },
     "execution_count": 129,
     "metadata": {},
     "output_type": "execute_result"
    }
   ],
   "source": [
    "\n",
    "from sklearn.feature_selection import  SelectKBest ,chi2\n",
    "from sklearn.ensemble import ExtraTreesClassifier\n",
    "extra=ExtraTreesClassifier()\n",
    "extra.fit(X,y)\n"
   ]
  },
  {
   "cell_type": "code",
   "execution_count": 130,
   "metadata": {},
   "outputs": [
    {
     "name": "stdout",
     "output_type": "stream",
     "text": [
      "[0.06275529 0.04029734 0.04551577 0.0507687  0.05935666 0.02569388\n",
      " 0.02169737 0.08664091 0.00999338 0.03585828 0.01709532 0.01589431\n",
      " 0.01191877 0.01902712 0.02828464 0.0211769  0.04925771 0.00955528\n",
      " 0.0515325  0.03728491 0.1024746  0.02127469 0.01495322 0.0168227\n",
      " 0.00630513 0.07729151 0.06127309]\n"
     ]
    }
   ],
   "source": [
    "print(extra.feature_importances_)"
   ]
  },
  {
   "cell_type": "code",
   "execution_count": 131,
   "metadata": {},
   "outputs": [
    {
     "ename": "ValueError",
     "evalue": "Length of passed values is 29, index implies 27",
     "output_type": "error",
     "traceback": [
      "\u001b[0;31m---------------------------------------------------------------------------\u001b[0m",
      "\u001b[0;31mValueError\u001b[0m                                Traceback (most recent call last)",
      "\u001b[0;32m<ipython-input-131-a226313f7337>\u001b[0m in \u001b[0;36m<module>\u001b[0;34m\u001b[0m\n\u001b[0;32m----> 1\u001b[0;31m \u001b[0mfeat_importances\u001b[0m\u001b[0;34m=\u001b[0m\u001b[0mpd\u001b[0m\u001b[0;34m.\u001b[0m\u001b[0mSeries\u001b[0m\u001b[0;34m(\u001b[0m\u001b[0mmodel\u001b[0m\u001b[0;34m.\u001b[0m\u001b[0mfeature_importances_\u001b[0m \u001b[0;34m,\u001b[0m \u001b[0mindex\u001b[0m\u001b[0;34m=\u001b[0m\u001b[0mX\u001b[0m\u001b[0;34m.\u001b[0m\u001b[0mcolumns\u001b[0m\u001b[0;34m)\u001b[0m\u001b[0;34m\u001b[0m\u001b[0;34m\u001b[0m\u001b[0m\n\u001b[0m\u001b[1;32m      2\u001b[0m \u001b[0mplt\u001b[0m\u001b[0;34m.\u001b[0m\u001b[0mfigure\u001b[0m\u001b[0;34m(\u001b[0m\u001b[0mfigsize\u001b[0m\u001b[0;34m=\u001b[0m\u001b[0;34m(\u001b[0m\u001b[0;36m6\u001b[0m\u001b[0;34m,\u001b[0m\u001b[0;36m6\u001b[0m\u001b[0;34m)\u001b[0m\u001b[0;34m)\u001b[0m\u001b[0;34m\u001b[0m\u001b[0;34m\u001b[0m\u001b[0m\n\u001b[1;32m      3\u001b[0m \u001b[0mfeat_importances\u001b[0m\u001b[0;34m.\u001b[0m\u001b[0mnsmallest\u001b[0m\u001b[0;34m(\u001b[0m\u001b[0;36m16\u001b[0m\u001b[0;34m)\u001b[0m\u001b[0;34m.\u001b[0m\u001b[0mplot\u001b[0m\u001b[0;34m(\u001b[0m\u001b[0mkind\u001b[0m\u001b[0;34m=\u001b[0m\u001b[0;34m'barh'\u001b[0m\u001b[0;34m,\u001b[0m\u001b[0mcolor\u001b[0m\u001b[0;34m=\u001b[0m\u001b[0;34m[\u001b[0m\u001b[0;34m'r'\u001b[0m\u001b[0;34m,\u001b[0m\u001b[0;34m'g'\u001b[0m\u001b[0;34m,\u001b[0m\u001b[0;34m'b'\u001b[0m\u001b[0;34m,\u001b[0m\u001b[0;34m'y'\u001b[0m\u001b[0;34m,\u001b[0m\u001b[0;34m'c'\u001b[0m\u001b[0;34m,\u001b[0m\u001b[0;34m'm'\u001b[0m\u001b[0;34m,\u001b[0m\u001b[0;34m'k'\u001b[0m\u001b[0;34m]\u001b[0m\u001b[0;34m)\u001b[0m\u001b[0;34m\u001b[0m\u001b[0;34m\u001b[0m\u001b[0m\n\u001b[1;32m      4\u001b[0m \u001b[0mplt\u001b[0m\u001b[0;34m.\u001b[0m\u001b[0mshow\u001b[0m\u001b[0;34m(\u001b[0m\u001b[0;34m)\u001b[0m\u001b[0;34m\u001b[0m\u001b[0;34m\u001b[0m\u001b[0m\n",
      "\u001b[0;32m~/anaconda3/envs/adnan_env/lib/python3.7/site-packages/pandas/core/series.py\u001b[0m in \u001b[0;36m__init__\u001b[0;34m(self, data, index, dtype, name, copy, fastpath)\u001b[0m\n\u001b[1;32m    297\u001b[0m                         raise ValueError(\n\u001b[1;32m    298\u001b[0m                             \u001b[0;34m\"Length of passed values is {val}, \"\u001b[0m\u001b[0;34m\u001b[0m\u001b[0;34m\u001b[0m\u001b[0m\n\u001b[0;32m--> 299\u001b[0;31m                             \u001b[0;34m\"index implies {ind}\"\u001b[0m\u001b[0;34m.\u001b[0m\u001b[0mformat\u001b[0m\u001b[0;34m(\u001b[0m\u001b[0mval\u001b[0m\u001b[0;34m=\u001b[0m\u001b[0mlen\u001b[0m\u001b[0;34m(\u001b[0m\u001b[0mdata\u001b[0m\u001b[0;34m)\u001b[0m\u001b[0;34m,\u001b[0m \u001b[0mind\u001b[0m\u001b[0;34m=\u001b[0m\u001b[0mlen\u001b[0m\u001b[0;34m(\u001b[0m\u001b[0mindex\u001b[0m\u001b[0;34m)\u001b[0m\u001b[0;34m)\u001b[0m\u001b[0;34m\u001b[0m\u001b[0;34m\u001b[0m\u001b[0m\n\u001b[0m\u001b[1;32m    300\u001b[0m                         )\n\u001b[1;32m    301\u001b[0m                 \u001b[0;32mexcept\u001b[0m \u001b[0mTypeError\u001b[0m\u001b[0;34m:\u001b[0m\u001b[0;34m\u001b[0m\u001b[0;34m\u001b[0m\u001b[0m\n",
      "\u001b[0;31mValueError\u001b[0m: Length of passed values is 29, index implies 27"
     ]
    }
   ],
   "source": [
    "feat_importances=pd.Series(model.feature_importances_ , index=X.columns)\n",
    "plt.figure(figsize=(6,6))\n",
    "feat_importances.nsmallest(16).plot(kind='barh',color=['r','g','b','y','c','m','k'])\n",
    "plt.show()"
   ]
  },
  {
   "cell_type": "code",
   "execution_count": null,
   "metadata": {},
   "outputs": [],
   "source": []
  },
  {
   "cell_type": "markdown",
   "metadata": {},
   "source": [
    "# =======HYPERPARAMETER TUNING ON ALGOS==========="
   ]
  },
  {
   "cell_type": "markdown",
   "metadata": {},
   "source": [
    "# Decision tree hyper parameter tuning"
   ]
  },
  {
   "cell_type": "code",
   "execution_count": null,
   "metadata": {},
   "outputs": [],
   "source": [
    "from sklearn. tree import DecisionTreeClassifier\n",
    "from sklearn.model_selection import GridSearchCV ,RandomizedSearchCV\n",
    "\n",
    "params = {\"criterion\":(\"gini\", \"entropy\"), \n",
    "          \"splitter\":(\"best\", \"random\"), \n",
    "          \"max_depth\":(list(range(1, 20))), \n",
    "          \"min_samples_split\":[2, 3, 4], \n",
    "          \"min_samples_leaf\":list(range(1, 20))\n",
    "          }\n",
    "\n",
    "\n",
    "tree = DecisionTreeClassifier(random_state=42)\n",
    "grid_search_cv = GridSearchCV(tree, params, scoring=\"accuracy\", verbose=3, n_jobs=-1, cv=3,iid=True)\n",
    "\n",
    "\n",
    "#Verbose is a general programming term for produce lots of logging output.\n",
    "#You can think of it as asking the program to \"tell me everything about what you are doing all the time\".\n",
    "#Just set it to true and see what happens.\n",
    "\n",
    "#iid : boolean, default=True\n",
    "\n",
    "#    If True, the data is assumed to be identically distributed across the folds, and the loss minimized is the total loss per sample, and not the mean loss across the folds.\n",
    "\n",
    "\n",
    "\n",
    "#n_jobs : int, default=1\n",
    "\n",
    "#    Number of jobs to run in parallel."
   ]
  },
  {
   "cell_type": "code",
   "execution_count": 132,
   "metadata": {},
   "outputs": [],
   "source": [
    "#grid_search_cv.fit(X_train, y_train)"
   ]
  },
  {
   "cell_type": "code",
   "execution_count": 133,
   "metadata": {},
   "outputs": [],
   "source": [
    "#grid_search_cv.best_estimator_ "
   ]
  },
  {
   "cell_type": "code",
   "execution_count": 134,
   "metadata": {},
   "outputs": [],
   "source": [
    "#grid_search_cv.best_score_\n",
    "#grid_search_cv.best_params_\n"
   ]
  },
  {
   "cell_type": "code",
   "execution_count": 135,
   "metadata": {},
   "outputs": [
    {
     "data": {
      "text/plain": [
       "'\\nbest_estimator_ : estimator\\n\\n    Estimator that was chosen by the search, i.e. estimator which gave highest score (or smallest loss if specified) on the left out data. Not available if refit=False.\\n\\nbest_score_ : float\\n\\n    Score of best_estimator on the left out data.\\n\\nbest_params_ : dict\\n\\n    Parameter setting that gave the best results on the hold out data.\\n\\nscorer_ : function\\n\\n    Scorer function used on the held out data to choose the best parameters for the model.\")\\n'"
      ]
     },
     "execution_count": 135,
     "metadata": {},
     "output_type": "execute_result"
    }
   ],
   "source": [
    "\n",
    "\"\"\"\n",
    "best_estimator_ : estimator\n",
    "\n",
    "    Estimator that was chosen by the search, i.e. estimator which gave highest score (or smallest loss if specified) on the left out data. Not available if refit=False.\n",
    "\n",
    "best_score_ : float\n",
    "\n",
    "    Score of best_estimator on the left out data.\n",
    "\n",
    "best_params_ : dict\n",
    "\n",
    "    Parameter setting that gave the best results on the hold out data.\n",
    "\n",
    "scorer_ : function\n",
    "\n",
    "    Scorer function used on the held out data to choose the best parameters for the model.\")\n",
    "\"\"\""
   ]
  },
  {
   "cell_type": "code",
   "execution_count": 136,
   "metadata": {},
   "outputs": [],
   "source": [
    "tree = DecisionTreeClassifier(criterion='gini', \n",
    "                              max_depth=3,\n",
    "                              min_samples_leaf=2, \n",
    "                              min_samples_split=2, \n",
    "                              splitter='random')"
   ]
  },
  {
   "cell_type": "code",
   "execution_count": 137,
   "metadata": {},
   "outputs": [
    {
     "name": "stdout",
     "output_type": "stream",
     "text": [
      "Train Result:\n",
      "================================================\n",
      "Accuracy Score: 85.85%\n",
      "_______________________________________________\n",
      "Classification Report:\tPrecision Score: 85.12%\n",
      "\t\t\tRecall Score: 89.57%\n",
      "\t\t\tF1 score: 87.29%\n",
      "_______________________________________________\n",
      "Confusion Matrix: \n",
      " [[ 79  18]\n",
      " [ 12 103]]\n",
      "\n",
      "Test Result:\n",
      "================================================\n",
      "Accuracy Score: 81.32%\n",
      "_______________________________________________\n",
      "Classification Report:\tPrecision Score: 86.67%\n",
      "\t\t\tRecall Score: 78.00%\n",
      "\t\t\tF1 score: 82.11%\n",
      "_______________________________________________\n",
      "Confusion Matrix: \n",
      " [[35  6]\n",
      " [11 39]]\n",
      "\n"
     ]
    }
   ],
   "source": [
    "tree.fit(X_train, y_train)\n",
    "\n",
    "\n",
    "print_score(\"Decision tree\",tree,X_train, y_train, X_test, y_test, train=True)\n",
    "print_score(\"Decision tree\",tree, X_train, y_train, X_test, y_test, train=False)\n"
   ]
  },
  {
   "cell_type": "code",
   "execution_count": null,
   "metadata": {},
   "outputs": [],
   "source": []
  },
  {
   "cell_type": "code",
   "execution_count": null,
   "metadata": {},
   "outputs": [],
   "source": []
  },
  {
   "cell_type": "markdown",
   "metadata": {},
   "source": [
    "# logistic regression"
   ]
  },
  {
   "cell_type": "code",
   "execution_count": 138,
   "metadata": {},
   "outputs": [
    {
     "data": {
      "text/plain": [
       "LogisticRegression(C=1.0, class_weight=None, dual=False, fit_intercept=True,\n",
       "                   intercept_scaling=1, l1_ratio=None, max_iter=100,\n",
       "                   multi_class='warn', n_jobs=None, penalty='l2',\n",
       "                   random_state=42, solver='liblinear', tol=0.0001, verbose=0,\n",
       "                   warm_start=False)"
      ]
     },
     "execution_count": 138,
     "metadata": {},
     "output_type": "execute_result"
    }
   ],
   "source": [
    "from sklearn.linear_model import LogisticRegression\n",
    "\"\"\"\n",
    "params1 = {\"solver\":(\"newton-cg\", \"lbfgs\", \"liblinear\", \"sag\", \"saga\"), \n",
    "           \n",
    "          \"C\":(list(range(1, 100)))  ,\n",
    "           \"multi_class\":(\"auto\", \"ovr\")\n",
    "          }\n",
    "\"\"\"\n",
    "log_reg = LogisticRegression(random_state=42,solver=\"liblinear\")\n",
    "\n",
    "#grid_search_cv = GridSearchCV(log_reg, params1, scoring=\"accuracy\", verbose=3, n_jobs=-1, cv=3,iid=True)\n",
    "\n",
    "#grid_search_cv.fit(X_train, y_train)\n",
    "\n",
    "\n",
    "log_reg.fit(X_train,y_train)"
   ]
  },
  {
   "cell_type": "code",
   "execution_count": 139,
   "metadata": {},
   "outputs": [],
   "source": [
    "#grid_search_cv.best_estimator_ \n",
    "\n"
   ]
  },
  {
   "cell_type": "code",
   "execution_count": 140,
   "metadata": {},
   "outputs": [
    {
     "data": {
      "text/plain": [
       "LogisticRegression(C=1, class_weight=None, dual=False, fit_intercept=True,\n",
       "                   intercept_scaling=1, l1_ratio=None, max_iter=100,\n",
       "                   multi_class='warn', n_jobs=None, penalty='l2',\n",
       "                   random_state=None, solver='newton-cg', tol=0.0001, verbose=0,\n",
       "                   warm_start=False)"
      ]
     },
     "execution_count": 140,
     "metadata": {},
     "output_type": "execute_result"
    }
   ],
   "source": [
    "log_reg = LogisticRegression(C=1,solver=\"newton-cg\")\n",
    "log_reg.fit(X_train,y_train)"
   ]
  },
  {
   "cell_type": "code",
   "execution_count": 141,
   "metadata": {},
   "outputs": [
    {
     "name": "stdout",
     "output_type": "stream",
     "text": [
      "Train Result:\n",
      "================================================\n",
      "Accuracy Score: 86.79%\n",
      "_______________________________________________\n",
      "Classification Report:\tPrecision Score: 85.95%\n",
      "\t\t\tRecall Score: 90.43%\n",
      "\t\t\tF1 score: 88.14%\n",
      "_______________________________________________\n",
      "Confusion Matrix: \n",
      " [[ 80  17]\n",
      " [ 11 104]]\n",
      "\n",
      "Test Result:\n",
      "================================================\n",
      "Accuracy Score: 85.71%\n",
      "_______________________________________________\n",
      "Classification Report:\tPrecision Score: 84.91%\n",
      "\t\t\tRecall Score: 90.00%\n",
      "\t\t\tF1 score: 87.38%\n",
      "_______________________________________________\n",
      "Confusion Matrix: \n",
      " [[33  8]\n",
      " [ 5 45]]\n",
      "\n"
     ]
    }
   ],
   "source": [
    "print_score(\"Logistic regression\",log_reg, X_train, y_train, X_test, y_test, train=True)\n",
    "print_score(\"Logistic regression\",log_reg, X_train, y_train, X_test, y_test, train=False)"
   ]
  },
  {
   "cell_type": "code",
   "execution_count": 142,
   "metadata": {},
   "outputs": [],
   "source": [
    "from sklearn import svm"
   ]
  },
  {
   "cell_type": "code",
   "execution_count": 143,
   "metadata": {},
   "outputs": [],
   "source": [
    "params= {'C': [0.1, 1, 10, 100, 1000],  \n",
    "              'gamma': [1, 0.1, 0.01, 0.001, 0.0001], \n",
    "              'kernel': ['rbf']}  "
   ]
  },
  {
   "cell_type": "code",
   "execution_count": 144,
   "metadata": {},
   "outputs": [],
   "source": [
    "svm1 = svm.SVC(kernel='linear') \n",
    "#svmrn=RandomizedSearchCV(svm1,param_distributions=params,n_iter=5,scoring='roc_auc',n_jobs=-1,cv=5,verbose=3,iid=True);\n"
   ]
  },
  {
   "cell_type": "code",
   "execution_count": 145,
   "metadata": {},
   "outputs": [],
   "source": [
    "#svmrn.fit(X_train, y_train)"
   ]
  },
  {
   "cell_type": "code",
   "execution_count": 146,
   "metadata": {},
   "outputs": [],
   "source": [
    "#svmrn.best_estimator_"
   ]
  },
  {
   "cell_type": "code",
   "execution_count": 147,
   "metadata": {},
   "outputs": [],
   "source": [
    "svm1=svm.SVC(C=10, cache_size=200, class_weight=None, coef0=0.0,\n",
    "    decision_function_shape='ovr', degree=3, gamma=0.001, kernel='rbf',\n",
    "    max_iter=-1, probability=False, random_state=None, shrinking=True,\n",
    "    tol=0.001, verbose=False)"
   ]
  },
  {
   "cell_type": "code",
   "execution_count": 148,
   "metadata": {},
   "outputs": [
    {
     "data": {
      "text/plain": [
       "SVC(C=10, cache_size=200, class_weight=None, coef0=0.0,\n",
       "    decision_function_shape='ovr', degree=3, gamma=0.001, kernel='rbf',\n",
       "    max_iter=-1, probability=False, random_state=None, shrinking=True,\n",
       "    tol=0.001, verbose=False)"
      ]
     },
     "execution_count": 148,
     "metadata": {},
     "output_type": "execute_result"
    }
   ],
   "source": [
    "svm1.fit(X_train, y_train)"
   ]
  },
  {
   "cell_type": "code",
   "execution_count": 149,
   "metadata": {},
   "outputs": [
    {
     "name": "stdout",
     "output_type": "stream",
     "text": [
      "Train Result:\n",
      "================================================\n",
      "Accuracy Score: 86.79%\n",
      "_______________________________________________\n",
      "Classification Report:\tPrecision Score: 85.95%\n",
      "\t\t\tRecall Score: 90.43%\n",
      "\t\t\tF1 score: 88.14%\n",
      "_______________________________________________\n",
      "Confusion Matrix: \n",
      " [[ 80  17]\n",
      " [ 11 104]]\n",
      "\n",
      "Test Result:\n",
      "================================================\n",
      "Accuracy Score: 85.71%\n",
      "_______________________________________________\n",
      "Classification Report:\tPrecision Score: 84.91%\n",
      "\t\t\tRecall Score: 90.00%\n",
      "\t\t\tF1 score: 87.38%\n",
      "_______________________________________________\n",
      "Confusion Matrix: \n",
      " [[33  8]\n",
      " [ 5 45]]\n",
      "\n"
     ]
    }
   ],
   "source": [
    "print_score(\"SVM\",log_reg, X_train, y_train, X_test, y_test, train=True)\n",
    "print_score(\"SVM\",log_reg, X_train, y_train, X_test, y_test, train=False)"
   ]
  },
  {
   "cell_type": "code",
   "execution_count": 150,
   "metadata": {},
   "outputs": [
    {
     "data": {
      "text/plain": [
       "{'Decision tree testing f1 score': 82.10526315789474,\n",
       " 'Logistic regression testing f1 score': 87.37864077669903,\n",
       " 'SVM testing f1 score': 87.37864077669903,\n",
       " 'KNN testing f1 score': 87.12871287128714,\n",
       " 'Random forest testing f1 score': 83.99999999999999,\n",
       " 'xgboost testing f1 score': 85.99999999999999,\n",
       " 'Voting Classifier testing f1 score': 83.99999999999999}"
      ]
     },
     "execution_count": 150,
     "metadata": {},
     "output_type": "execute_result"
    }
   ],
   "source": [
    "f1_test1"
   ]
  },
  {
   "cell_type": "markdown",
   "metadata": {},
   "source": [
    "# KNN algorithm"
   ]
  },
  {
   "cell_type": "code",
   "execution_count": 151,
   "metadata": {},
   "outputs": [
    {
     "name": "stdout",
     "output_type": "stream",
     "text": [
      "Train Result:\n",
      "================================================\n",
      "Accuracy Score: 84.43%\n",
      "_______________________________________________\n",
      "Classification Report:\tPrecision Score: 82.54%\n",
      "\t\t\tRecall Score: 90.43%\n",
      "\t\t\tF1 score: 86.31%\n",
      "_______________________________________________\n",
      "Confusion Matrix: \n",
      " [[ 75  22]\n",
      " [ 11 104]]\n",
      "\n",
      "Test Result:\n",
      "================================================\n",
      "Accuracy Score: 89.01%\n",
      "_______________________________________________\n",
      "Classification Report:\tPrecision Score: 87.04%\n",
      "\t\t\tRecall Score: 94.00%\n",
      "\t\t\tF1 score: 90.38%\n",
      "_______________________________________________\n",
      "Confusion Matrix: \n",
      " [[34  7]\n",
      " [ 3 47]]\n",
      "\n"
     ]
    }
   ],
   "source": [
    "from sklearn.neighbors import KNeighborsClassifier\n",
    "\n",
    "train_score = []\n",
    "test_score = []\n",
    "neighbors = range(1, 21)\n",
    "\n",
    "for k in neighbors:\n",
    "    model = KNeighborsClassifier(n_neighbors=k)\n",
    "    model.fit(X_train, y_train)\n",
    "    train_score.append(accuracy_score(y_train, model.predict(X_train)))\n",
    "    test_score.append(accuracy_score(y_test, model.predict(X_test)))\n",
    "\n",
    "    \n",
    "knn_classifier = KNeighborsClassifier(n_neighbors=19)\n",
    "knn_classifier.fit(X_train, y_train)\n",
    "\n",
    "print_score(\"KNN\",knn_classifier, X_train, y_train, X_test, y_test, train=True)\n",
    "print_score(\"KNN\",knn_classifier, X_train, y_train, X_test, y_test, train=False)\n"
   ]
  },
  {
   "cell_type": "markdown",
   "metadata": {},
   "source": [
    "# Random forest"
   ]
  },
  {
   "cell_type": "code",
   "execution_count": 152,
   "metadata": {},
   "outputs": [
    {
     "data": {
      "text/plain": [
       "'\\n    n_estimators = number of trees in the foreset\\n    \\n    max_features = max number of features considered for splitting a node\\n    \\n    max_depth = max number of levels in each decision tree\\n    \\n    min_samples_split = min number of data points placed in a node before the node is split\\n    \\n    min_samples_leaf = min number of data points allowed in a leaf node\\n    \\n    bootstrap = method for sampling data points (with or without replacement)\\n\\n'"
      ]
     },
     "execution_count": 152,
     "metadata": {},
     "output_type": "execute_result"
    }
   ],
   "source": [
    "from sklearn.ensemble import RandomForestClassifier\n",
    "\n",
    "\"\"\"\n",
    "n_estimators = [int(x) for x in np.linspace(start=200, stop=2000, num=10)]\n",
    "max_features = ['auto', 'sqrt']\n",
    "max_depth = [int(x) for x in np.linspace(10, 110, num=11)]\n",
    "max_depth.append(None)\n",
    "min_samples_split = [2, 5, 10]\n",
    "min_samples_leaf = [1, 2, 4]\n",
    "bootstrap = [True, False]\n",
    "\n",
    "random_grid = {'n_estimators': n_estimators, 'max_features': max_features,\n",
    "               'max_depth': max_depth, 'min_samples_split': min_samples_split,\n",
    "               'min_samples_leaf': min_samples_leaf, 'bootstrap': bootstrap}\n",
    "\n",
    "rand_forest = RandomForestClassifier()\n",
    "\n",
    "grid_search_cv2 = GridSearchCV(rand_forest, random_grid, scoring=\"accuracy\", verbose=3, n_jobs=-1, cv=3,iid=True)\n",
    "\n",
    "\"\"\"\n",
    "\"\"\"\n",
    "    n_estimators = number of trees in the foreset\n",
    "    \n",
    "    max_features = max number of features considered for splitting a node\n",
    "    \n",
    "    max_depth = max number of levels in each decision tree\n",
    "    \n",
    "    min_samples_split = min number of data points placed in a node before the node is split\n",
    "    \n",
    "    min_samples_leaf = min number of data points allowed in a leaf node\n",
    "    \n",
    "    bootstrap = method for sampling data points (with or without replacement)\n",
    "\n",
    "\"\"\""
   ]
  },
  {
   "cell_type": "code",
   "execution_count": null,
   "metadata": {},
   "outputs": [],
   "source": []
  },
  {
   "cell_type": "code",
   "execution_count": 153,
   "metadata": {},
   "outputs": [],
   "source": [
    "#grid_search_cv2.fit(X_train, y_train)"
   ]
  },
  {
   "cell_type": "code",
   "execution_count": 154,
   "metadata": {},
   "outputs": [],
   "source": [
    "#grid_search_cv2.best_params_\n",
    "#rand_forest.fit(X_train, y_train)\n",
    "\n",
    "rand_forest = RandomForestClassifier(bootstrap= True,max_depth= 10, min_samples_split= 5, n_estimators= 200)\n",
    "\n"
   ]
  },
  {
   "cell_type": "code",
   "execution_count": 155,
   "metadata": {},
   "outputs": [
    {
     "data": {
      "text/plain": [
       "RandomForestClassifier(bootstrap=True, class_weight=None, criterion='gini',\n",
       "                       max_depth=10, max_features='auto', max_leaf_nodes=None,\n",
       "                       min_impurity_decrease=0.0, min_impurity_split=None,\n",
       "                       min_samples_leaf=1, min_samples_split=5,\n",
       "                       min_weight_fraction_leaf=0.0, n_estimators=200,\n",
       "                       n_jobs=None, oob_score=False, random_state=None,\n",
       "                       verbose=0, warm_start=False)"
      ]
     },
     "execution_count": 155,
     "metadata": {},
     "output_type": "execute_result"
    }
   ],
   "source": [
    "rand_forest.fit(X_train,y_train)"
   ]
  },
  {
   "cell_type": "code",
   "execution_count": 156,
   "metadata": {},
   "outputs": [
    {
     "name": "stdout",
     "output_type": "stream",
     "text": [
      "Train Result:\n",
      "================================================\n",
      "Accuracy Score: 97.64%\n",
      "_______________________________________________\n",
      "Classification Report:\tPrecision Score: 98.25%\n",
      "\t\t\tRecall Score: 97.39%\n",
      "\t\t\tF1 score: 97.82%\n",
      "_______________________________________________\n",
      "Confusion Matrix: \n",
      " [[ 95   2]\n",
      " [  3 112]]\n",
      "\n",
      "Test Result:\n",
      "================================================\n",
      "Accuracy Score: 80.22%\n",
      "_______________________________________________\n",
      "Classification Report:\tPrecision Score: 83.33%\n",
      "\t\t\tRecall Score: 80.00%\n",
      "\t\t\tF1 score: 81.63%\n",
      "_______________________________________________\n",
      "Confusion Matrix: \n",
      " [[33  8]\n",
      " [10 40]]\n",
      "\n"
     ]
    }
   ],
   "source": [
    "print_score(\"Random forest\",rand_forest, X_train, y_train, X_test, y_test, train=True)\n",
    "print_score(\"Random forest\",rand_forest, X_train, y_train, X_test, y_test, train=False)"
   ]
  },
  {
   "cell_type": "code",
   "execution_count": 157,
   "metadata": {},
   "outputs": [],
   "source": [
    "#grid_search_cv2.best_estimator_ "
   ]
  },
  {
   "cell_type": "code",
   "execution_count": 158,
   "metadata": {},
   "outputs": [],
   "source": [
    "import matplotlib.pyplot as plt"
   ]
  },
  {
   "cell_type": "markdown",
   "metadata": {},
   "source": [
    "# Xgboost"
   ]
  },
  {
   "cell_type": "code",
   "execution_count": 159,
   "metadata": {},
   "outputs": [],
   "source": [
    "params={\n",
    "    \"learning_rate\" :  [0.05,0.10,0.15,0.20,0.25,0.30],\n",
    "    \"max_depth\" : [3,4,5,6,8,10,12,15],\n",
    "    \"min_child_weight\" : [1,3,5,7],\n",
    "    \"gamma\" : [0.0,0.1,0.2,0.3,0.4],\n",
    "    \"colsample_bytree\" : [0.3,0.4,0.5,0.7]\n",
    "}"
   ]
  },
  {
   "cell_type": "code",
   "execution_count": 160,
   "metadata": {},
   "outputs": [],
   "source": [
    "from xgboost import XGBClassifier "
   ]
  },
  {
   "cell_type": "code",
   "execution_count": 161,
   "metadata": {},
   "outputs": [
    {
     "name": "stdout",
     "output_type": "stream",
     "text": [
      "Fitting 5 folds for each of 5 candidates, totalling 25 fits\n"
     ]
    },
    {
     "name": "stderr",
     "output_type": "stream",
     "text": [
      "[Parallel(n_jobs=-1)]: Using backend LokyBackend with 4 concurrent workers.\n",
      "[Parallel(n_jobs=-1)]: Done  25 out of  25 | elapsed:    2.0s finished\n"
     ]
    },
    {
     "data": {
      "text/plain": [
       "RandomizedSearchCV(cv=5, error_score='raise-deprecating',\n",
       "                   estimator=XGBClassifier(base_score=0.5, booster='gbtree',\n",
       "                                           colsample_bylevel=1,\n",
       "                                           colsample_bynode=1,\n",
       "                                           colsample_bytree=1, gamma=0,\n",
       "                                           learning_rate=0.1, max_delta_step=0,\n",
       "                                           max_depth=3, min_child_weight=1,\n",
       "                                           missing=None, n_estimators=100,\n",
       "                                           n_jobs=1, nthread=None,\n",
       "                                           objective='binary:logistic',\n",
       "                                           random_state=0, reg_alpha=0...\n",
       "                                           seed=None, silent=None, subsample=1,\n",
       "                                           verbosity=1),\n",
       "                   iid=True, n_iter=5, n_jobs=-1,\n",
       "                   param_distributions={'colsample_bytree': [0.3, 0.4, 0.5,\n",
       "                                                             0.7],\n",
       "                                        'gamma': [0.0, 0.1, 0.2, 0.3, 0.4],\n",
       "                                        'learning_rate': [0.05, 0.1, 0.15, 0.2,\n",
       "                                                          0.25, 0.3],\n",
       "                                        'max_depth': [3, 4, 5, 6, 8, 10, 12,\n",
       "                                                      15],\n",
       "                                        'min_child_weight': [1, 3, 5, 7]},\n",
       "                   pre_dispatch='2*n_jobs', random_state=None, refit=True,\n",
       "                   return_train_score=False, scoring='roc_auc', verbose=3)"
      ]
     },
     "execution_count": 161,
     "metadata": {},
     "output_type": "execute_result"
    }
   ],
   "source": [
    "xgboost1 = XGBClassifier()\n",
    "xgboost1=RandomizedSearchCV(xgboost1,param_distributions=params,n_iter=5,scoring='roc_auc',n_jobs=-1,cv=5,verbose=3,iid=True);\n",
    "xgboost1.fit(X_train, y_train)"
   ]
  },
  {
   "cell_type": "code",
   "execution_count": 162,
   "metadata": {},
   "outputs": [
    {
     "data": {
      "text/plain": [
       "XGBClassifier(base_score=0.5, booster='gbtree', colsample_bylevel=1,\n",
       "              colsample_bynode=1, colsample_bytree=0.4, gamma=0.3,\n",
       "              learning_rate=0.15, max_delta_step=0, max_depth=15,\n",
       "              min_child_weight=5, missing=None, n_estimators=100, n_jobs=1,\n",
       "              nthread=None, objective='binary:logistic', random_state=0,\n",
       "              reg_alpha=0, reg_lambda=1, scale_pos_weight=1, seed=None,\n",
       "              silent=None, subsample=1, verbosity=1)"
      ]
     },
     "execution_count": 162,
     "metadata": {},
     "output_type": "execute_result"
    }
   ],
   "source": [
    "xgboost1.best_estimator_\n",
    "\n"
   ]
  },
  {
   "cell_type": "code",
   "execution_count": 163,
   "metadata": {},
   "outputs": [],
   "source": [
    "xgboost1=XGBClassifier(base_score=0.5, booster='gbtree', colsample_bylevel=1,\n",
    "              colsample_bynode=1, colsample_bytree=0.7, gamma=0.4,\n",
    "              learning_rate=0.25, max_delta_step=0, max_depth=8,\n",
    "              min_child_weight=7, missing=None, n_estimators=100, n_jobs=1,\n",
    "              nthread=None, objective='binary:logistic', random_state=0,\n",
    "              reg_alpha=0, reg_lambda=1, scale_pos_weight=1, seed=None,\n",
    "              silent=None, subsample=1, verbosity=1)\n"
   ]
  },
  {
   "cell_type": "code",
   "execution_count": 164,
   "metadata": {},
   "outputs": [],
   "source": [
    "xgboost1.fit(X_train, y_train);"
   ]
  },
  {
   "cell_type": "code",
   "execution_count": 165,
   "metadata": {},
   "outputs": [
    {
     "name": "stdout",
     "output_type": "stream",
     "text": [
      "Train Result:\n",
      "================================================\n",
      "Accuracy Score: 90.57%\n",
      "_______________________________________________\n",
      "Classification Report:\tPrecision Score: 90.60%\n",
      "\t\t\tRecall Score: 92.17%\n",
      "\t\t\tF1 score: 91.38%\n",
      "_______________________________________________\n",
      "Confusion Matrix: \n",
      " [[ 86  11]\n",
      " [  9 106]]\n",
      "\n",
      "Test Result:\n",
      "================================================\n",
      "Accuracy Score: 84.62%\n",
      "_______________________________________________\n",
      "Classification Report:\tPrecision Score: 84.62%\n",
      "\t\t\tRecall Score: 88.00%\n",
      "\t\t\tF1 score: 86.27%\n",
      "_______________________________________________\n",
      "Confusion Matrix: \n",
      " [[33  8]\n",
      " [ 6 44]]\n",
      "\n"
     ]
    }
   ],
   "source": [
    "print_score(\"xgboost\",xgboost1, X_train, y_train, X_test, y_test, train=True)\n",
    "print_score(\"xgboost\",xgboost1, X_train, y_train, X_test, y_test, train=False)"
   ]
  },
  {
   "cell_type": "code",
   "execution_count": null,
   "metadata": {},
   "outputs": [],
   "source": []
  },
  {
   "cell_type": "code",
   "execution_count": null,
   "metadata": {},
   "outputs": [],
   "source": []
  },
  {
   "cell_type": "code",
   "execution_count": null,
   "metadata": {},
   "outputs": [],
   "source": []
  },
  {
   "cell_type": "markdown",
   "metadata": {},
   "source": [
    "# Voting classifier"
   ]
  },
  {
   "cell_type": "code",
   "execution_count": 166,
   "metadata": {},
   "outputs": [],
   "source": [
    "from sklearn.ensemble import  VotingClassifier"
   ]
  },
  {
   "cell_type": "code",
   "execution_count": 167,
   "metadata": {},
   "outputs": [],
   "source": [
    "voting_clif = VotingClassifier(estimators=[\n",
    "    ('tree',tree),('lr',log_reg),('knn',knn_classifier),('rf',rand_forest)], \n",
    "                               voting='hard')"
   ]
  },
  {
   "cell_type": "code",
   "execution_count": 168,
   "metadata": {},
   "outputs": [
    {
     "data": {
      "text/plain": [
       "VotingClassifier(estimators=[('tree',\n",
       "                              DecisionTreeClassifier(class_weight=None,\n",
       "                                                     criterion='gini',\n",
       "                                                     max_depth=3,\n",
       "                                                     max_features=None,\n",
       "                                                     max_leaf_nodes=None,\n",
       "                                                     min_impurity_decrease=0.0,\n",
       "                                                     min_impurity_split=None,\n",
       "                                                     min_samples_leaf=2,\n",
       "                                                     min_samples_split=2,\n",
       "                                                     min_weight_fraction_leaf=0.0,\n",
       "                                                     presort=False,\n",
       "                                                     random_state=None,\n",
       "                                                     splitter='random')),\n",
       "                             ('lr',\n",
       "                              LogisticRegression(C=1, class_...\n",
       "                                                     class_weight=None,\n",
       "                                                     criterion='gini',\n",
       "                                                     max_depth=10,\n",
       "                                                     max_features='auto',\n",
       "                                                     max_leaf_nodes=None,\n",
       "                                                     min_impurity_decrease=0.0,\n",
       "                                                     min_impurity_split=None,\n",
       "                                                     min_samples_leaf=1,\n",
       "                                                     min_samples_split=5,\n",
       "                                                     min_weight_fraction_leaf=0.0,\n",
       "                                                     n_estimators=200,\n",
       "                                                     n_jobs=None,\n",
       "                                                     oob_score=False,\n",
       "                                                     random_state=None,\n",
       "                                                     verbose=0,\n",
       "                                                     warm_start=False))],\n",
       "                 flatten_transform=True, n_jobs=None, voting='hard',\n",
       "                 weights=None)"
      ]
     },
     "execution_count": 168,
     "metadata": {},
     "output_type": "execute_result"
    }
   ],
   "source": [
    "voting_clif.fit(X_train,y_train)"
   ]
  },
  {
   "cell_type": "code",
   "execution_count": 169,
   "metadata": {},
   "outputs": [],
   "source": [
    "for clf in (tree,log_reg,knn_classifier,rand_forest,voting_clif):\n",
    "    voting_clif.fit(X_train,y_train)\n",
    "    y_pred=clf.predict(X_test)"
   ]
  },
  {
   "cell_type": "code",
   "execution_count": null,
   "metadata": {},
   "outputs": [],
   "source": []
  },
  {
   "cell_type": "code",
   "execution_count": 170,
   "metadata": {},
   "outputs": [
    {
     "name": "stdout",
     "output_type": "stream",
     "text": [
      "Train Result:\n",
      "================================================\n",
      "Accuracy Score: 88.68%\n",
      "_______________________________________________\n",
      "Classification Report:\tPrecision Score: 89.57%\n",
      "\t\t\tRecall Score: 89.57%\n",
      "\t\t\tF1 score: 89.57%\n",
      "_______________________________________________\n",
      "Confusion Matrix: \n",
      " [[ 85  12]\n",
      " [ 12 103]]\n",
      "\n",
      "Test Result:\n",
      "================================================\n",
      "Accuracy Score: 83.52%\n",
      "_______________________________________________\n",
      "Classification Report:\tPrecision Score: 84.31%\n",
      "\t\t\tRecall Score: 86.00%\n",
      "\t\t\tF1 score: 85.15%\n",
      "_______________________________________________\n",
      "Confusion Matrix: \n",
      " [[33  8]\n",
      " [ 7 43]]\n",
      "\n"
     ]
    }
   ],
   "source": [
    "print_score(\"Voting Classifier\", voting_clif,X_train, y_train, X_test, y_test, train=True)\n",
    "print_score(\"Voting Classifier\",voting_clif, X_train, y_train, X_test, y_test, train=False)"
   ]
  },
  {
   "cell_type": "markdown",
   "metadata": {},
   "source": [
    "# whole accuracy"
   ]
  },
  {
   "cell_type": "markdown",
   "metadata": {},
   "source": [
    "below are returned scores from print_scores() fucntion"
   ]
  },
  {
   "cell_type": "code",
   "execution_count": null,
   "metadata": {},
   "outputs": [],
   "source": []
  },
  {
   "cell_type": "code",
   "execution_count": 171,
   "metadata": {},
   "outputs": [],
   "source": [
    "#test_scores=[test_score1,test_score2,test_score3,test_score4,test_score5]\n",
    "\n",
    "\n",
    "algos_names=[\"Decision\\ntree\", \"Logistic\\nregression\",\"SVM\", \"KNN\", \"Random\\nforest\",\"xgboost\", \"Voting\\nClassifier\"]\n",
    "train_score_=list(train_score_1.values())\n",
    "test_score_=list(test_score_1.values())\n",
    "f1_test=list(f1_test1.values())\n",
    "precision_test=list(precision_test1.values())\n",
    "recall_test=list(recall_test1.values())\n",
    "f1_train=list(f1_train1.values())\n",
    "precision_train=list(precision_train1.values())\n",
    "recall_train=list(recall_train1.values())\n",
    "\n",
    "\n"
   ]
  },
  {
   "cell_type": "code",
   "execution_count": 172,
   "metadata": {},
   "outputs": [
    {
     "data": {
      "text/html": [
       "<div>\n",
       "<style scoped>\n",
       "    .dataframe tbody tr th:only-of-type {\n",
       "        vertical-align: middle;\n",
       "    }\n",
       "\n",
       "    .dataframe tbody tr th {\n",
       "        vertical-align: top;\n",
       "    }\n",
       "\n",
       "    .dataframe thead th {\n",
       "        text-align: right;\n",
       "    }\n",
       "</style>\n",
       "<table border=\"1\" class=\"dataframe\">\n",
       "  <thead>\n",
       "    <tr style=\"text-align: right;\">\n",
       "      <th></th>\n",
       "      <th>Model</th>\n",
       "      <th>Training Accuracy %</th>\n",
       "      <th>Testing Accuracy %</th>\n",
       "      <th>f1 test %</th>\n",
       "      <th>f1 train %</th>\n",
       "      <th>Precision test %</th>\n",
       "      <th>Precision train %</th>\n",
       "      <th>Recall test %</th>\n",
       "      <th>Recall train %</th>\n",
       "    </tr>\n",
       "  </thead>\n",
       "  <tbody>\n",
       "    <tr>\n",
       "      <td>0</td>\n",
       "      <td>Random forest</td>\n",
       "      <td>97.64</td>\n",
       "      <td>80.22</td>\n",
       "      <td>81.63</td>\n",
       "      <td>81.63</td>\n",
       "      <td>83.33</td>\n",
       "      <td>83.33</td>\n",
       "      <td>80.00</td>\n",
       "      <td>97.39</td>\n",
       "    </tr>\n",
       "    <tr>\n",
       "      <td>1</td>\n",
       "      <td>KNN</td>\n",
       "      <td>84.43</td>\n",
       "      <td>89.01</td>\n",
       "      <td>90.38</td>\n",
       "      <td>90.38</td>\n",
       "      <td>87.04</td>\n",
       "      <td>87.04</td>\n",
       "      <td>94.00</td>\n",
       "      <td>90.43</td>\n",
       "    </tr>\n",
       "    <tr>\n",
       "      <td>2</td>\n",
       "      <td>Decision tree</td>\n",
       "      <td>85.85</td>\n",
       "      <td>85.85</td>\n",
       "      <td>82.11</td>\n",
       "      <td>82.11</td>\n",
       "      <td>86.67</td>\n",
       "      <td>86.67</td>\n",
       "      <td>78.00</td>\n",
       "      <td>89.57</td>\n",
       "    </tr>\n",
       "    <tr>\n",
       "      <td>3</td>\n",
       "      <td>Logistic Regression</td>\n",
       "      <td>86.79</td>\n",
       "      <td>85.71</td>\n",
       "      <td>87.38</td>\n",
       "      <td>87.38</td>\n",
       "      <td>84.91</td>\n",
       "      <td>84.91</td>\n",
       "      <td>90.00</td>\n",
       "      <td>90.43</td>\n",
       "    </tr>\n",
       "    <tr>\n",
       "      <td>4</td>\n",
       "      <td>SVM</td>\n",
       "      <td>86.79</td>\n",
       "      <td>85.71</td>\n",
       "      <td>87.38</td>\n",
       "      <td>87.38</td>\n",
       "      <td>84.91</td>\n",
       "      <td>84.91</td>\n",
       "      <td>90.00</td>\n",
       "      <td>90.43</td>\n",
       "    </tr>\n",
       "    <tr>\n",
       "      <td>5</td>\n",
       "      <td>xgboost</td>\n",
       "      <td>90.57</td>\n",
       "      <td>84.62</td>\n",
       "      <td>86.27</td>\n",
       "      <td>86.27</td>\n",
       "      <td>84.62</td>\n",
       "      <td>84.62</td>\n",
       "      <td>88.00</td>\n",
       "      <td>92.17</td>\n",
       "    </tr>\n",
       "    <tr>\n",
       "      <td>6</td>\n",
       "      <td>Voting classfier</td>\n",
       "      <td>88.68</td>\n",
       "      <td>83.52</td>\n",
       "      <td>85.15</td>\n",
       "      <td>85.15</td>\n",
       "      <td>84.31</td>\n",
       "      <td>84.31</td>\n",
       "      <td>86.00</td>\n",
       "      <td>89.57</td>\n",
       "    </tr>\n",
       "  </tbody>\n",
       "</table>\n",
       "</div>"
      ],
      "text/plain": [
       "                 Model  Training Accuracy %  Testing Accuracy %  f1 test %  \\\n",
       "0        Random forest                97.64               80.22      81.63   \n",
       "1                  KNN                84.43               89.01      90.38   \n",
       "2        Decision tree                85.85               85.85      82.11   \n",
       "3  Logistic Regression                86.79               85.71      87.38   \n",
       "4                  SVM                86.79               85.71      87.38   \n",
       "5              xgboost                90.57               84.62      86.27   \n",
       "6     Voting classfier                88.68               83.52      85.15   \n",
       "\n",
       "   f1 train %  Precision test %  Precision train %  Recall test %  \\\n",
       "0       81.63             83.33              83.33          80.00   \n",
       "1       90.38             87.04              87.04          94.00   \n",
       "2       82.11             86.67              86.67          78.00   \n",
       "3       87.38             84.91              84.91          90.00   \n",
       "4       87.38             84.91              84.91          90.00   \n",
       "5       86.27             84.62              84.62          88.00   \n",
       "6       85.15             84.31              84.31          86.00   \n",
       "\n",
       "   Recall train %  \n",
       "0           97.39  \n",
       "1           90.43  \n",
       "2           89.57  \n",
       "3           90.43  \n",
       "4           90.43  \n",
       "5           92.17  \n",
       "6           89.57  "
      ]
     },
     "execution_count": 172,
     "metadata": {},
     "output_type": "execute_result"
    }
   ],
   "source": [
    "test_score5 = accuracy_score(y_test, voting_clif.predict(X_test)) *100\n",
    "train_score5 = accuracy_score(y_train, voting_clif.predict(X_train)) *100\n",
    "\n",
    "results_df = pd.DataFrame(data=[[\"Random forest\",train_score_[4],test_score_[4],f1_test[4],f1_test[4],precision_test[4],precision_test[4],recall_test[4],recall_train[4]],\n",
    "                                [\"KNN\",train_score_[3],test_score_[3],f1_test[3],f1_test[3],precision_test[3],precision_test[3],recall_test[3],recall_train[3]],\n",
    "                                [\"Decision tree\",train_score_[0],train_score_[0],f1_test[0],f1_test[0],precision_test[0],precision_test[0],recall_test[0],recall_train[0]],\n",
    "                                [\"Logistic Regression\", train_score_[1], test_score_[1],f1_test[1],f1_test[1],precision_test[1],precision_test[1],recall_test[1],recall_train[1]],\n",
    "                                [\"SVM\", train_score_[2], test_score_[2],f1_test[2],f1_test[2],precision_test[2],precision_test[2],recall_test[2],recall_train[2]],\n",
    "                                [\"xgboost\",train_score_[5],test_score_[5],f1_test[5],f1_test[5],precision_test[5],precision_test[5],recall_test[5],recall_train[5]],\n",
    "                                \n",
    "                                [\"Voting classfier\",train_score_[6],test_score_[6],f1_test[6],f1_test[6],precision_test[6],precision_test[6],recall_test[6],recall_train[6]]\n",
    "                               ], \n",
    "                          columns=['Model', 'Training Accuracy %', 'Testing Accuracy %'\n",
    "                                  ,'f1 test %','f1 train %','Precision test %','Precision train %','Recall test %','Recall train %'])\n",
    "results_df\n",
    "                                \n",
    "            "
   ]
  },
  {
   "cell_type": "code",
   "execution_count": null,
   "metadata": {},
   "outputs": [],
   "source": []
  },
  {
   "cell_type": "markdown",
   "metadata": {},
   "source": [
    "# Training Plots"
   ]
  },
  {
   "cell_type": "code",
   "execution_count": 174,
   "metadata": {},
   "outputs": [
    {
     "data": {
      "image/png": "[encoded data removed]",
      "text/plain": [
       "<Figure size 1080x1080 with 4 Axes>"
      ]
     },
     "metadata": {
      "needs_background": "light"
     },
     "output_type": "display_data"
    }
   ],
   "source": [
    "plt.figure(figsize=(15,15))\n",
    "plt.subplot(2,2,1)\n",
    "plt.title(\"Training Accuracy  plot of algrothims\",fontweight=\"bold\")\n",
    "\n",
    "plt.xlabel(\"Algorithms \",fontweight=\"bold\")\n",
    "plt.ylabel(\"Accuracy\",fontweight=\"bold\")\n",
    "plt.bar(algos_names,train_score_\n",
    "                 ,color=['r','b','g','y','m']);\n",
    "\n",
    "plt.subplot(2,2,2)\n",
    "\n",
    "\n",
    "plt.title(\" f1 train score plot of algrothims\",fontweight=\"bold\")\n",
    "\n",
    "\n",
    "plt.xlabel(\"Algorithms \",fontweight=\"bold\")\n",
    "plt.ylabel(\"Score\",fontweight=\"bold\")\n",
    "\n",
    "plt.bar(algos_names,f1_train,color=['r','b','g','y','m']);\n",
    "\n",
    "\n",
    "plt.subplot(2,2,3)\n",
    "\n",
    "plt.title(\" Precision train score plot of algrothims\",fontweight=\"bold\")\n",
    "\n",
    "\n",
    "plt.xlabel(\"Algorithms \",fontweight=\"bold\")\n",
    "plt.ylabel(\"Score\",fontweight=\"bold\")\n",
    "\n",
    "plt.bar(algos_names,precision_train,color=['r','b','g','y','m']);\n",
    "\n",
    "\n",
    "\n",
    "plt.subplot(2,2,4)\n",
    "\n",
    "plt.title(\" recall train score plot of algrothims\",fontweight=\"bold\")\n",
    "\n",
    "\n",
    "plt.xlabel(\"Algorithms \",fontweight=\"bold\")\n",
    "plt.ylabel(\"Score\",fontweight=\"bold\")\n",
    "\n",
    "plt.bar(algos_names,recall_train,color=['r','b','g','y','m']);\n"
   ]
  },
  {
   "cell_type": "code",
   "execution_count": null,
   "metadata": {},
   "outputs": [],
   "source": []
  },
  {
   "cell_type": "markdown",
   "metadata": {},
   "source": [
    "# Test plots"
   ]
  },
  {
   "cell_type": "code",
   "execution_count": 177,
   "metadata": {},
   "outputs": [
    {
     "data": {
      "image/png": "[encoded data removed]",
      "text/plain": [
       "<Figure size 1080x1080 with 4 Axes>"
      ]
     },
     "metadata": {
      "needs_background": "light"
     },
     "output_type": "display_data"
    }
   ],
   "source": [
    "\n",
    "plt.figure(figsize=(15,15))\n",
    "plt.subplot(2,2,1)\n",
    "plt.title(\"Testing Accuracy  plot of algrothims\",fontweight=\"bold\")\n",
    "\n",
    "\n",
    "plt.xlabel(\"Algorithms\",fontweight=\"bold\")\n",
    "plt.ylabel(\"Accuracy\",fontweight=\"bold\")\n",
    "\n",
    "plt.bar(algos_names,test_score_,color=['r','b','g','y','m']);\n",
    "\n",
    "\n",
    "\n",
    "plt.subplot(2,2,2)\n",
    "plt.title(\" f1 test score plot of algrothims\",fontweight=\"bold\")\n",
    "\n",
    "\n",
    "plt.xlabel(\"Algorithms \",fontweight=\"bold\")\n",
    "plt.ylabel(\"f1 score\",fontweight=\"bold\")\n",
    "\n",
    "plt.bar(algos_names,f1_test,color=['r','b','g','y','m']);\n",
    "\n",
    "\n",
    "\n",
    "plt.subplot(2,2,3)\n",
    "plt.title(\" precision test score plot of algrothims\",fontweight=\"bold\")\n",
    "\n",
    "\n",
    "plt.xlabel(\"Algorithms \",fontweight=\"bold\")\n",
    "plt.ylabel(\"precision\",fontweight=\"bold\")\n",
    "\n",
    "plt.bar(algos_names,precision_test,color=['r','b','g','y','m']);\n",
    "plt.savefig(\"testsublot.jpg\")\n",
    "\n",
    "plt.subplot(2,2,4)\n",
    "plt.title(\" recall test score plot of algrothims\",fontweight=\"bold\")\n",
    "\n",
    "\n",
    "plt.xlabel(\"Algorithms \",fontweight=\"bold\")\n",
    "plt.ylabel(\"recall\",fontweight=\"bold\")\n",
    "\n",
    "plt.bar(algos_names,recall_test,color=['r','b','g','y','m']);"
   ]
  },
  {
   "cell_type": "code",
   "execution_count": null,
   "metadata": {},
   "outputs": [],
   "source": []
  },
  {
   "cell_type": "code",
   "execution_count": null,
   "metadata": {},
   "outputs": [],
   "source": [
    "f1_test1"
   ]
  },
  {
   "cell_type": "code",
   "execution_count": null,
   "metadata": {},
   "outputs": [],
   "source": []
  },
  {
   "cell_type": "code",
   "execution_count": null,
   "metadata": {},
   "outputs": [],
   "source": []
  },
  {
   "cell_type": "code",
   "execution_count": null,
   "metadata": {},
   "outputs": [],
   "source": []
  },
  {
   "cell_type": "code",
   "execution_count": null,
   "metadata": {},
   "outputs": [],
   "source": []
  },
  {
   "cell_type": "code",
   "execution_count": null,
   "metadata": {},
   "outputs": [],
   "source": []
  },
  {
   "cell_type": "code",
   "execution_count": null,
   "metadata": {},
   "outputs": [],
   "source": []
  },
  {
   "cell_type": "code",
   "execution_count": null,
   "metadata": {},
   "outputs": [],
   "source": []
  },
  {
   "cell_type": "code",
   "execution_count": null,
   "metadata": {},
   "outputs": [],
   "source": []
  },
  {
   "cell_type": "code",
   "execution_count": null,
   "metadata": {},
   "outputs": [],
   "source": []
  }
 ],
 "metadata": {
  "kernelspec": {
   "display_name": "Python 3",
   "language": "python",
   "name": "python3"
  }
 },
 "nbformat": 4,
 "nbformat_minor": 2
}
