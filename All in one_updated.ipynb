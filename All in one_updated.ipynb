{
 "cells": [
  {
   "cell_type": "code",
<<<<<<< HEAD
   "execution_count": 2,
=======
   "execution_count": 1,
>>>>>>> master
   "metadata": {},
   "outputs": [],
   "source": [
    "import pandas as pd\n",
    "import numpy as np\n"
   ]
  },
  {
   "cell_type": "markdown",
   "metadata": {},
   "source": [
    "\n",
    "# Loading the data"
   ]
  },
  {
   "cell_type": "code",
<<<<<<< HEAD
   "execution_count": 6,
=======
   "execution_count": 2,
>>>>>>> master
   "metadata": {},
   "outputs": [
    {
     "data": {
      "text/html": [
       "<div>\n",
       "<style scoped>\n",
       "    .dataframe tbody tr th:only-of-type {\n",
       "        vertical-align: middle;\n",
       "    }\n",
       "\n",
       "    .dataframe tbody tr th {\n",
       "        vertical-align: top;\n",
       "    }\n",
       "\n",
       "    .dataframe thead th {\n",
       "        text-align: right;\n",
       "    }\n",
       "</style>\n",
       "<table border=\"1\" class=\"dataframe\">\n",
       "  <thead>\n",
       "    <tr style=\"text-align: right;\">\n",
       "      <th></th>\n",
<<<<<<< HEAD
       "      <th>0</th>\n",
       "      <th>1</th>\n",
       "      <th>2</th>\n",
       "      <th>3</th>\n",
       "      <th>4</th>\n",
       "    </tr>\n",
       "  </thead>\n",
       "  <tbody>\n",
       "    <tr>\n",
       "      <th>age</th>\n",
       "      <td>63.0</td>\n",
       "      <td>37.0</td>\n",
       "      <td>41.0</td>\n",
       "      <td>56.0</td>\n",
       "      <td>57.0</td>\n",
       "    </tr>\n",
       "    <tr>\n",
       "      <th>sex</th>\n",
       "      <td>1.0</td>\n",
       "      <td>1.0</td>\n",
       "      <td>0.0</td>\n",
       "      <td>1.0</td>\n",
       "      <td>0.0</td>\n",
       "    </tr>\n",
       "    <tr>\n",
       "      <th>cp</th>\n",
       "      <td>3.0</td>\n",
       "      <td>2.0</td>\n",
       "      <td>1.0</td>\n",
       "      <td>1.0</td>\n",
       "      <td>0.0</td>\n",
       "    </tr>\n",
       "    <tr>\n",
       "      <th>trestbps</th>\n",
       "      <td>145.0</td>\n",
       "      <td>130.0</td>\n",
       "      <td>130.0</td>\n",
       "      <td>120.0</td>\n",
       "      <td>120.0</td>\n",
       "    </tr>\n",
       "    <tr>\n",
       "      <th>chol</th>\n",
       "      <td>233.0</td>\n",
       "      <td>250.0</td>\n",
       "      <td>204.0</td>\n",
       "      <td>236.0</td>\n",
       "      <td>354.0</td>\n",
       "    </tr>\n",
       "    <tr>\n",
       "      <th>fbs</th>\n",
       "      <td>1.0</td>\n",
       "      <td>0.0</td>\n",
       "      <td>0.0</td>\n",
       "      <td>0.0</td>\n",
       "      <td>0.0</td>\n",
       "    </tr>\n",
       "    <tr>\n",
       "      <th>restecg</th>\n",
       "      <td>0.0</td>\n",
       "      <td>1.0</td>\n",
       "      <td>0.0</td>\n",
       "      <td>1.0</td>\n",
       "      <td>1.0</td>\n",
       "    </tr>\n",
       "    <tr>\n",
       "      <th>thalach</th>\n",
       "      <td>150.0</td>\n",
       "      <td>187.0</td>\n",
       "      <td>172.0</td>\n",
       "      <td>178.0</td>\n",
       "      <td>163.0</td>\n",
       "    </tr>\n",
       "    <tr>\n",
       "      <th>exang</th>\n",
       "      <td>0.0</td>\n",
       "      <td>0.0</td>\n",
       "      <td>0.0</td>\n",
       "      <td>0.0</td>\n",
       "      <td>1.0</td>\n",
       "    </tr>\n",
       "    <tr>\n",
       "      <th>oldpeak</th>\n",
       "      <td>2.3</td>\n",
       "      <td>3.5</td>\n",
       "      <td>1.4</td>\n",
       "      <td>0.8</td>\n",
       "      <td>0.6</td>\n",
       "    </tr>\n",
       "    <tr>\n",
       "      <th>slope</th>\n",
       "      <td>0.0</td>\n",
       "      <td>0.0</td>\n",
       "      <td>2.0</td>\n",
       "      <td>2.0</td>\n",
       "      <td>2.0</td>\n",
       "    </tr>\n",
       "    <tr>\n",
       "      <th>ca</th>\n",
       "      <td>0.0</td>\n",
       "      <td>0.0</td>\n",
       "      <td>0.0</td>\n",
       "      <td>0.0</td>\n",
       "      <td>0.0</td>\n",
       "    </tr>\n",
       "    <tr>\n",
       "      <th>thal</th>\n",
       "      <td>1.0</td>\n",
       "      <td>2.0</td>\n",
       "      <td>2.0</td>\n",
       "      <td>2.0</td>\n",
       "      <td>2.0</td>\n",
       "    </tr>\n",
       "    <tr>\n",
       "      <th>target</th>\n",
       "      <td>1.0</td>\n",
       "      <td>1.0</td>\n",
       "      <td>1.0</td>\n",
       "      <td>1.0</td>\n",
       "      <td>1.0</td>\n",
=======
       "      <th>age</th>\n",
       "      <th>sex</th>\n",
       "      <th>cp</th>\n",
       "      <th>trestbps</th>\n",
       "      <th>chol</th>\n",
       "      <th>fbs</th>\n",
       "      <th>restecg</th>\n",
       "      <th>thalach</th>\n",
       "      <th>exang</th>\n",
       "      <th>oldpeak</th>\n",
       "      <th>slope</th>\n",
       "      <th>ca</th>\n",
       "      <th>thal</th>\n",
       "      <th>target</th>\n",
       "    </tr>\n",
       "  </thead>\n",
       "  <tbody>\n",
       "    <tr>\n",
       "      <td>0</td>\n",
       "      <td>63</td>\n",
       "      <td>1</td>\n",
       "      <td>3</td>\n",
       "      <td>145</td>\n",
       "      <td>233</td>\n",
       "      <td>1</td>\n",
       "      <td>0</td>\n",
       "      <td>150</td>\n",
       "      <td>0</td>\n",
       "      <td>2.3</td>\n",
       "      <td>0</td>\n",
       "      <td>0</td>\n",
       "      <td>1</td>\n",
       "      <td>1</td>\n",
       "    </tr>\n",
       "    <tr>\n",
       "      <td>1</td>\n",
       "      <td>37</td>\n",
       "      <td>1</td>\n",
       "      <td>2</td>\n",
       "      <td>130</td>\n",
       "      <td>250</td>\n",
       "      <td>0</td>\n",
       "      <td>1</td>\n",
       "      <td>187</td>\n",
       "      <td>0</td>\n",
       "      <td>3.5</td>\n",
       "      <td>0</td>\n",
       "      <td>0</td>\n",
       "      <td>2</td>\n",
       "      <td>1</td>\n",
       "    </tr>\n",
       "    <tr>\n",
       "      <td>2</td>\n",
       "      <td>41</td>\n",
       "      <td>0</td>\n",
       "      <td>1</td>\n",
       "      <td>130</td>\n",
       "      <td>204</td>\n",
       "      <td>0</td>\n",
       "      <td>0</td>\n",
       "      <td>172</td>\n",
       "      <td>0</td>\n",
       "      <td>1.4</td>\n",
       "      <td>2</td>\n",
       "      <td>0</td>\n",
       "      <td>2</td>\n",
       "      <td>1</td>\n",
       "    </tr>\n",
       "    <tr>\n",
       "      <td>3</td>\n",
       "      <td>56</td>\n",
       "      <td>1</td>\n",
       "      <td>1</td>\n",
       "      <td>120</td>\n",
       "      <td>236</td>\n",
       "      <td>0</td>\n",
       "      <td>1</td>\n",
       "      <td>178</td>\n",
       "      <td>0</td>\n",
       "      <td>0.8</td>\n",
       "      <td>2</td>\n",
       "      <td>0</td>\n",
       "      <td>2</td>\n",
       "      <td>1</td>\n",
       "    </tr>\n",
       "    <tr>\n",
       "      <td>4</td>\n",
       "      <td>57</td>\n",
       "      <td>0</td>\n",
       "      <td>0</td>\n",
       "      <td>120</td>\n",
       "      <td>354</td>\n",
       "      <td>0</td>\n",
       "      <td>1</td>\n",
       "      <td>163</td>\n",
       "      <td>1</td>\n",
       "      <td>0.6</td>\n",
       "      <td>2</td>\n",
       "      <td>0</td>\n",
       "      <td>2</td>\n",
       "      <td>1</td>\n",
>>>>>>> master
       "    </tr>\n",
       "  </tbody>\n",
       "</table>\n",
       "</div>"
      ],
      "text/plain": [
<<<<<<< HEAD
       "              0      1      2      3      4\n",
       "age        63.0   37.0   41.0   56.0   57.0\n",
       "sex         1.0    1.0    0.0    1.0    0.0\n",
       "cp          3.0    2.0    1.0    1.0    0.0\n",
       "trestbps  145.0  130.0  130.0  120.0  120.0\n",
       "chol      233.0  250.0  204.0  236.0  354.0\n",
       "fbs         1.0    0.0    0.0    0.0    0.0\n",
       "restecg     0.0    1.0    0.0    1.0    1.0\n",
       "thalach   150.0  187.0  172.0  178.0  163.0\n",
       "exang       0.0    0.0    0.0    0.0    1.0\n",
       "oldpeak     2.3    3.5    1.4    0.8    0.6\n",
       "slope       0.0    0.0    2.0    2.0    2.0\n",
       "ca          0.0    0.0    0.0    0.0    0.0\n",
       "thal        1.0    2.0    2.0    2.0    2.0\n",
       "target      1.0    1.0    1.0    1.0    1.0"
      ]
     },
     "execution_count": 6,
=======
       "   age  sex  cp  trestbps  chol  fbs  restecg  thalach  exang  oldpeak  slope  \\\n",
       "0   63    1   3       145   233    1        0      150      0      2.3      0   \n",
       "1   37    1   2       130   250    0        1      187      0      3.5      0   \n",
       "2   41    0   1       130   204    0        0      172      0      1.4      2   \n",
       "3   56    1   1       120   236    0        1      178      0      0.8      2   \n",
       "4   57    0   0       120   354    0        1      163      1      0.6      2   \n",
       "\n",
       "   ca  thal  target  \n",
       "0   0     1       1  \n",
       "1   0     2       1  \n",
       "2   0     2       1  \n",
       "3   0     2       1  \n",
       "4   0     2       1  "
      ]
     },
     "execution_count": 2,
>>>>>>> master
     "metadata": {},
     "output_type": "execute_result"
    }
   ],
   "source": [
    "df = pd.read_csv(\"heart.csv\")\n",
<<<<<<< HEAD
    "df.head().T#.to_csv(\"head.csv\")"
=======
    "df.head()"
>>>>>>> master
   ]
  },
  {
   "cell_type": "markdown",
   "metadata": {},
   "source": [
    "#  Exploratory Data Analysis (EDA)"
   ]
  },
  {
   "cell_type": "code",
   "execution_count": 3,
   "metadata": {},
   "outputs": [
    {
     "data": {
      "text/html": [
       "<div>\n",
       "<style scoped>\n",
       "    .dataframe tbody tr th:only-of-type {\n",
       "        vertical-align: middle;\n",
       "    }\n",
       "\n",
       "    .dataframe tbody tr th {\n",
       "        vertical-align: top;\n",
       "    }\n",
       "\n",
       "    .dataframe thead th {\n",
       "        text-align: right;\n",
       "    }\n",
       "</style>\n",
       "<table border=\"1\" class=\"dataframe\">\n",
       "  <thead>\n",
       "    <tr style=\"text-align: right;\">\n",
       "      <th></th>\n",
       "      <th>age</th>\n",
       "      <th>sex</th>\n",
       "      <th>cp</th>\n",
       "      <th>trestbps</th>\n",
       "      <th>chol</th>\n",
       "      <th>fbs</th>\n",
       "      <th>restecg</th>\n",
       "      <th>thalach</th>\n",
       "      <th>exang</th>\n",
       "      <th>oldpeak</th>\n",
       "      <th>slope</th>\n",
       "      <th>ca</th>\n",
       "      <th>thal</th>\n",
       "      <th>target</th>\n",
       "    </tr>\n",
       "  </thead>\n",
       "  <tbody>\n",
       "    <tr>\n",
       "      <td>count</td>\n",
       "      <td>303.000000</td>\n",
       "      <td>303.000000</td>\n",
       "      <td>303.000000</td>\n",
       "      <td>303.000000</td>\n",
       "      <td>303.000000</td>\n",
       "      <td>303.000000</td>\n",
       "      <td>303.000000</td>\n",
       "      <td>303.000000</td>\n",
       "      <td>303.000000</td>\n",
       "      <td>303.000000</td>\n",
       "      <td>303.000000</td>\n",
       "      <td>303.000000</td>\n",
       "      <td>303.000000</td>\n",
       "      <td>303.000000</td>\n",
       "    </tr>\n",
       "    <tr>\n",
       "      <td>mean</td>\n",
       "      <td>54.366337</td>\n",
       "      <td>0.683168</td>\n",
       "      <td>0.966997</td>\n",
       "      <td>131.623762</td>\n",
       "      <td>246.264026</td>\n",
       "      <td>0.148515</td>\n",
       "      <td>0.528053</td>\n",
       "      <td>149.646865</td>\n",
       "      <td>0.326733</td>\n",
       "      <td>1.039604</td>\n",
       "      <td>1.399340</td>\n",
       "      <td>0.729373</td>\n",
       "      <td>2.313531</td>\n",
       "      <td>0.544554</td>\n",
       "    </tr>\n",
       "    <tr>\n",
       "      <td>std</td>\n",
       "      <td>9.082101</td>\n",
       "      <td>0.466011</td>\n",
       "      <td>1.032052</td>\n",
       "      <td>17.538143</td>\n",
       "      <td>51.830751</td>\n",
       "      <td>0.356198</td>\n",
       "      <td>0.525860</td>\n",
       "      <td>22.905161</td>\n",
       "      <td>0.469794</td>\n",
       "      <td>1.161075</td>\n",
       "      <td>0.616226</td>\n",
       "      <td>1.022606</td>\n",
       "      <td>0.612277</td>\n",
       "      <td>0.498835</td>\n",
       "    </tr>\n",
       "    <tr>\n",
       "      <td>min</td>\n",
       "      <td>29.000000</td>\n",
       "      <td>0.000000</td>\n",
       "      <td>0.000000</td>\n",
       "      <td>94.000000</td>\n",
       "      <td>126.000000</td>\n",
       "      <td>0.000000</td>\n",
       "      <td>0.000000</td>\n",
       "      <td>71.000000</td>\n",
       "      <td>0.000000</td>\n",
       "      <td>0.000000</td>\n",
       "      <td>0.000000</td>\n",
       "      <td>0.000000</td>\n",
       "      <td>0.000000</td>\n",
       "      <td>0.000000</td>\n",
       "    </tr>\n",
       "    <tr>\n",
       "      <td>25%</td>\n",
       "      <td>47.500000</td>\n",
       "      <td>0.000000</td>\n",
       "      <td>0.000000</td>\n",
       "      <td>120.000000</td>\n",
       "      <td>211.000000</td>\n",
       "      <td>0.000000</td>\n",
       "      <td>0.000000</td>\n",
       "      <td>133.500000</td>\n",
       "      <td>0.000000</td>\n",
       "      <td>0.000000</td>\n",
       "      <td>1.000000</td>\n",
       "      <td>0.000000</td>\n",
       "      <td>2.000000</td>\n",
       "      <td>0.000000</td>\n",
       "    </tr>\n",
       "    <tr>\n",
       "      <td>50%</td>\n",
       "      <td>55.000000</td>\n",
       "      <td>1.000000</td>\n",
       "      <td>1.000000</td>\n",
       "      <td>130.000000</td>\n",
       "      <td>240.000000</td>\n",
       "      <td>0.000000</td>\n",
       "      <td>1.000000</td>\n",
       "      <td>153.000000</td>\n",
       "      <td>0.000000</td>\n",
       "      <td>0.800000</td>\n",
       "      <td>1.000000</td>\n",
       "      <td>0.000000</td>\n",
       "      <td>2.000000</td>\n",
       "      <td>1.000000</td>\n",
       "    </tr>\n",
       "    <tr>\n",
       "      <td>75%</td>\n",
       "      <td>61.000000</td>\n",
       "      <td>1.000000</td>\n",
       "      <td>2.000000</td>\n",
       "      <td>140.000000</td>\n",
       "      <td>274.500000</td>\n",
       "      <td>0.000000</td>\n",
       "      <td>1.000000</td>\n",
       "      <td>166.000000</td>\n",
       "      <td>1.000000</td>\n",
       "      <td>1.600000</td>\n",
       "      <td>2.000000</td>\n",
       "      <td>1.000000</td>\n",
       "      <td>3.000000</td>\n",
       "      <td>1.000000</td>\n",
       "    </tr>\n",
       "    <tr>\n",
       "      <td>max</td>\n",
       "      <td>77.000000</td>\n",
       "      <td>1.000000</td>\n",
       "      <td>3.000000</td>\n",
       "      <td>200.000000</td>\n",
       "      <td>564.000000</td>\n",
       "      <td>1.000000</td>\n",
       "      <td>2.000000</td>\n",
       "      <td>202.000000</td>\n",
       "      <td>1.000000</td>\n",
       "      <td>6.200000</td>\n",
       "      <td>2.000000</td>\n",
       "      <td>4.000000</td>\n",
       "      <td>3.000000</td>\n",
       "      <td>1.000000</td>\n",
       "    </tr>\n",
       "  </tbody>\n",
       "</table>\n",
       "</div>"
      ],
      "text/plain": [
       "              age         sex          cp    trestbps        chol         fbs  \\\n",
       "count  303.000000  303.000000  303.000000  303.000000  303.000000  303.000000   \n",
       "mean    54.366337    0.683168    0.966997  131.623762  246.264026    0.148515   \n",
       "std      9.082101    0.466011    1.032052   17.538143   51.830751    0.356198   \n",
       "min     29.000000    0.000000    0.000000   94.000000  126.000000    0.000000   \n",
       "25%     47.500000    0.000000    0.000000  120.000000  211.000000    0.000000   \n",
       "50%     55.000000    1.000000    1.000000  130.000000  240.000000    0.000000   \n",
       "75%     61.000000    1.000000    2.000000  140.000000  274.500000    0.000000   \n",
       "max     77.000000    1.000000    3.000000  200.000000  564.000000    1.000000   \n",
       "\n",
       "          restecg     thalach       exang     oldpeak       slope          ca  \\\n",
       "count  303.000000  303.000000  303.000000  303.000000  303.000000  303.000000   \n",
       "mean     0.528053  149.646865    0.326733    1.039604    1.399340    0.729373   \n",
       "std      0.525860   22.905161    0.469794    1.161075    0.616226    1.022606   \n",
       "min      0.000000   71.000000    0.000000    0.000000    0.000000    0.000000   \n",
       "25%      0.000000  133.500000    0.000000    0.000000    1.000000    0.000000   \n",
       "50%      1.000000  153.000000    0.000000    0.800000    1.000000    0.000000   \n",
       "75%      1.000000  166.000000    1.000000    1.600000    2.000000    1.000000   \n",
       "max      2.000000  202.000000    1.000000    6.200000    2.000000    4.000000   \n",
       "\n",
       "             thal      target  \n",
       "count  303.000000  303.000000  \n",
       "mean     2.313531    0.544554  \n",
       "std      0.612277    0.498835  \n",
       "min      0.000000    0.000000  \n",
       "25%      2.000000    0.000000  \n",
       "50%      2.000000    1.000000  \n",
       "75%      3.000000    1.000000  \n",
       "max      3.000000    1.000000  "
      ]
     },
     "execution_count": 3,
     "metadata": {},
     "output_type": "execute_result"
    }
   ],
   "source": [
    "df.describe()\n"
   ]
  },
  {
   "cell_type": "code",
   "execution_count": 4,
   "metadata": {},
   "outputs": [
    {
     "name": "stdout",
     "output_type": "stream",
     "text": [
      "<class 'pandas.core.frame.DataFrame'>\n",
      "RangeIndex: 303 entries, 0 to 302\n",
      "Data columns (total 14 columns):\n",
      "age         303 non-null int64\n",
      "sex         303 non-null int64\n",
      "cp          303 non-null int64\n",
      "trestbps    303 non-null int64\n",
      "chol        303 non-null int64\n",
      "fbs         303 non-null int64\n",
      "restecg     303 non-null int64\n",
      "thalach     303 non-null int64\n",
      "exang       303 non-null int64\n",
      "oldpeak     303 non-null float64\n",
      "slope       303 non-null int64\n",
      "ca          303 non-null int64\n",
      "thal        303 non-null int64\n",
      "target      303 non-null int64\n",
      "dtypes: float64(1), int64(13)\n",
      "memory usage: 33.3 KB\n",
      "None\n"
     ]
    }
   ],
   "source": [
    "print(df.info())\n",
    "\n",
    "\n"
   ]
  },
  {
   "cell_type": "code",
   "execution_count": 5,
   "metadata": {},
   "outputs": [
    {
     "data": {
      "text/plain": [
       "age          41\n",
       "sex           2\n",
       "cp            4\n",
       "trestbps     49\n",
       "chol        152\n",
       "fbs           2\n",
       "restecg       3\n",
       "thalach      91\n",
       "exang         2\n",
       "oldpeak      40\n",
       "slope         3\n",
       "ca            5\n",
       "thal          4\n",
       "target        2\n",
       "dtype: int64"
      ]
     },
     "execution_count": 5,
     "metadata": {},
     "output_type": "execute_result"
    }
   ],
   "source": [
    "df.nunique()"
   ]
  },
  {
   "cell_type": "code",
   "execution_count": 6,
   "metadata": {},
   "outputs": [
    {
     "data": {
      "text/html": [
       "<div>\n",
       "<style scoped>\n",
       "    .dataframe tbody tr th:only-of-type {\n",
       "        vertical-align: middle;\n",
       "    }\n",
       "\n",
       "    .dataframe tbody tr th {\n",
       "        vertical-align: top;\n",
       "    }\n",
       "\n",
       "    .dataframe thead th {\n",
       "        text-align: right;\n",
       "    }\n",
       "</style>\n",
       "<table border=\"1\" class=\"dataframe\">\n",
       "  <thead>\n",
       "    <tr style=\"text-align: right;\">\n",
       "      <th></th>\n",
       "      <th>age</th>\n",
       "      <th>sex</th>\n",
       "      <th>cp</th>\n",
       "      <th>trestbps</th>\n",
       "      <th>chol</th>\n",
       "      <th>fbs</th>\n",
       "      <th>restecg</th>\n",
       "      <th>thalach</th>\n",
       "      <th>exang</th>\n",
       "      <th>oldpeak</th>\n",
       "      <th>slope</th>\n",
       "      <th>ca</th>\n",
       "      <th>thal</th>\n",
       "      <th>target</th>\n",
       "    </tr>\n",
       "  </thead>\n",
       "  <tbody>\n",
       "    <tr>\n",
       "      <td>0</td>\n",
       "      <td>63</td>\n",
       "      <td>1</td>\n",
       "      <td>3</td>\n",
       "      <td>145</td>\n",
       "      <td>233</td>\n",
       "      <td>1</td>\n",
       "      <td>0</td>\n",
       "      <td>150</td>\n",
       "      <td>0</td>\n",
       "      <td>2.3</td>\n",
       "      <td>0</td>\n",
       "      <td>0</td>\n",
       "      <td>1</td>\n",
       "      <td>1</td>\n",
       "    </tr>\n",
       "    <tr>\n",
       "      <td>1</td>\n",
       "      <td>37</td>\n",
       "      <td>1</td>\n",
       "      <td>2</td>\n",
       "      <td>130</td>\n",
       "      <td>250</td>\n",
       "      <td>0</td>\n",
       "      <td>1</td>\n",
       "      <td>187</td>\n",
       "      <td>0</td>\n",
       "      <td>3.5</td>\n",
       "      <td>0</td>\n",
       "      <td>0</td>\n",
       "      <td>2</td>\n",
       "      <td>1</td>\n",
       "    </tr>\n",
       "    <tr>\n",
       "      <td>2</td>\n",
       "      <td>41</td>\n",
       "      <td>0</td>\n",
       "      <td>1</td>\n",
       "      <td>130</td>\n",
       "      <td>204</td>\n",
       "      <td>0</td>\n",
       "      <td>0</td>\n",
       "      <td>172</td>\n",
       "      <td>0</td>\n",
       "      <td>1.4</td>\n",
       "      <td>2</td>\n",
       "      <td>0</td>\n",
       "      <td>2</td>\n",
       "      <td>1</td>\n",
       "    </tr>\n",
       "    <tr>\n",
       "      <td>3</td>\n",
       "      <td>56</td>\n",
       "      <td>1</td>\n",
       "      <td>1</td>\n",
       "      <td>120</td>\n",
       "      <td>236</td>\n",
       "      <td>0</td>\n",
       "      <td>1</td>\n",
       "      <td>178</td>\n",
       "      <td>0</td>\n",
       "      <td>0.8</td>\n",
       "      <td>2</td>\n",
       "      <td>0</td>\n",
       "      <td>2</td>\n",
       "      <td>1</td>\n",
       "    </tr>\n",
       "    <tr>\n",
       "      <td>4</td>\n",
       "      <td>57</td>\n",
       "      <td>0</td>\n",
       "      <td>0</td>\n",
       "      <td>120</td>\n",
       "      <td>354</td>\n",
       "      <td>0</td>\n",
       "      <td>1</td>\n",
       "      <td>163</td>\n",
       "      <td>1</td>\n",
       "      <td>0.6</td>\n",
       "      <td>2</td>\n",
       "      <td>0</td>\n",
       "      <td>2</td>\n",
       "      <td>1</td>\n",
       "    </tr>\n",
       "    <tr>\n",
       "      <td>5</td>\n",
       "      <td>57</td>\n",
       "      <td>1</td>\n",
       "      <td>0</td>\n",
       "      <td>140</td>\n",
       "      <td>192</td>\n",
       "      <td>0</td>\n",
       "      <td>1</td>\n",
       "      <td>148</td>\n",
       "      <td>0</td>\n",
       "      <td>0.4</td>\n",
       "      <td>1</td>\n",
       "      <td>0</td>\n",
       "      <td>1</td>\n",
       "      <td>1</td>\n",
       "    </tr>\n",
       "    <tr>\n",
       "      <td>6</td>\n",
       "      <td>56</td>\n",
       "      <td>0</td>\n",
       "      <td>1</td>\n",
       "      <td>140</td>\n",
       "      <td>294</td>\n",
       "      <td>0</td>\n",
       "      <td>0</td>\n",
       "      <td>153</td>\n",
       "      <td>0</td>\n",
       "      <td>1.3</td>\n",
       "      <td>1</td>\n",
       "      <td>0</td>\n",
       "      <td>2</td>\n",
       "      <td>1</td>\n",
       "    </tr>\n",
       "    <tr>\n",
       "      <td>7</td>\n",
       "      <td>44</td>\n",
       "      <td>1</td>\n",
       "      <td>1</td>\n",
       "      <td>120</td>\n",
       "      <td>263</td>\n",
       "      <td>0</td>\n",
       "      <td>1</td>\n",
       "      <td>173</td>\n",
       "      <td>0</td>\n",
       "      <td>0.0</td>\n",
       "      <td>2</td>\n",
       "      <td>0</td>\n",
       "      <td>3</td>\n",
       "      <td>1</td>\n",
       "    </tr>\n",
       "    <tr>\n",
       "      <td>8</td>\n",
       "      <td>52</td>\n",
       "      <td>1</td>\n",
       "      <td>2</td>\n",
       "      <td>172</td>\n",
       "      <td>199</td>\n",
       "      <td>1</td>\n",
       "      <td>1</td>\n",
       "      <td>162</td>\n",
       "      <td>0</td>\n",
       "      <td>0.5</td>\n",
       "      <td>2</td>\n",
       "      <td>0</td>\n",
       "      <td>3</td>\n",
       "      <td>1</td>\n",
       "    </tr>\n",
       "    <tr>\n",
       "      <td>9</td>\n",
       "      <td>57</td>\n",
       "      <td>1</td>\n",
       "      <td>2</td>\n",
       "      <td>150</td>\n",
       "      <td>168</td>\n",
       "      <td>0</td>\n",
       "      <td>1</td>\n",
       "      <td>174</td>\n",
       "      <td>0</td>\n",
       "      <td>1.6</td>\n",
       "      <td>2</td>\n",
       "      <td>0</td>\n",
       "      <td>2</td>\n",
       "      <td>1</td>\n",
       "    </tr>\n",
       "  </tbody>\n",
       "</table>\n",
       "</div>"
      ],
      "text/plain": [
       "   age  sex  cp  trestbps  chol  fbs  restecg  thalach  exang  oldpeak  slope  \\\n",
       "0   63    1   3       145   233    1        0      150      0      2.3      0   \n",
       "1   37    1   2       130   250    0        1      187      0      3.5      0   \n",
       "2   41    0   1       130   204    0        0      172      0      1.4      2   \n",
       "3   56    1   1       120   236    0        1      178      0      0.8      2   \n",
       "4   57    0   0       120   354    0        1      163      1      0.6      2   \n",
       "5   57    1   0       140   192    0        1      148      0      0.4      1   \n",
       "6   56    0   1       140   294    0        0      153      0      1.3      1   \n",
       "7   44    1   1       120   263    0        1      173      0      0.0      2   \n",
       "8   52    1   2       172   199    1        1      162      0      0.5      2   \n",
       "9   57    1   2       150   168    0        1      174      0      1.6      2   \n",
       "\n",
       "   ca  thal  target  \n",
       "0   0     1       1  \n",
       "1   0     2       1  \n",
       "2   0     2       1  \n",
       "3   0     2       1  \n",
       "4   0     2       1  \n",
       "5   0     1       1  \n",
       "6   0     2       1  \n",
       "7   0     3       1  \n",
       "8   0     3       1  \n",
       "9   0     2       1  "
      ]
     },
     "execution_count": 6,
     "metadata": {},
     "output_type": "execute_result"
    }
   ],
   "source": [
    "df.head(10)"
   ]
  },
  {
   "cell_type": "raw",
   "metadata": {},
   "source": [
    "#no null values in our dataset"
   ]
  },
  {
   "cell_type": "code",
   "execution_count": 7,
   "metadata": {},
   "outputs": [
    {
     "data": {
      "text/html": [
       "<div>\n",
       "<style scoped>\n",
       "    .dataframe tbody tr th:only-of-type {\n",
       "        vertical-align: middle;\n",
       "    }\n",
       "\n",
       "    .dataframe tbody tr th {\n",
       "        vertical-align: top;\n",
       "    }\n",
       "\n",
       "    .dataframe thead th {\n",
       "        text-align: right;\n",
       "    }\n",
       "</style>\n",
       "<table border=\"1\" class=\"dataframe\">\n",
       "  <thead>\n",
       "    <tr style=\"text-align: right;\">\n",
       "      <th></th>\n",
       "      <th>age</th>\n",
       "      <th>sex</th>\n",
       "      <th>cp</th>\n",
       "      <th>trestbps</th>\n",
       "      <th>chol</th>\n",
       "      <th>fbs</th>\n",
       "      <th>restecg</th>\n",
       "      <th>thalach</th>\n",
       "      <th>exang</th>\n",
       "      <th>oldpeak</th>\n",
       "      <th>slope</th>\n",
       "      <th>ca</th>\n",
       "      <th>thal</th>\n",
       "      <th>target</th>\n",
       "    </tr>\n",
       "  </thead>\n",
       "  <tbody>\n",
       "    <tr>\n",
       "      <td>count</td>\n",
       "      <td>303.00</td>\n",
       "      <td>303.00</td>\n",
       "      <td>303.00</td>\n",
       "      <td>303.00</td>\n",
       "      <td>303.00</td>\n",
       "      <td>303.00</td>\n",
       "      <td>303.00</td>\n",
       "      <td>303.00</td>\n",
       "      <td>303.00</td>\n",
       "      <td>303.00</td>\n",
       "      <td>303.00</td>\n",
       "      <td>303.00</td>\n",
       "      <td>303.00</td>\n",
       "      <td>303.00</td>\n",
       "    </tr>\n",
       "    <tr>\n",
       "      <td>mean</td>\n",
       "      <td>54.37</td>\n",
       "      <td>0.68</td>\n",
       "      <td>0.97</td>\n",
       "      <td>131.62</td>\n",
       "      <td>246.26</td>\n",
       "      <td>0.15</td>\n",
       "      <td>0.53</td>\n",
       "      <td>149.65</td>\n",
       "      <td>0.33</td>\n",
       "      <td>1.04</td>\n",
       "      <td>1.40</td>\n",
       "      <td>0.73</td>\n",
       "      <td>2.31</td>\n",
       "      <td>0.54</td>\n",
       "    </tr>\n",
       "    <tr>\n",
       "      <td>std</td>\n",
       "      <td>9.08</td>\n",
       "      <td>0.47</td>\n",
       "      <td>1.03</td>\n",
       "      <td>17.54</td>\n",
       "      <td>51.83</td>\n",
       "      <td>0.36</td>\n",
       "      <td>0.53</td>\n",
       "      <td>22.91</td>\n",
       "      <td>0.47</td>\n",
       "      <td>1.16</td>\n",
       "      <td>0.62</td>\n",
       "      <td>1.02</td>\n",
       "      <td>0.61</td>\n",
       "      <td>0.50</td>\n",
       "    </tr>\n",
       "    <tr>\n",
       "      <td>min</td>\n",
       "      <td>29.00</td>\n",
       "      <td>0.00</td>\n",
       "      <td>0.00</td>\n",
       "      <td>94.00</td>\n",
       "      <td>126.00</td>\n",
       "      <td>0.00</td>\n",
       "      <td>0.00</td>\n",
       "      <td>71.00</td>\n",
       "      <td>0.00</td>\n",
       "      <td>0.00</td>\n",
       "      <td>0.00</td>\n",
       "      <td>0.00</td>\n",
       "      <td>0.00</td>\n",
       "      <td>0.00</td>\n",
       "    </tr>\n",
       "    <tr>\n",
       "      <td>25%</td>\n",
       "      <td>47.50</td>\n",
       "      <td>0.00</td>\n",
       "      <td>0.00</td>\n",
       "      <td>120.00</td>\n",
       "      <td>211.00</td>\n",
       "      <td>0.00</td>\n",
       "      <td>0.00</td>\n",
       "      <td>133.50</td>\n",
       "      <td>0.00</td>\n",
       "      <td>0.00</td>\n",
       "      <td>1.00</td>\n",
       "      <td>0.00</td>\n",
       "      <td>2.00</td>\n",
       "      <td>0.00</td>\n",
       "    </tr>\n",
       "    <tr>\n",
       "      <td>50%</td>\n",
       "      <td>55.00</td>\n",
       "      <td>1.00</td>\n",
       "      <td>1.00</td>\n",
       "      <td>130.00</td>\n",
       "      <td>240.00</td>\n",
       "      <td>0.00</td>\n",
       "      <td>1.00</td>\n",
       "      <td>153.00</td>\n",
       "      <td>0.00</td>\n",
       "      <td>0.80</td>\n",
       "      <td>1.00</td>\n",
       "      <td>0.00</td>\n",
       "      <td>2.00</td>\n",
       "      <td>1.00</td>\n",
       "    </tr>\n",
       "    <tr>\n",
       "      <td>75%</td>\n",
       "      <td>61.00</td>\n",
       "      <td>1.00</td>\n",
       "      <td>2.00</td>\n",
       "      <td>140.00</td>\n",
       "      <td>274.50</td>\n",
       "      <td>0.00</td>\n",
       "      <td>1.00</td>\n",
       "      <td>166.00</td>\n",
       "      <td>1.00</td>\n",
       "      <td>1.60</td>\n",
       "      <td>2.00</td>\n",
       "      <td>1.00</td>\n",
       "      <td>3.00</td>\n",
       "      <td>1.00</td>\n",
       "    </tr>\n",
       "    <tr>\n",
       "      <td>max</td>\n",
       "      <td>77.00</td>\n",
       "      <td>1.00</td>\n",
       "      <td>3.00</td>\n",
       "      <td>200.00</td>\n",
       "      <td>564.00</td>\n",
       "      <td>1.00</td>\n",
       "      <td>2.00</td>\n",
       "      <td>202.00</td>\n",
       "      <td>1.00</td>\n",
       "      <td>6.20</td>\n",
       "      <td>2.00</td>\n",
       "      <td>4.00</td>\n",
       "      <td>3.00</td>\n",
       "      <td>1.00</td>\n",
       "    </tr>\n",
       "  </tbody>\n",
       "</table>\n",
       "</div>"
      ],
      "text/plain": [
       "         age    sex     cp  trestbps   chol    fbs  restecg  thalach  exang  \\\n",
       "count 303.00 303.00 303.00    303.00 303.00 303.00   303.00   303.00 303.00   \n",
       "mean   54.37   0.68   0.97    131.62 246.26   0.15     0.53   149.65   0.33   \n",
       "std     9.08   0.47   1.03     17.54  51.83   0.36     0.53    22.91   0.47   \n",
       "min    29.00   0.00   0.00     94.00 126.00   0.00     0.00    71.00   0.00   \n",
       "25%    47.50   0.00   0.00    120.00 211.00   0.00     0.00   133.50   0.00   \n",
       "50%    55.00   1.00   1.00    130.00 240.00   0.00     1.00   153.00   0.00   \n",
       "75%    61.00   1.00   2.00    140.00 274.50   0.00     1.00   166.00   1.00   \n",
       "max    77.00   1.00   3.00    200.00 564.00   1.00     2.00   202.00   1.00   \n",
       "\n",
       "       oldpeak  slope     ca   thal  target  \n",
       "count   303.00 303.00 303.00 303.00  303.00  \n",
       "mean      1.04   1.40   0.73   2.31    0.54  \n",
       "std       1.16   0.62   1.02   0.61    0.50  \n",
       "min       0.00   0.00   0.00   0.00    0.00  \n",
       "25%       0.00   1.00   0.00   2.00    0.00  \n",
       "50%       0.80   1.00   0.00   2.00    1.00  \n",
       "75%       1.60   2.00   1.00   3.00    1.00  \n",
       "max       6.20   2.00   4.00   3.00    1.00  "
      ]
     },
     "execution_count": 7,
     "metadata": {},
     "output_type": "execute_result"
    }
   ],
   "source": [
    "df.shape #shape of dataset\n",
    "\n",
    "\n",
    "\n",
    "pd.set_option(\"display.float\", \"{:.2f}\".format)\n",
    "df.describe()\n",
    "\n"
   ]
  },
  {
   "cell_type": "code",
   "execution_count": 8,
   "metadata": {},
   "outputs": [
    {
     "data": {
      "text/plain": [
       "1    165\n",
       "0    138\n",
       "Name: target, dtype: int64"
      ]
     },
     "execution_count": 8,
     "metadata": {},
     "output_type": "execute_result"
    }
   ],
   "source": [
    "\n",
    "df.target.value_counts()\n"
   ]
  },
  {
   "cell_type": "code",
   "execution_count": 9,
   "metadata": {},
   "outputs": [
    {
     "name": "stdout",
     "output_type": "stream",
     "text": [
      "==============================\n",
      "age : [63 37 41 56 57 44 52 54 48 49 64 58 50 66 43 69 59 42 61 40 71 51 65 53\n",
      " 46 45 39 47 62 34 35 29 55 60 67 68 74 76 70 38 77]\n",
      "==============================\n",
      "sex : [1 0]\n",
      "==============================\n",
      "cp : [3 2 1 0]\n",
      "==============================\n",
      "trestbps : [145 130 120 140 172 150 110 135 160 105 125 142 155 104 138 128 108 134\n",
      " 122 115 118 100 124  94 112 102 152 101 132 148 178 129 180 136 126 106\n",
      " 156 170 146 117 200 165 174 192 144 123 154 114 164]\n",
      "==============================\n",
      "chol : [233 250 204 236 354 192 294 263 199 168 239 275 266 211 283 219 340 226\n",
      " 247 234 243 302 212 175 417 197 198 177 273 213 304 232 269 360 308 245\n",
      " 208 264 321 325 235 257 216 256 231 141 252 201 222 260 182 303 265 309\n",
      " 186 203 183 220 209 258 227 261 221 205 240 318 298 564 277 214 248 255\n",
      " 207 223 288 160 394 315 246 244 270 195 196 254 126 313 262 215 193 271\n",
      " 268 267 210 295 306 178 242 180 228 149 278 253 342 157 286 229 284 224\n",
      " 206 167 230 335 276 353 225 330 290 172 305 188 282 185 326 274 164 307\n",
      " 249 341 407 217 174 281 289 322 299 300 293 184 409 259 200 327 237 218\n",
      " 319 166 311 169 187 176 241 131]\n",
      "==============================\n",
      "fbs : [1 0]\n",
      "==============================\n",
      "restecg : [0 1 2]\n",
      "==============================\n",
      "thalach : [150 187 172 178 163 148 153 173 162 174 160 139 171 144 158 114 151 161\n",
      " 179 137 157 123 152 168 140 188 125 170 165 142 180 143 182 156 115 149\n",
      " 146 175 186 185 159 130 190 132 147 154 202 166 164 184 122 169 138 111\n",
      " 145 194 131 133 155 167 192 121  96 126 105 181 116 108 129 120 112 128\n",
      " 109 113  99 177 141 136  97 127 103 124  88 195 106  95 117  71 118 134\n",
      "  90]\n",
      "==============================\n",
      "exang : [0 1]\n",
      "==============================\n",
      "oldpeak : [2.3 3.5 1.4 0.8 0.6 0.4 1.3 0.  0.5 1.6 1.2 0.2 1.8 1.  2.6 1.5 3.  2.4\n",
      " 0.1 1.9 4.2 1.1 2.  0.7 0.3 0.9 3.6 3.1 3.2 2.5 2.2 2.8 3.4 6.2 4.  5.6\n",
      " 2.9 2.1 3.8 4.4]\n",
      "==============================\n",
      "slope : [0 2 1]\n",
      "==============================\n",
      "ca : [0 2 1 3 4]\n",
      "==============================\n",
      "thal : [1 2 3 0]\n",
      "==============================\n",
      "target : [1 0]\n"
     ]
    }
   ],
   "source": [
    "categorical_val = []\n",
    "continous_val = []\n",
    "for column in df.columns:\n",
    "    print('==============================')\n",
    "    print(f\"{column} : {df[column].unique()}\")\n",
    "    if len(df[column].unique()) <= 10:\n",
    "        categorical_val.append(column)\n",
    "    else:\n",
    "        continous_val.append(column)"
   ]
  },
  {
   "cell_type": "code",
   "execution_count": 10,
   "metadata": {},
   "outputs": [
    {
     "name": "stdout",
     "output_type": "stream",
     "text": [
      " actegorical val  ['sex', 'cp', 'fbs', 'restecg', 'exang', 'slope', 'ca', 'thal', 'target']\n",
      "continous val  ['age', 'trestbps', 'chol', 'thalach', 'oldpeak']\n"
     ]
    }
   ],
   "source": [
    "print(\" actegorical val \",categorical_val)\n",
    "print(\"continous val \",continous_val)"
   ]
  },
  {
   "cell_type": "markdown",
   "metadata": {},
   "source": [
    "# Data processing"
   ]
  },
  {
   "cell_type": "code",
   "execution_count": 11,
   "metadata": {},
   "outputs": [],
   "source": [
    "\n",
    "categorical_val.remove('target')\n",
    "dataset = pd.get_dummies(df, columns = categorical_val)\n",
    "#dataset.head()"
   ]
  },
  {
   "cell_type": "code",
   "execution_count": 12,
   "metadata": {},
   "outputs": [
    {
     "data": {
      "text/html": [
       "<div>\n",
       "<style scoped>\n",
       "    .dataframe tbody tr th:only-of-type {\n",
       "        vertical-align: middle;\n",
       "    }\n",
       "\n",
       "    .dataframe tbody tr th {\n",
       "        vertical-align: top;\n",
       "    }\n",
       "\n",
       "    .dataframe thead th {\n",
       "        text-align: right;\n",
       "    }\n",
       "</style>\n",
       "<table border=\"1\" class=\"dataframe\">\n",
       "  <thead>\n",
       "    <tr style=\"text-align: right;\">\n",
       "      <th></th>\n",
       "      <th>age</th>\n",
       "      <th>trestbps</th>\n",
       "      <th>chol</th>\n",
       "      <th>thalach</th>\n",
       "      <th>oldpeak</th>\n",
       "      <th>target</th>\n",
       "      <th>sex_0</th>\n",
       "      <th>sex_1</th>\n",
       "      <th>cp_0</th>\n",
       "      <th>cp_1</th>\n",
       "      <th>...</th>\n",
       "      <th>slope_2</th>\n",
       "      <th>ca_0</th>\n",
       "      <th>ca_1</th>\n",
       "      <th>ca_2</th>\n",
       "      <th>ca_3</th>\n",
       "      <th>ca_4</th>\n",
       "      <th>thal_0</th>\n",
       "      <th>thal_1</th>\n",
       "      <th>thal_2</th>\n",
       "      <th>thal_3</th>\n",
       "    </tr>\n",
       "  </thead>\n",
       "  <tbody>\n",
       "    <tr>\n",
       "      <td>0</td>\n",
       "      <td>63</td>\n",
       "      <td>145</td>\n",
       "      <td>233</td>\n",
       "      <td>150</td>\n",
       "      <td>2.30</td>\n",
       "      <td>1</td>\n",
       "      <td>0</td>\n",
       "      <td>1</td>\n",
       "      <td>0</td>\n",
       "      <td>0</td>\n",
       "      <td>...</td>\n",
       "      <td>0</td>\n",
       "      <td>1</td>\n",
       "      <td>0</td>\n",
       "      <td>0</td>\n",
       "      <td>0</td>\n",
       "      <td>0</td>\n",
       "      <td>0</td>\n",
       "      <td>1</td>\n",
       "      <td>0</td>\n",
       "      <td>0</td>\n",
       "    </tr>\n",
       "    <tr>\n",
       "      <td>1</td>\n",
       "      <td>37</td>\n",
       "      <td>130</td>\n",
       "      <td>250</td>\n",
       "      <td>187</td>\n",
       "      <td>3.50</td>\n",
       "      <td>1</td>\n",
       "      <td>0</td>\n",
       "      <td>1</td>\n",
       "      <td>0</td>\n",
       "      <td>0</td>\n",
       "      <td>...</td>\n",
       "      <td>0</td>\n",
       "      <td>1</td>\n",
       "      <td>0</td>\n",
       "      <td>0</td>\n",
       "      <td>0</td>\n",
       "      <td>0</td>\n",
       "      <td>0</td>\n",
       "      <td>0</td>\n",
       "      <td>1</td>\n",
       "      <td>0</td>\n",
       "    </tr>\n",
       "    <tr>\n",
       "      <td>2</td>\n",
       "      <td>41</td>\n",
       "      <td>130</td>\n",
       "      <td>204</td>\n",
       "      <td>172</td>\n",
       "      <td>1.40</td>\n",
       "      <td>1</td>\n",
       "      <td>1</td>\n",
       "      <td>0</td>\n",
       "      <td>0</td>\n",
       "      <td>1</td>\n",
       "      <td>...</td>\n",
       "      <td>1</td>\n",
       "      <td>1</td>\n",
       "      <td>0</td>\n",
       "      <td>0</td>\n",
       "      <td>0</td>\n",
       "      <td>0</td>\n",
       "      <td>0</td>\n",
       "      <td>0</td>\n",
       "      <td>1</td>\n",
       "      <td>0</td>\n",
       "    </tr>\n",
       "    <tr>\n",
       "      <td>3</td>\n",
       "      <td>56</td>\n",
       "      <td>120</td>\n",
       "      <td>236</td>\n",
       "      <td>178</td>\n",
       "      <td>0.80</td>\n",
       "      <td>1</td>\n",
       "      <td>0</td>\n",
       "      <td>1</td>\n",
       "      <td>0</td>\n",
       "      <td>1</td>\n",
       "      <td>...</td>\n",
       "      <td>1</td>\n",
       "      <td>1</td>\n",
       "      <td>0</td>\n",
       "      <td>0</td>\n",
       "      <td>0</td>\n",
       "      <td>0</td>\n",
       "      <td>0</td>\n",
       "      <td>0</td>\n",
       "      <td>1</td>\n",
       "      <td>0</td>\n",
       "    </tr>\n",
       "    <tr>\n",
       "      <td>4</td>\n",
       "      <td>57</td>\n",
       "      <td>120</td>\n",
       "      <td>354</td>\n",
       "      <td>163</td>\n",
       "      <td>0.60</td>\n",
       "      <td>1</td>\n",
       "      <td>1</td>\n",
       "      <td>0</td>\n",
       "      <td>1</td>\n",
       "      <td>0</td>\n",
       "      <td>...</td>\n",
       "      <td>1</td>\n",
       "      <td>1</td>\n",
       "      <td>0</td>\n",
       "      <td>0</td>\n",
       "      <td>0</td>\n",
       "      <td>0</td>\n",
       "      <td>0</td>\n",
       "      <td>0</td>\n",
       "      <td>1</td>\n",
       "      <td>0</td>\n",
       "    </tr>\n",
       "  </tbody>\n",
       "</table>\n",
       "<p>5 rows × 31 columns</p>\n",
       "</div>"
      ],
      "text/plain": [
       "   age  trestbps  chol  thalach  oldpeak  target  sex_0  sex_1  cp_0  cp_1  \\\n",
       "0   63       145   233      150     2.30       1      0      1     0     0   \n",
       "1   37       130   250      187     3.50       1      0      1     0     0   \n",
       "2   41       130   204      172     1.40       1      1      0     0     1   \n",
       "3   56       120   236      178     0.80       1      0      1     0     1   \n",
       "4   57       120   354      163     0.60       1      1      0     1     0   \n",
       "\n",
       "   ...  slope_2  ca_0  ca_1  ca_2  ca_3  ca_4  thal_0  thal_1  thal_2  thal_3  \n",
       "0  ...        0     1     0     0     0     0       0       1       0       0  \n",
       "1  ...        0     1     0     0     0     0       0       0       1       0  \n",
       "2  ...        1     1     0     0     0     0       0       0       1       0  \n",
       "3  ...        1     1     0     0     0     0       0       0       1       0  \n",
       "4  ...        1     1     0     0     0     0       0       0       1       0  \n",
       "\n",
       "[5 rows x 31 columns]"
      ]
     },
     "execution_count": 12,
     "metadata": {},
     "output_type": "execute_result"
    }
   ],
   "source": [
    "dataset.head()"
   ]
  },
  {
   "cell_type": "code",
   "execution_count": 13,
   "metadata": {},
   "outputs": [
    {
     "name": "stdout",
     "output_type": "stream",
     "text": [
      "Index(['age', 'sex', 'cp', 'trestbps', 'chol', 'fbs', 'restecg', 'thalach',\n",
      "       'exang', 'oldpeak', 'slope', 'ca', 'thal', 'target'],\n",
      "      dtype='object')\n",
      "Index(['age', 'trestbps', 'chol', 'thalach', 'oldpeak', 'target', 'sex_0',\n",
      "       'sex_1', 'cp_0', 'cp_1', 'cp_2', 'cp_3', 'fbs_0', 'fbs_1', 'restecg_0',\n",
      "       'restecg_1', 'restecg_2', 'exang_0', 'exang_1', 'slope_0', 'slope_1',\n",
      "       'slope_2', 'ca_0', 'ca_1', 'ca_2', 'ca_3', 'ca_4', 'thal_0', 'thal_1',\n",
      "       'thal_2', 'thal_3'],\n",
      "      dtype='object')\n"
     ]
    }
   ],
   "source": [
    "print(df.columns)\n",
    "\n",
    "print(dataset.columns)"
   ]
  },
  {
   "cell_type": "code",
   "execution_count": 14,
   "metadata": {},
   "outputs": [],
   "source": [
    "from sklearn.preprocessing import StandardScaler\n",
    "\n",
    "s_sc = StandardScaler()\n",
    "col_to_scale = ['age', 'trestbps', 'chol', 'thalach', 'oldpeak']\n",
    "dataset[col_to_scale] = s_sc.fit_transform(dataset[col_to_scale])\n"
   ]
  },
  {
   "cell_type": "markdown",
   "metadata": {},
   "source": [
    "# Applying Decision tree algo"
   ]
  },
  {
   "cell_type": "code",
   "execution_count": 15,
   "metadata": {},
   "outputs": [],
   "source": [
    "from sklearn.metrics import accuracy_score, confusion_matrix, precision_score, recall_score, f1_score\n",
    "train_score_1={}\n",
    "\n",
    "f1_train1={}\n",
    "precision_train1={}\n",
    "recall_train1={}\n",
    "test_score_1={}\n",
    "f1_test1={}\n",
    "precision_test1={}\n",
    "recall_test1={}\n",
    "def print_score(algo_name,clf, X_train, y_train, X_test, y_test, train=True):\n",
    "    \n",
    "    if train:\n",
    "        pred = clf.predict(X_train)\n",
    "        print(\"Train Result:\\n================================================\")\n",
    "        \n",
    "        print(f\"Accuracy Score: {accuracy_score(y_train, pred) * 100:.2f}%\")\n",
    "        print(\"_______________________________________________\")\n",
    "        print(\"Classification Report:\", end='')\n",
    "        print(f\"\\tPrecision Score: {precision_score(y_train, pred) * 100:.2f}%\")\n",
    "        print(f\"\\t\\t\\tRecall Score: {recall_score(y_train, pred) * 100:.2f}%\")\n",
    "        print(f\"\\t\\t\\tF1 score: {f1_score(y_train, pred) * 100:.2f}%\")\n",
    "        print(\"_______________________________________________\")\n",
    "        print(f\"Confusion Matrix: \\n {confusion_matrix(y_train, pred)}\\n\")\n",
    "        train_score_1[\"Training score \"+algo_name]=accuracy_score(y_train, pred) * 100\n",
    "        f1_train1[algo_name+\" training f1 score \"]=f1_score(y_train, pred) * 100\n",
    "        precision_train1[algo_name+\" training precision score\"]=precision_score(y_train, pred) * 100\n",
    "        recall_train1[algo_name+\" training recall score\"]= recall_score(y_train, pred) * 100\n",
    "        \n",
    "    elif train==False:\n",
    "        pred = clf.predict(X_test)\n",
    "        print(\"Test Result:\\n================================================\")        \n",
    "        print(f\"Accuracy Score: {accuracy_score(y_test, pred) * 100:.2f}%\")\n",
    "        print(\"_______________________________________________\")\n",
    "        print(\"Classification Report:\", end='')\n",
    "        print(f\"\\tPrecision Score: {precision_score(y_test, pred) * 100:.2f}%\")\n",
    "        print(f\"\\t\\t\\tRecall Score: {recall_score(y_test, pred) * 100:.2f}%\")\n",
    "        print(f\"\\t\\t\\tF1 score: {f1_score(y_test, pred) * 100:.2f}%\")\n",
    "        print(\"_______________________________________________\")\n",
    "        print(f\"Confusion Matrix: \\n {confusion_matrix(y_test, pred)}\\n\")\n",
    "        test_score_1[\"Testing score\"+algo_name]=accuracy_score(y_test, pred) * 100\n",
    "        f1_test1[algo_name+\" testing f1 score\"]=f1_score(y_test, pred) * 100\n",
    "        precision_test1[algo_name+\" testing precision score\"]=precision_score(y_test, pred) * 100\n",
    "        recall_test1[algo_name+\" testing recall score\"]= recall_score(y_test, pred) * 100\n",
    "    #return f1_train , precision_train ,recall_train,f1_test,precision_test,recall_test"
   ]
  },
  {
   "cell_type": "code",
   "execution_count": 16,
   "metadata": {},
   "outputs": [],
   "source": [
    "from sklearn.model_selection import train_test_split\n",
    "\n",
    "X = dataset.drop('target', axis=1)\n",
    "y = dataset.target\n",
    "\n",
    "X_train, X_test, y_train, y_test = train_test_split(X, y, test_size=0.3, random_state=42)\n"
   ]
  },
  {
   "cell_type": "markdown",
   "metadata": {},
   "source": [
    "# =======HYPERPARAMETER TUNING ON ALGOS==========="
   ]
  },
  {
   "cell_type": "markdown",
   "metadata": {},
   "source": [
    "# Decision tree hyper parameter tuning"
   ]
  },
  {
   "cell_type": "code",
   "execution_count": 17,
   "metadata": {},
   "outputs": [],
   "source": [
    "from sklearn. tree import DecisionTreeClassifier\n",
    "from sklearn.model_selection import GridSearchCV ,RandomizedSearchCV\n",
    "\n",
    "params = {\"criterion\":(\"gini\", \"entropy\"), \n",
    "          \"splitter\":(\"best\", \"random\"), \n",
    "          \"max_depth\":(list(range(1, 20))), \n",
    "          \"min_samples_split\":[2, 3, 4], \n",
    "          \"min_samples_leaf\":list(range(1, 20))\n",
    "          }\n",
    "\n",
    "\n",
    "tree = DecisionTreeClassifier(random_state=42)\n",
    "grid_search_cv = GridSearchCV(tree, params, scoring=\"accuracy\", verbose=3, n_jobs=-1, cv=3,iid=True)\n",
    "\n",
    "\n",
    "#Verbose is a general programming term for produce lots of logging output.\n",
    "#You can think of it as asking the program to \"tell me everything about what you are doing all the time\".\n",
    "#Just set it to true and see what happens.\n",
    "\n",
    "#iid : boolean, default=True\n",
    "\n",
    "#    If True, the data is assumed to be identically distributed across the folds, and the loss minimized is the total loss per sample, and not the mean loss across the folds.\n",
    "\n",
    "\n",
    "\n",
    "#n_jobs : int, default=1\n",
    "\n",
    "#    Number of jobs to run in parallel."
   ]
  },
  {
   "cell_type": "code",
   "execution_count": 18,
   "metadata": {},
   "outputs": [],
   "source": [
    "#grid_search_cv.fit(X_train, y_train)"
   ]
  },
  {
   "cell_type": "code",
   "execution_count": 19,
   "metadata": {},
   "outputs": [],
   "source": [
    "#grid_search_cv.best_estimator_ "
   ]
  },
  {
   "cell_type": "code",
   "execution_count": 20,
   "metadata": {},
   "outputs": [],
   "source": [
    "#grid_search_cv.best_score_\n",
    "#grid_search_cv.best_params_\n"
   ]
  },
  {
   "cell_type": "code",
   "execution_count": 21,
   "metadata": {},
   "outputs": [
    {
     "data": {
      "text/plain": [
       "'\\nbest_estimator_ : estimator\\n\\n    Estimator that was chosen by the search, i.e. estimator which gave highest score (or smallest loss if specified) on the left out data. Not available if refit=False.\\n\\nbest_score_ : float\\n\\n    Score of best_estimator on the left out data.\\n\\nbest_params_ : dict\\n\\n    Parameter setting that gave the best results on the hold out data.\\n\\nscorer_ : function\\n\\n    Scorer function used on the held out data to choose the best parameters for the model.\")\\n'"
      ]
     },
     "execution_count": 21,
     "metadata": {},
     "output_type": "execute_result"
    }
   ],
   "source": [
    "\n",
    "\"\"\"\n",
    "best_estimator_ : estimator\n",
    "\n",
    "    Estimator that was chosen by the search, i.e. estimator which gave highest score (or smallest loss if specified) on the left out data. Not available if refit=False.\n",
    "\n",
    "best_score_ : float\n",
    "\n",
    "    Score of best_estimator on the left out data.\n",
    "\n",
    "best_params_ : dict\n",
    "\n",
    "    Parameter setting that gave the best results on the hold out data.\n",
    "\n",
    "scorer_ : function\n",
    "\n",
    "    Scorer function used on the held out data to choose the best parameters for the model.\")\n",
    "\"\"\""
   ]
  },
  {
   "cell_type": "code",
   "execution_count": 22,
   "metadata": {},
   "outputs": [],
   "source": [
    "tree = DecisionTreeClassifier(criterion='gini', \n",
    "                              max_depth=3,\n",
    "                              min_samples_leaf=2, \n",
    "                              min_samples_split=2, \n",
    "                              splitter='random')"
   ]
  },
  {
   "cell_type": "code",
   "execution_count": 23,
   "metadata": {},
   "outputs": [
    {
     "name": "stdout",
     "output_type": "stream",
     "text": [
      "Train Result:\n",
      "================================================\n",
      "Accuracy Score: 85.85%\n",
      "_______________________________________________\n",
      "Classification Report:\tPrecision Score: 85.12%\n",
      "\t\t\tRecall Score: 89.57%\n",
      "\t\t\tF1 score: 87.29%\n",
      "_______________________________________________\n",
      "Confusion Matrix: \n",
      " [[ 79  18]\n",
      " [ 12 103]]\n",
      "\n",
      "Test Result:\n",
      "================================================\n",
      "Accuracy Score: 84.62%\n",
      "_______________________________________________\n",
      "Classification Report:\tPrecision Score: 87.50%\n",
      "\t\t\tRecall Score: 84.00%\n",
      "\t\t\tF1 score: 85.71%\n",
      "_______________________________________________\n",
      "Confusion Matrix: \n",
      " [[35  6]\n",
      " [ 8 42]]\n",
      "\n"
     ]
    }
   ],
   "source": [
    "tree.fit(X_train, y_train)\n",
    "\n",
    "\n",
    "print_score(\"Decision tree\",tree,X_train, y_train, X_test, y_test, train=True)\n",
    "print_score(\"Decision tree\",tree, X_train, y_train, X_test, y_test, train=False)\n"
   ]
  },
  {
   "cell_type": "code",
   "execution_count": null,
   "metadata": {},
   "outputs": [],
   "source": []
  },
  {
   "cell_type": "code",
   "execution_count": null,
   "metadata": {},
   "outputs": [],
   "source": []
  },
  {
   "cell_type": "markdown",
   "metadata": {},
   "source": [
    "# logistic regression"
   ]
  },
  {
   "cell_type": "code",
   "execution_count": 24,
   "metadata": {},
   "outputs": [
    {
     "data": {
      "text/plain": [
       "LogisticRegression(C=1.0, class_weight=None, dual=False, fit_intercept=True,\n",
       "                   intercept_scaling=1, l1_ratio=None, max_iter=100,\n",
       "                   multi_class='warn', n_jobs=None, penalty='l2',\n",
       "                   random_state=42, solver='liblinear', tol=0.0001, verbose=0,\n",
       "                   warm_start=False)"
      ]
     },
     "execution_count": 24,
     "metadata": {},
     "output_type": "execute_result"
    }
   ],
   "source": [
    "from sklearn.linear_model import LogisticRegression\n",
    "\"\"\"\n",
    "params1 = {\"solver\":(\"newton-cg\", \"lbfgs\", \"liblinear\", \"sag\", \"saga\"), \n",
    "           \n",
    "          \"C\":(list(range(1, 100)))  ,\n",
    "           \"multi_class\":(\"auto\", \"ovr\")\n",
    "          }\n",
    "\"\"\"\n",
    "log_reg = LogisticRegression(random_state=42,solver=\"liblinear\")\n",
    "\n",
    "#grid_search_cv = GridSearchCV(log_reg, params1, scoring=\"accuracy\", verbose=3, n_jobs=-1, cv=3,iid=True)\n",
    "\n",
    "#grid_search_cv.fit(X_train, y_train)\n",
    "\n",
    "\n",
    "log_reg.fit(X_train,y_train)"
   ]
  },
  {
   "cell_type": "code",
   "execution_count": 25,
   "metadata": {},
   "outputs": [],
   "source": [
    "#grid_search_cv.best_estimator_ \n",
    "\n"
   ]
  },
  {
   "cell_type": "code",
   "execution_count": 26,
   "metadata": {},
   "outputs": [
    {
     "data": {
      "text/plain": [
       "LogisticRegression(C=1, class_weight=None, dual=False, fit_intercept=True,\n",
       "                   intercept_scaling=1, l1_ratio=None, max_iter=100,\n",
       "                   multi_class='warn', n_jobs=None, penalty='l2',\n",
       "                   random_state=None, solver='newton-cg', tol=0.0001, verbose=0,\n",
       "                   warm_start=False)"
      ]
     },
     "execution_count": 26,
     "metadata": {},
     "output_type": "execute_result"
    }
   ],
   "source": [
    "log_reg = LogisticRegression(C=1,solver=\"newton-cg\")\n",
    "log_reg.fit(X_train,y_train)"
   ]
  },
  {
   "cell_type": "code",
   "execution_count": 27,
   "metadata": {},
   "outputs": [
    {
     "name": "stdout",
     "output_type": "stream",
     "text": [
      "Train Result:\n",
      "================================================\n",
      "Accuracy Score: 86.79%\n",
      "_______________________________________________\n",
      "Classification Report:\tPrecision Score: 85.95%\n",
      "\t\t\tRecall Score: 90.43%\n",
      "\t\t\tF1 score: 88.14%\n",
      "_______________________________________________\n",
      "Confusion Matrix: \n",
      " [[ 80  17]\n",
      " [ 11 104]]\n",
      "\n",
      "Test Result:\n",
      "================================================\n",
      "Accuracy Score: 85.71%\n",
      "_______________________________________________\n",
      "Classification Report:\tPrecision Score: 84.91%\n",
      "\t\t\tRecall Score: 90.00%\n",
      "\t\t\tF1 score: 87.38%\n",
      "_______________________________________________\n",
      "Confusion Matrix: \n",
      " [[33  8]\n",
      " [ 5 45]]\n",
      "\n"
     ]
    }
   ],
   "source": [
    "print_score(\"Logistic regression\",log_reg, X_train, y_train, X_test, y_test, train=True)\n",
    "print_score(\"Logistic regression\",log_reg, X_train, y_train, X_test, y_test, train=False)"
   ]
  },
  {
   "cell_type": "code",
   "execution_count": 28,
   "metadata": {},
   "outputs": [],
   "source": [
    "from sklearn import svm"
   ]
  },
  {
   "cell_type": "code",
   "execution_count": 29,
   "metadata": {},
   "outputs": [],
   "source": [
    "params= {'C': [0.1, 1, 10, 100, 1000],  \n",
    "              'gamma': [1, 0.1, 0.01, 0.001, 0.0001], \n",
    "              'kernel': ['rbf']}  "
   ]
  },
  {
   "cell_type": "code",
   "execution_count": 30,
   "metadata": {},
   "outputs": [],
   "source": [
    "svm1 = svm.SVC(kernel='linear') \n",
    "#svmrn=RandomizedSearchCV(svm1,param_distributions=params,n_iter=5,scoring='roc_auc',n_jobs=-1,cv=5,verbose=3,iid=True);\n"
   ]
  },
  {
   "cell_type": "code",
   "execution_count": 31,
   "metadata": {},
   "outputs": [],
   "source": [
    "#svmrn.fit(X_train, y_train)"
   ]
  },
  {
   "cell_type": "code",
   "execution_count": 32,
   "metadata": {},
   "outputs": [],
   "source": [
    "#svmrn.best_estimator_"
   ]
  },
  {
   "cell_type": "code",
   "execution_count": 33,
   "metadata": {},
   "outputs": [],
   "source": [
    "svm1=svm.SVC(C=10, cache_size=200, class_weight=None, coef0=0.0,\n",
    "    decision_function_shape='ovr', degree=3, gamma=0.001, kernel='rbf',\n",
    "    max_iter=-1, probability=False, random_state=None, shrinking=True,\n",
    "    tol=0.001, verbose=False)"
   ]
  },
  {
   "cell_type": "code",
   "execution_count": 34,
   "metadata": {},
   "outputs": [
    {
     "data": {
      "text/plain": [
       "SVC(C=10, cache_size=200, class_weight=None, coef0=0.0,\n",
       "    decision_function_shape='ovr', degree=3, gamma=0.001, kernel='rbf',\n",
       "    max_iter=-1, probability=False, random_state=None, shrinking=True,\n",
       "    tol=0.001, verbose=False)"
      ]
     },
     "execution_count": 34,
     "metadata": {},
     "output_type": "execute_result"
    }
   ],
   "source": [
    "svm1.fit(X_train, y_train)"
   ]
  },
  {
   "cell_type": "code",
   "execution_count": 35,
   "metadata": {},
   "outputs": [
    {
     "name": "stdout",
     "output_type": "stream",
     "text": [
      "Train Result:\n",
      "================================================\n",
      "Accuracy Score: 86.79%\n",
      "_______________________________________________\n",
      "Classification Report:\tPrecision Score: 85.95%\n",
      "\t\t\tRecall Score: 90.43%\n",
      "\t\t\tF1 score: 88.14%\n",
      "_______________________________________________\n",
      "Confusion Matrix: \n",
      " [[ 80  17]\n",
      " [ 11 104]]\n",
      "\n",
      "Test Result:\n",
      "================================================\n",
      "Accuracy Score: 85.71%\n",
      "_______________________________________________\n",
      "Classification Report:\tPrecision Score: 84.91%\n",
      "\t\t\tRecall Score: 90.00%\n",
      "\t\t\tF1 score: 87.38%\n",
      "_______________________________________________\n",
      "Confusion Matrix: \n",
      " [[33  8]\n",
      " [ 5 45]]\n",
      "\n"
     ]
    }
   ],
   "source": [
    "print_score(\"SVM\",log_reg, X_train, y_train, X_test, y_test, train=True)\n",
    "print_score(\"SVM\",log_reg, X_train, y_train, X_test, y_test, train=False)"
   ]
  },
  {
   "cell_type": "code",
   "execution_count": 36,
   "metadata": {},
   "outputs": [
    {
     "data": {
      "text/plain": [
       "{'Decision tree testing f1 score': 85.71428571428572,\n",
       " 'Logistic regression testing f1 score': 87.37864077669903,\n",
       " 'SVM testing f1 score': 87.37864077669903}"
      ]
     },
     "execution_count": 36,
     "metadata": {},
     "output_type": "execute_result"
    }
   ],
   "source": [
    "f1_test1"
   ]
  },
  {
   "cell_type": "markdown",
   "metadata": {},
   "source": [
    "# KNN algorithm"
   ]
  },
  {
   "cell_type": "code",
   "execution_count": 37,
   "metadata": {},
   "outputs": [
    {
     "name": "stdout",
     "output_type": "stream",
     "text": [
      "Train Result:\n",
      "================================================\n",
      "Accuracy Score: 84.43%\n",
      "_______________________________________________\n",
      "Classification Report:\tPrecision Score: 82.54%\n",
      "\t\t\tRecall Score: 90.43%\n",
      "\t\t\tF1 score: 86.31%\n",
      "_______________________________________________\n",
      "Confusion Matrix: \n",
      " [[ 75  22]\n",
      " [ 11 104]]\n",
      "\n",
      "Test Result:\n",
      "================================================\n",
      "Accuracy Score: 89.01%\n",
      "_______________________________________________\n",
      "Classification Report:\tPrecision Score: 87.04%\n",
      "\t\t\tRecall Score: 94.00%\n",
      "\t\t\tF1 score: 90.38%\n",
      "_______________________________________________\n",
      "Confusion Matrix: \n",
      " [[34  7]\n",
      " [ 3 47]]\n",
      "\n"
     ]
    }
   ],
   "source": [
    "from sklearn.neighbors import KNeighborsClassifier\n",
    "\n",
    "train_score = []\n",
    "test_score = []\n",
    "neighbors = range(1, 21)\n",
    "\n",
    "for k in neighbors:\n",
    "    model = KNeighborsClassifier(n_neighbors=k)\n",
    "    model.fit(X_train, y_train)\n",
    "    train_score.append(accuracy_score(y_train, model.predict(X_train)))\n",
    "    test_score.append(accuracy_score(y_test, model.predict(X_test)))\n",
    "\n",
    "    \n",
    "knn_classifier = KNeighborsClassifier(n_neighbors=19)\n",
    "knn_classifier.fit(X_train, y_train)\n",
    "\n",
    "print_score(\"KNN\",knn_classifier, X_train, y_train, X_test, y_test, train=True)\n",
    "print_score(\"KNN\",knn_classifier, X_train, y_train, X_test, y_test, train=False)\n"
   ]
  },
  {
   "cell_type": "markdown",
   "metadata": {},
   "source": [
    "# Random forest"
   ]
  },
  {
   "cell_type": "code",
   "execution_count": 38,
   "metadata": {},
   "outputs": [
    {
     "data": {
      "text/plain": [
       "'\\n    n_estimators = number of trees in the foreset\\n    \\n    max_features = max number of features considered for splitting a node\\n    \\n    max_depth = max number of levels in each decision tree\\n    \\n    min_samples_split = min number of data points placed in a node before the node is split\\n    \\n    min_samples_leaf = min number of data points allowed in a leaf node\\n    \\n    bootstrap = method for sampling data points (with or without replacement)\\n\\n'"
      ]
     },
     "execution_count": 38,
     "metadata": {},
     "output_type": "execute_result"
    }
   ],
   "source": [
    "from sklearn.ensemble import RandomForestClassifier\n",
    "\n",
    "\"\"\"\n",
    "n_estimators = [int(x) for x in np.linspace(start=200, stop=2000, num=10)]\n",
    "max_features = ['auto', 'sqrt']\n",
    "max_depth = [int(x) for x in np.linspace(10, 110, num=11)]\n",
    "max_depth.append(None)\n",
    "min_samples_split = [2, 5, 10]\n",
    "min_samples_leaf = [1, 2, 4]\n",
    "bootstrap = [True, False]\n",
    "\n",
    "random_grid = {'n_estimators': n_estimators, 'max_features': max_features,\n",
    "               'max_depth': max_depth, 'min_samples_split': min_samples_split,\n",
    "               'min_samples_leaf': min_samples_leaf, 'bootstrap': bootstrap}\n",
    "\n",
    "rand_forest = RandomForestClassifier()\n",
    "\n",
    "grid_search_cv2 = GridSearchCV(rand_forest, random_grid, scoring=\"accuracy\", verbose=3, n_jobs=-1, cv=3,iid=True)\n",
    "\n",
    "\"\"\"\n",
    "\"\"\"\n",
    "    n_estimators = number of trees in the foreset\n",
    "    \n",
    "    max_features = max number of features considered for splitting a node\n",
    "    \n",
    "    max_depth = max number of levels in each decision tree\n",
    "    \n",
    "    min_samples_split = min number of data points placed in a node before the node is split\n",
    "    \n",
    "    min_samples_leaf = min number of data points allowed in a leaf node\n",
    "    \n",
    "    bootstrap = method for sampling data points (with or without replacement)\n",
    "\n",
    "\"\"\""
   ]
  },
  {
   "cell_type": "code",
   "execution_count": null,
   "metadata": {},
   "outputs": [],
   "source": []
  },
  {
   "cell_type": "code",
   "execution_count": 39,
   "metadata": {},
   "outputs": [],
   "source": [
    "#grid_search_cv2.fit(X_train, y_train)"
   ]
  },
  {
   "cell_type": "code",
   "execution_count": 40,
   "metadata": {},
   "outputs": [],
   "source": [
    "#grid_search_cv2.best_params_\n",
    "#rand_forest.fit(X_train, y_train)\n",
    "\n",
    "rand_forest = RandomForestClassifier(bootstrap= True,max_depth= 10, min_samples_split= 5, n_estimators= 200)\n",
    "\n"
   ]
  },
  {
   "cell_type": "code",
   "execution_count": 41,
   "metadata": {},
   "outputs": [
    {
     "data": {
      "text/plain": [
       "RandomForestClassifier(bootstrap=True, class_weight=None, criterion='gini',\n",
       "                       max_depth=10, max_features='auto', max_leaf_nodes=None,\n",
       "                       min_impurity_decrease=0.0, min_impurity_split=None,\n",
       "                       min_samples_leaf=1, min_samples_split=5,\n",
       "                       min_weight_fraction_leaf=0.0, n_estimators=200,\n",
       "                       n_jobs=None, oob_score=False, random_state=None,\n",
       "                       verbose=0, warm_start=False)"
      ]
     },
     "execution_count": 41,
     "metadata": {},
     "output_type": "execute_result"
    }
   ],
   "source": [
    "rand_forest.fit(X_train,y_train)"
   ]
  },
  {
   "cell_type": "code",
   "execution_count": 42,
   "metadata": {},
   "outputs": [
    {
     "name": "stdout",
     "output_type": "stream",
     "text": [
      "Train Result:\n",
      "================================================\n",
      "Accuracy Score: 97.64%\n",
      "_______________________________________________\n",
      "Classification Report:\tPrecision Score: 98.25%\n",
      "\t\t\tRecall Score: 97.39%\n",
      "\t\t\tF1 score: 97.82%\n",
      "_______________________________________________\n",
      "Confusion Matrix: \n",
      " [[ 95   2]\n",
      " [  3 112]]\n",
      "\n",
      "Test Result:\n",
      "================================================\n",
      "Accuracy Score: 82.42%\n",
      "_______________________________________________\n",
      "Classification Report:\tPrecision Score: 84.00%\n",
      "\t\t\tRecall Score: 84.00%\n",
      "\t\t\tF1 score: 84.00%\n",
      "_______________________________________________\n",
      "Confusion Matrix: \n",
      " [[33  8]\n",
      " [ 8 42]]\n",
      "\n"
     ]
    }
   ],
   "source": [
    "print_score(\"Random forest\",rand_forest, X_train, y_train, X_test, y_test, train=True)\n",
    "print_score(\"Random forest\",rand_forest, X_train, y_train, X_test, y_test, train=False)"
   ]
  },
  {
   "cell_type": "code",
   "execution_count": 43,
   "metadata": {},
   "outputs": [],
   "source": [
    "#grid_search_cv2.best_estimator_ "
   ]
  },
  {
   "cell_type": "code",
   "execution_count": 44,
   "metadata": {},
   "outputs": [],
   "source": [
    "import matplotlib.pyplot as plt"
   ]
  },
  {
   "cell_type": "markdown",
   "metadata": {},
   "source": [
    "# Xgboost"
   ]
  },
  {
   "cell_type": "code",
   "execution_count": 45,
   "metadata": {},
   "outputs": [],
   "source": [
    "params={\n",
    "    \"learning_rate\" :  [0.05,0.10,0.15,0.20,0.25,0.30],\n",
    "    \"max_depth\" : [3,4,5,6,8,10,12,15],\n",
    "    \"min_child_weight\" : [1,3,5,7],\n",
    "    \"gamma\" : [0.0,0.1,0.2,0.3,0.4],\n",
    "    \"colsample_bytree\" : [0.3,0.4,0.5,0.7]\n",
    "}"
   ]
  },
  {
   "cell_type": "code",
   "execution_count": 46,
   "metadata": {},
   "outputs": [],
   "source": [
    "from xgboost import XGBClassifier "
   ]
  },
  {
   "cell_type": "code",
   "execution_count": 47,
   "metadata": {},
   "outputs": [
    {
     "name": "stdout",
     "output_type": "stream",
     "text": [
      "Fitting 5 folds for each of 5 candidates, totalling 25 fits\n"
     ]
    },
    {
     "name": "stderr",
     "output_type": "stream",
     "text": [
      "[Parallel(n_jobs=-1)]: Using backend LokyBackend with 4 concurrent workers.\n",
      "[Parallel(n_jobs=-1)]: Done  25 out of  25 | elapsed:    8.5s finished\n"
     ]
    },
    {
     "data": {
      "text/plain": [
       "RandomizedSearchCV(cv=5, error_score='raise-deprecating',\n",
       "                   estimator=XGBClassifier(base_score=0.5, booster='gbtree',\n",
       "                                           colsample_bylevel=1,\n",
       "                                           colsample_bynode=1,\n",
       "                                           colsample_bytree=1, gamma=0,\n",
       "                                           learning_rate=0.1, max_delta_step=0,\n",
       "                                           max_depth=3, min_child_weight=1,\n",
       "                                           missing=None, n_estimators=100,\n",
       "                                           n_jobs=1, nthread=None,\n",
       "                                           objective='binary:logistic',\n",
       "                                           random_state=0, reg_alpha=0...\n",
       "                                           seed=None, silent=None, subsample=1,\n",
       "                                           verbosity=1),\n",
       "                   iid=True, n_iter=5, n_jobs=-1,\n",
       "                   param_distributions={'colsample_bytree': [0.3, 0.4, 0.5,\n",
       "                                                             0.7],\n",
       "                                        'gamma': [0.0, 0.1, 0.2, 0.3, 0.4],\n",
       "                                        'learning_rate': [0.05, 0.1, 0.15, 0.2,\n",
       "                                                          0.25, 0.3],\n",
       "                                        'max_depth': [3, 4, 5, 6, 8, 10, 12,\n",
       "                                                      15],\n",
       "                                        'min_child_weight': [1, 3, 5, 7]},\n",
       "                   pre_dispatch='2*n_jobs', random_state=None, refit=True,\n",
       "                   return_train_score=False, scoring='roc_auc', verbose=3)"
      ]
     },
     "execution_count": 47,
     "metadata": {},
     "output_type": "execute_result"
    }
   ],
   "source": [
    "xgboost1 = XGBClassifier()\n",
    "xgboost1=RandomizedSearchCV(xgboost1,param_distributions=params,n_iter=5,scoring='roc_auc',n_jobs=-1,cv=5,verbose=3,iid=True);\n",
    "xgboost1.fit(X_train, y_train)"
   ]
  },
  {
   "cell_type": "code",
   "execution_count": 48,
   "metadata": {},
   "outputs": [
    {
     "data": {
      "text/plain": [
       "XGBClassifier(base_score=0.5, booster='gbtree', colsample_bylevel=1,\n",
       "              colsample_bynode=1, colsample_bytree=0.4, gamma=0.2,\n",
       "              learning_rate=0.05, max_delta_step=0, max_depth=15,\n",
       "              min_child_weight=3, missing=None, n_estimators=100, n_jobs=1,\n",
       "              nthread=None, objective='binary:logistic', random_state=0,\n",
       "              reg_alpha=0, reg_lambda=1, scale_pos_weight=1, seed=None,\n",
       "              silent=None, subsample=1, verbosity=1)"
      ]
     },
     "execution_count": 48,
     "metadata": {},
     "output_type": "execute_result"
    }
   ],
   "source": [
    "xgboost1.best_estimator_\n",
    "\n"
   ]
  },
  {
   "cell_type": "code",
   "execution_count": 49,
   "metadata": {},
   "outputs": [],
   "source": [
    "xgboost1=XGBClassifier(base_score=0.5, booster='gbtree', colsample_bylevel=1,\n",
    "              colsample_bynode=1, colsample_bytree=0.7, gamma=0.4,\n",
    "              learning_rate=0.25, max_delta_step=0, max_depth=8,\n",
    "              min_child_weight=7, missing=None, n_estimators=100, n_jobs=1,\n",
    "              nthread=None, objective='binary:logistic', random_state=0,\n",
    "              reg_alpha=0, reg_lambda=1, scale_pos_weight=1, seed=None,\n",
    "              silent=None, subsample=1, verbosity=1)\n"
   ]
  },
  {
   "cell_type": "code",
   "execution_count": 50,
   "metadata": {},
   "outputs": [],
   "source": [
    "xgboost1.fit(X_train, y_train);"
   ]
  },
  {
   "cell_type": "code",
   "execution_count": 51,
   "metadata": {},
   "outputs": [
    {
     "name": "stdout",
     "output_type": "stream",
     "text": [
      "Train Result:\n",
      "================================================\n",
      "Accuracy Score: 90.57%\n",
      "_______________________________________________\n",
      "Classification Report:\tPrecision Score: 90.60%\n",
      "\t\t\tRecall Score: 92.17%\n",
      "\t\t\tF1 score: 91.38%\n",
      "_______________________________________________\n",
      "Confusion Matrix: \n",
      " [[ 86  11]\n",
      " [  9 106]]\n",
      "\n",
      "Test Result:\n",
      "================================================\n",
      "Accuracy Score: 83.52%\n",
      "_______________________________________________\n",
      "Classification Report:\tPrecision Score: 85.71%\n",
      "\t\t\tRecall Score: 84.00%\n",
      "\t\t\tF1 score: 84.85%\n",
      "_______________________________________________\n",
      "Confusion Matrix: \n",
      " [[34  7]\n",
      " [ 8 42]]\n",
      "\n"
     ]
    }
   ],
   "source": [
    "print_score(\"xgboost\",xgboost1, X_train, y_train, X_test, y_test, train=True)\n",
    "print_score(\"xgboost\",xgboost1, X_train, y_train, X_test, y_test, train=False)"
   ]
  },
  {
   "cell_type": "code",
   "execution_count": null,
   "metadata": {},
   "outputs": [],
   "source": []
  },
  {
   "cell_type": "code",
   "execution_count": null,
   "metadata": {},
   "outputs": [],
   "source": []
  },
  {
   "cell_type": "code",
   "execution_count": null,
   "metadata": {},
   "outputs": [],
   "source": []
  },
  {
   "cell_type": "markdown",
   "metadata": {},
   "source": [
    "# Voting classifier"
   ]
  },
  {
   "cell_type": "code",
   "execution_count": 52,
   "metadata": {},
   "outputs": [],
   "source": [
    "from sklearn.ensemble import  VotingClassifier"
   ]
  },
  {
   "cell_type": "code",
   "execution_count": 53,
   "metadata": {},
   "outputs": [],
   "source": [
    "voting_clif = VotingClassifier(estimators=[\n",
    "    ('tree',tree),('lr',log_reg),('knn',knn_classifier),('rf',rand_forest)], \n",
    "                               voting='hard')"
   ]
  },
  {
   "cell_type": "code",
   "execution_count": 54,
   "metadata": {},
   "outputs": [
    {
     "data": {
      "text/plain": [
       "VotingClassifier(estimators=[('tree',\n",
       "                              DecisionTreeClassifier(class_weight=None,\n",
       "                                                     criterion='gini',\n",
       "                                                     max_depth=3,\n",
       "                                                     max_features=None,\n",
       "                                                     max_leaf_nodes=None,\n",
       "                                                     min_impurity_decrease=0.0,\n",
       "                                                     min_impurity_split=None,\n",
       "                                                     min_samples_leaf=2,\n",
       "                                                     min_samples_split=2,\n",
       "                                                     min_weight_fraction_leaf=0.0,\n",
       "                                                     presort=False,\n",
       "                                                     random_state=None,\n",
       "                                                     splitter='random')),\n",
       "                             ('lr',\n",
       "                              LogisticRegression(C=1, class_...\n",
       "                                                     class_weight=None,\n",
       "                                                     criterion='gini',\n",
       "                                                     max_depth=10,\n",
       "                                                     max_features='auto',\n",
       "                                                     max_leaf_nodes=None,\n",
       "                                                     min_impurity_decrease=0.0,\n",
       "                                                     min_impurity_split=None,\n",
       "                                                     min_samples_leaf=1,\n",
       "                                                     min_samples_split=5,\n",
       "                                                     min_weight_fraction_leaf=0.0,\n",
       "                                                     n_estimators=200,\n",
       "                                                     n_jobs=None,\n",
       "                                                     oob_score=False,\n",
       "                                                     random_state=None,\n",
       "                                                     verbose=0,\n",
       "                                                     warm_start=False))],\n",
       "                 flatten_transform=True, n_jobs=None, voting='hard',\n",
       "                 weights=None)"
      ]
     },
     "execution_count": 54,
     "metadata": {},
     "output_type": "execute_result"
    }
   ],
   "source": [
    "voting_clif.fit(X_train,y_train)"
   ]
  },
  {
   "cell_type": "code",
   "execution_count": 55,
   "metadata": {},
   "outputs": [],
   "source": [
    "for clf in (tree,log_reg,knn_classifier,rand_forest,voting_clif):\n",
    "    voting_clif.fit(X_train,y_train)\n",
    "    y_pred=clf.predict(X_test)"
   ]
  },
  {
   "cell_type": "code",
   "execution_count": null,
   "metadata": {},
   "outputs": [],
   "source": []
  },
  {
   "cell_type": "code",
   "execution_count": 56,
   "metadata": {},
   "outputs": [
    {
     "name": "stdout",
     "output_type": "stream",
     "text": [
      "Train Result:\n",
      "================================================\n",
      "Accuracy Score: 88.21%\n",
      "_______________________________________________\n",
      "Classification Report:\tPrecision Score: 88.79%\n",
      "\t\t\tRecall Score: 89.57%\n",
      "\t\t\tF1 score: 89.18%\n",
      "_______________________________________________\n",
      "Confusion Matrix: \n",
      " [[ 84  13]\n",
      " [ 12 103]]\n",
      "\n",
      "Test Result:\n",
      "================================================\n",
      "Accuracy Score: 84.62%\n",
      "_______________________________________________\n",
      "Classification Report:\tPrecision Score: 84.62%\n",
      "\t\t\tRecall Score: 88.00%\n",
      "\t\t\tF1 score: 86.27%\n",
      "_______________________________________________\n",
      "Confusion Matrix: \n",
      " [[33  8]\n",
      " [ 6 44]]\n",
      "\n"
     ]
    }
   ],
   "source": [
    "print_score(\"Voting Classifier\", voting_clif,X_train, y_train, X_test, y_test, train=True)\n",
    "print_score(\"Voting Classifier\",voting_clif, X_train, y_train, X_test, y_test, train=False)"
   ]
  },
  {
   "cell_type": "markdown",
   "metadata": {},
   "source": [
    "# whole accuracy"
   ]
  },
  {
   "cell_type": "markdown",
   "metadata": {},
   "source": [
    "below are returned scores from print_scores() fucntion"
   ]
  },
  {
   "cell_type": "code",
   "execution_count": null,
   "metadata": {},
   "outputs": [],
   "source": []
  },
  {
   "cell_type": "code",
   "execution_count": 61,
   "metadata": {},
   "outputs": [],
   "source": [
    "#test_scores=[test_score1,test_score2,test_score3,test_score4,test_score5]\n",
    "\n",
    "\n",
    "algos=[\"Decision\\ntree\", \"Logistic\\nregression\",\"SVM\", \"KNN\", \"Random\\nforest\",\"xgboost\", \"Voting\\nClassifier\"]\n",
    "train_score_=list(train_score_1.values())\n",
    "test_score_=list(test_score_1.values())\n",
    "f1_test=list(f1_test1.values())\n",
    "precision_test=list(precision_test1.values())\n",
    "recall_test=list(recall_test1.values())\n",
    "f1_train=list(f1_train1.values())\n",
    "precision_train=list(precision_train1.values())\n",
    "recall_train=list(recall_train1.values())\n",
    "\n",
    "\n"
   ]
  },
  {
   "cell_type": "code",
   "execution_count": 62,
   "metadata": {},
   "outputs": [
    {
     "data": {
      "text/html": [
       "<div>\n",
       "<style scoped>\n",
       "    .dataframe tbody tr th:only-of-type {\n",
       "        vertical-align: middle;\n",
       "    }\n",
       "\n",
       "    .dataframe tbody tr th {\n",
       "        vertical-align: top;\n",
       "    }\n",
       "\n",
       "    .dataframe thead th {\n",
       "        text-align: right;\n",
       "    }\n",
       "</style>\n",
       "<table border=\"1\" class=\"dataframe\">\n",
       "  <thead>\n",
       "    <tr style=\"text-align: right;\">\n",
       "      <th></th>\n",
       "      <th>Model</th>\n",
       "      <th>Training Accuracy %</th>\n",
       "      <th>Testing Accuracy %</th>\n",
       "      <th>f1 test %</th>\n",
       "      <th>f1 train %</th>\n",
       "      <th>Precision test %</th>\n",
       "      <th>Precision train %</th>\n",
       "      <th>Recall test %</th>\n",
       "      <th>Recall train %</th>\n",
       "    </tr>\n",
       "  </thead>\n",
       "  <tbody>\n",
       "    <tr>\n",
       "      <td>0</td>\n",
       "      <td>Random forest</td>\n",
       "      <td>97.64</td>\n",
       "      <td>82.42</td>\n",
       "      <td>84.00</td>\n",
       "      <td>84.00</td>\n",
       "      <td>84.00</td>\n",
       "      <td>84.00</td>\n",
       "      <td>84.00</td>\n",
       "      <td>97.39</td>\n",
       "    </tr>\n",
       "    <tr>\n",
       "      <td>1</td>\n",
       "      <td>KNN</td>\n",
       "      <td>84.43</td>\n",
       "      <td>89.01</td>\n",
       "      <td>90.38</td>\n",
       "      <td>90.38</td>\n",
       "      <td>87.04</td>\n",
       "      <td>87.04</td>\n",
       "      <td>94.00</td>\n",
       "      <td>90.43</td>\n",
       "    </tr>\n",
       "    <tr>\n",
       "      <td>2</td>\n",
       "      <td>Decision tree</td>\n",
       "      <td>85.85</td>\n",
       "      <td>85.85</td>\n",
       "      <td>85.71</td>\n",
       "      <td>85.71</td>\n",
       "      <td>87.50</td>\n",
       "      <td>87.50</td>\n",
       "      <td>84.00</td>\n",
       "      <td>89.57</td>\n",
       "    </tr>\n",
       "    <tr>\n",
       "      <td>3</td>\n",
       "      <td>Logistic Regression</td>\n",
       "      <td>86.79</td>\n",
       "      <td>85.71</td>\n",
       "      <td>87.38</td>\n",
       "      <td>87.38</td>\n",
       "      <td>84.91</td>\n",
       "      <td>84.91</td>\n",
       "      <td>90.00</td>\n",
       "      <td>90.43</td>\n",
       "    </tr>\n",
       "    <tr>\n",
       "      <td>4</td>\n",
       "      <td>SVM</td>\n",
       "      <td>86.79</td>\n",
       "      <td>85.71</td>\n",
       "      <td>87.38</td>\n",
       "      <td>87.38</td>\n",
       "      <td>84.91</td>\n",
       "      <td>84.91</td>\n",
       "      <td>90.00</td>\n",
       "      <td>90.43</td>\n",
       "    </tr>\n",
       "    <tr>\n",
       "      <td>5</td>\n",
       "      <td>xgboost</td>\n",
       "      <td>90.57</td>\n",
       "      <td>83.52</td>\n",
       "      <td>84.85</td>\n",
       "      <td>84.85</td>\n",
       "      <td>85.71</td>\n",
       "      <td>85.71</td>\n",
       "      <td>84.00</td>\n",
       "      <td>92.17</td>\n",
       "    </tr>\n",
       "    <tr>\n",
       "      <td>6</td>\n",
       "      <td>Voting classfier</td>\n",
       "      <td>88.21</td>\n",
       "      <td>84.62</td>\n",
       "      <td>86.27</td>\n",
       "      <td>86.27</td>\n",
       "      <td>84.62</td>\n",
       "      <td>84.62</td>\n",
       "      <td>88.00</td>\n",
       "      <td>89.57</td>\n",
       "    </tr>\n",
       "  </tbody>\n",
       "</table>\n",
       "</div>"
      ],
      "text/plain": [
       "                 Model  Training Accuracy %  Testing Accuracy %  f1 test %  \\\n",
       "0        Random forest                97.64               82.42      84.00   \n",
       "1                  KNN                84.43               89.01      90.38   \n",
       "2        Decision tree                85.85               85.85      85.71   \n",
       "3  Logistic Regression                86.79               85.71      87.38   \n",
       "4                  SVM                86.79               85.71      87.38   \n",
       "5              xgboost                90.57               83.52      84.85   \n",
       "6     Voting classfier                88.21               84.62      86.27   \n",
       "\n",
       "   f1 train %  Precision test %  Precision train %  Recall test %  \\\n",
       "0       84.00             84.00              84.00          84.00   \n",
       "1       90.38             87.04              87.04          94.00   \n",
       "2       85.71             87.50              87.50          84.00   \n",
       "3       87.38             84.91              84.91          90.00   \n",
       "4       87.38             84.91              84.91          90.00   \n",
       "5       84.85             85.71              85.71          84.00   \n",
       "6       86.27             84.62              84.62          88.00   \n",
       "\n",
       "   Recall train %  \n",
       "0           97.39  \n",
       "1           90.43  \n",
       "2           89.57  \n",
       "3           90.43  \n",
       "4           90.43  \n",
       "5           92.17  \n",
       "6           89.57  "
      ]
     },
     "execution_count": 62,
     "metadata": {},
     "output_type": "execute_result"
    }
   ],
   "source": [
    "test_score5 = accuracy_score(y_test, voting_clif.predict(X_test)) *100\n",
    "train_score5 = accuracy_score(y_train, voting_clif.predict(X_train)) *100\n",
    "\n",
    "results_df = pd.DataFrame(data=[[\"Random forest\",train_score_[4],test_score_[4],f1_test[4],f1_test[4],precision_test[4],precision_test[4],recall_test[4],recall_train[4]],\n",
    "                                [\"KNN\",train_score_[3],test_score_[3],f1_test[3],f1_test[3],precision_test[3],precision_test[3],recall_test[3],recall_train[3]],\n",
    "                                [\"Decision tree\",train_score_[0],train_score_[0],f1_test[0],f1_test[0],precision_test[0],precision_test[0],recall_test[0],recall_train[0]],\n",
    "                                [\"Logistic Regression\", train_score_[1], test_score_[1],f1_test[1],f1_test[1],precision_test[1],precision_test[1],recall_test[1],recall_train[1]],\n",
    "                                [\"SVM\", train_score_[2], test_score_[2],f1_test[2],f1_test[2],precision_test[2],precision_test[2],recall_test[2],recall_train[2]],\n",
    "                                [\"xgboost\",train_score_[5],test_score_[5],f1_test[5],f1_test[5],precision_test[5],precision_test[5],recall_test[5],recall_train[5]],\n",
    "                                \n",
    "                                [\"Voting classfier\",train_score_[6],test_score_[6],f1_test[6],f1_test[6],precision_test[6],precision_test[6],recall_test[6],recall_train[6]]\n",
    "                               ], \n",
    "                          columns=['Model', 'Training Accuracy %', 'Testing Accuracy %'\n",
    "                                  ,'f1 test %','f1 train %','Precision test %','Precision train %','Recall test %','Recall train %'])\n",
    "results_df\n",
    "                                \n",
    "            "
   ]
  },
  {
   "cell_type": "code",
   "execution_count": null,
   "metadata": {},
   "outputs": [],
   "source": []
  },
  {
   "cell_type": "markdown",
   "metadata": {},
   "source": [
    "# Training Plots"
   ]
  },
  {
   "cell_type": "code",
   "execution_count": 65,
   "metadata": {},
   "outputs": [
    {
     "data": {
      "image/png": "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\n",
      "text/plain": [
       "<Figure size 1080x1080 with 4 Axes>"
      ]
     },
     "metadata": {
      "needs_background": "light"
     },
     "output_type": "display_data"
    }
   ],
   "source": [
    "plt.figure(figsize=(15,15))\n",
    "plt.subplot(2,2,1)\n",
    "plt.title(\"Training Accuracy  plot of algrothims\",fontweight=\"bold\")\n",
    "plt.ylim(80,100)\n",
    "plt.xlabel(\"Algorithms \",fontweight=\"bold\")\n",
    "plt.ylabel(\"Accuracy\",fontweight=\"bold\")\n",
    "plt.bar(algos,train_score_\n",
    "                 ,color=['r','b','g','y','m']);\n",
    "\n",
    "plt.subplot(2,2,2)\n",
    "\n",
    "\n",
    "plt.title(\" f1 train score plot of algrothims\",fontweight=\"bold\")\n",
    "plt.ylim(80,101)\n",
    "\n",
    "plt.xlabel(\"Algorithms \",fontweight=\"bold\")\n",
    "plt.ylabel(\"Score\",fontweight=\"bold\")\n",
    "\n",
    "plt.bar(algos_names,f1_train,color=['r','b','g','y','m']);\n",
    "\n",
    "\n",
    "plt.subplot(2,2,3)\n",
    "\n",
    "plt.title(\" Precision train score plot of algrothims\",fontweight=\"bold\")\n",
    "plt.ylim(80,99)\n",
    "\n",
    "plt.xlabel(\"Algorithms \",fontweight=\"bold\")\n",
    "plt.ylabel(\"Score\",fontweight=\"bold\")\n",
    "\n",
    "plt.bar(algos_names,precision_train,color=['r','b','g','y','m']);\n",
    "\n",
    "\n",
    "\n",
    "plt.subplot(2,2,4)\n",
    "\n",
    "plt.title(\" recall train score plot of algrothims\",fontweight=\"bold\")\n",
    "plt.ylim(80,101)\n",
    "\n",
    "plt.xlabel(\"Algorithms \",fontweight=\"bold\")\n",
    "plt.ylabel(\"Score\",fontweight=\"bold\")\n",
    "\n",
    "plt.bar(algos_names,recall_train,color=['r','b','g','y','m']);\n"
   ]
  },
  {
   "cell_type": "code",
   "execution_count": null,
   "metadata": {},
   "outputs": [],
   "source": []
  },
  {
   "cell_type": "markdown",
   "metadata": {},
   "source": [
    "# Test plots"
   ]
  },
  {
   "cell_type": "code",
   "execution_count": 67,
   "metadata": {},
   "outputs": [
    {
     "data": {
      "image/png": "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\n",
      "text/plain": [
       "<Figure size 1080x1080 with 4 Axes>"
      ]
     },
     "metadata": {
      "needs_background": "light"
     },
     "output_type": "display_data"
    }
   ],
   "source": [
    "\n",
    "plt.figure(figsize=(15,15))\n",
    "plt.subplot(2,2,1)\n",
    "plt.title(\"Testing Accuracy  plot of algrothims\",fontweight=\"bold\")\n",
    "plt.ylim(70,99)\n",
    "\n",
    "plt.xlabel(\"Algorithms\",fontweight=\"bold\")\n",
    "plt.ylabel(\"Accuracy\",fontweight=\"bold\")\n",
    "\n",
    "plt.bar(algos,test_score_,color=['r','b','g','y','m']);\n",
    "\n",
    "\n",
    "\n",
    "plt.subplot(2,2,2)\n",
    "plt.title(\" f1 test score plot of algrothims\",fontweight=\"bold\")\n",
    "plt.ylim(82,92)\n",
    "\n",
    "plt.xlabel(\"Algorithms \",fontweight=\"bold\")\n",
    "plt.ylabel(\"f1 score\",fontweight=\"bold\")\n",
    "\n",
    "plt.bar(algos_names,f1_test,color=['r','b','g','y','m']);\n",
    "\n",
    "\n",
    "\n",
    "plt.subplot(2,2,3)\n",
    "plt.title(\" precision test score plot of algrothims\",fontweight=\"bold\")\n",
    "plt.ylim(80,92)\n",
    "\n",
    "plt.xlabel(\"Algorithms \",fontweight=\"bold\")\n",
    "plt.ylabel(\"precision\",fontweight=\"bold\")\n",
    "\n",
    "plt.bar(algos_names,precision_test,color=['r','b','g','y','m']);\n",
    "plt.savefig(\"testsublot.jpg\")\n",
    "\n",
    "plt.subplot(2,2,4)\n",
    "plt.title(\" recall test score plot of algrothims\",fontweight=\"bold\")\n",
    "plt.ylim(80,95)\n",
    "\n",
    "plt.xlabel(\"Algorithms \",fontweight=\"bold\")\n",
    "plt.ylabel(\"recall\",fontweight=\"bold\")\n",
    "\n",
    "plt.bar(algos_names,recall_test,color=['r','b','g','y','m']);"
   ]
  },
  {
   "cell_type": "code",
   "execution_count": null,
   "metadata": {},
   "outputs": [],
   "source": []
  },
  {
   "cell_type": "code",
   "execution_count": null,
   "metadata": {},
   "outputs": [],
   "source": [
    "f1_test1"
   ]
  },
  {
   "cell_type": "code",
   "execution_count": null,
   "metadata": {},
   "outputs": [],
   "source": []
  },
  {
   "cell_type": "code",
   "execution_count": null,
   "metadata": {},
   "outputs": [],
   "source": []
  },
  {
   "cell_type": "code",
   "execution_count": null,
   "metadata": {},
   "outputs": [],
   "source": []
  }
 ],
 "metadata": {
  "kernelspec": {
   "display_name": "Python 3",
   "language": "python",
   "name": "python3"
  },
  "language_info": {
   "codemirror_mode": {
    "name": "ipython",
    "version": 3
   },
   "file_extension": ".py",
   "mimetype": "text/x-python",
   "name": "python",
   "nbconvert_exporter": "python",
   "pygments_lexer": "ipython3",
<<<<<<< HEAD
   "version": "3.8.3"
=======
   "version": "3.7.4"
>>>>>>> master
  }
 },
 "nbformat": 4,
 "nbformat_minor": 2
}
