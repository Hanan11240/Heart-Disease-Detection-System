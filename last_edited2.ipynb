{
 "cells": [
  {
   "cell_type": "code",
   "execution_count": 1,
   "metadata": {},
   "outputs": [],
   "source": [
    "import pandas as pd\n",
    "import numpy as np"
   ]
  },
  {
   "cell_type": "markdown",
   "metadata": {},
   "source": [
    "\n",
    "# Loading the data"
   ]
  },
  {
   "cell_type": "code",
   "execution_count": 2,
   "metadata": {},
   "outputs": [],
   "source": [
    "df = pd.read_csv(\"heart.csv\")\n"
   ]
  },
  {
   "cell_type": "code",
   "execution_count": 3,
   "metadata": {},
   "outputs": [
    {
     "data": {
      "text/html": [
       "<div>\n",
       "<style scoped>\n",
       "    .dataframe tbody tr th:only-of-type {\n",
       "        vertical-align: middle;\n",
       "    }\n",
       "\n",
       "    .dataframe tbody tr th {\n",
       "        vertical-align: top;\n",
       "    }\n",
       "\n",
       "    .dataframe thead th {\n",
       "        text-align: right;\n",
       "    }\n",
       "</style>\n",
       "<table border=\"1\" class=\"dataframe\">\n",
       "  <thead>\n",
       "    <tr style=\"text-align: right;\">\n",
       "      <th></th>\n",
       "      <th>age</th>\n",
       "      <th>sex</th>\n",
       "      <th>cp</th>\n",
       "      <th>trestbps</th>\n",
       "      <th>chol</th>\n",
       "      <th>fbs</th>\n",
       "      <th>restecg</th>\n",
       "      <th>thalach</th>\n",
       "      <th>exang</th>\n",
       "      <th>oldpeak</th>\n",
       "      <th>slope</th>\n",
       "      <th>ca</th>\n",
       "      <th>thal</th>\n",
       "      <th>target</th>\n",
       "    </tr>\n",
       "  </thead>\n",
       "  <tbody>\n",
       "    <tr>\n",
       "      <th>0</th>\n",
       "      <td>63</td>\n",
       "      <td>1</td>\n",
       "      <td>3</td>\n",
       "      <td>145</td>\n",
       "      <td>233</td>\n",
       "      <td>1</td>\n",
       "      <td>0</td>\n",
       "      <td>150</td>\n",
       "      <td>0</td>\n",
       "      <td>2.3</td>\n",
       "      <td>0</td>\n",
       "      <td>0</td>\n",
       "      <td>1</td>\n",
       "      <td>1</td>\n",
       "    </tr>\n",
       "    <tr>\n",
       "      <th>1</th>\n",
       "      <td>37</td>\n",
       "      <td>1</td>\n",
       "      <td>2</td>\n",
       "      <td>130</td>\n",
       "      <td>250</td>\n",
       "      <td>0</td>\n",
       "      <td>1</td>\n",
       "      <td>187</td>\n",
       "      <td>0</td>\n",
       "      <td>3.5</td>\n",
       "      <td>0</td>\n",
       "      <td>0</td>\n",
       "      <td>2</td>\n",
       "      <td>1</td>\n",
       "    </tr>\n",
       "    <tr>\n",
       "      <th>2</th>\n",
       "      <td>41</td>\n",
       "      <td>0</td>\n",
       "      <td>1</td>\n",
       "      <td>130</td>\n",
       "      <td>204</td>\n",
       "      <td>0</td>\n",
       "      <td>0</td>\n",
       "      <td>172</td>\n",
       "      <td>0</td>\n",
       "      <td>1.4</td>\n",
       "      <td>2</td>\n",
       "      <td>0</td>\n",
       "      <td>2</td>\n",
       "      <td>1</td>\n",
       "    </tr>\n",
       "    <tr>\n",
       "      <th>3</th>\n",
       "      <td>56</td>\n",
       "      <td>1</td>\n",
       "      <td>1</td>\n",
       "      <td>120</td>\n",
       "      <td>236</td>\n",
       "      <td>0</td>\n",
       "      <td>1</td>\n",
       "      <td>178</td>\n",
       "      <td>0</td>\n",
       "      <td>0.8</td>\n",
       "      <td>2</td>\n",
       "      <td>0</td>\n",
       "      <td>2</td>\n",
       "      <td>1</td>\n",
       "    </tr>\n",
       "    <tr>\n",
       "      <th>4</th>\n",
       "      <td>57</td>\n",
       "      <td>0</td>\n",
       "      <td>0</td>\n",
       "      <td>120</td>\n",
       "      <td>354</td>\n",
       "      <td>0</td>\n",
       "      <td>1</td>\n",
       "      <td>163</td>\n",
       "      <td>1</td>\n",
       "      <td>0.6</td>\n",
       "      <td>2</td>\n",
       "      <td>0</td>\n",
       "      <td>2</td>\n",
       "      <td>1</td>\n",
       "    </tr>\n",
       "  </tbody>\n",
       "</table>\n",
       "</div>"
      ],
      "text/plain": [
       "   age  sex  cp  trestbps  chol  fbs  restecg  thalach  exang  oldpeak  slope  \\\n",
       "0   63    1   3       145   233    1        0      150      0      2.3      0   \n",
       "1   37    1   2       130   250    0        1      187      0      3.5      0   \n",
       "2   41    0   1       130   204    0        0      172      0      1.4      2   \n",
       "3   56    1   1       120   236    0        1      178      0      0.8      2   \n",
       "4   57    0   0       120   354    0        1      163      1      0.6      2   \n",
       "\n",
       "   ca  thal  target  \n",
       "0   0     1       1  \n",
       "1   0     2       1  \n",
       "2   0     2       1  \n",
       "3   0     2       1  \n",
       "4   0     2       1  "
      ]
     },
     "execution_count": 3,
     "metadata": {},
     "output_type": "execute_result"
    }
   ],
   "source": [
    "df.head()"
   ]
  },
  {
   "cell_type": "markdown",
   "metadata": {},
   "source": [
    "#  Exploratory Data Analysis (EDA)"
   ]
  },
  {
   "cell_type": "code",
   "execution_count": 4,
   "metadata": {},
   "outputs": [
    {
     "name": "stdout",
     "output_type": "stream",
     "text": [
      "age:\t\t\tage\n",
      "sex:\t\t\t1: male, 0: female\n",
      "cp:\t\t\tchest pain type, 1: typical angina, 2: atypical angina, 3: non-anginal pain,4: asymptomatic\n",
      "trestbps:\t\t\tresting blood pressure\n",
      "chol:\t\t\t serum cholestoral in mg/dl\n",
      "fbs:\t\t\tfasting blood sugar > 120 mg/dl\n",
      "restecg:\t\t\tresting electrocardiographic results (values 0,1,2)\n",
      "thalach:\t\t\t maximum heart rate achieved\n",
      "exang:\t\t\texercise induced angina\n",
      "oldpeak:\t\t\toldpeak = ST depression induced by exercise relative to rest\n",
      "slope:\t\t\tthe slope of the peak exercise ST segment\n",
      "ca:\t\t\tnumber of major vessels (0-3) colored by flourosopy\n",
      "thal:\t\t\tthal: 3 = normal; 6 = fixed defect; 7 = reversable defect\n"
     ]
    }
   ],
   "source": [
    "info = [\"age\",\"1: male, 0: female\",\"chest pain type, 1: typical angina, 2: atypical angina, 3: non-anginal pain,4: asymptomatic\",\n",
    "\"resting blood pressure\",\" serum cholestoral in mg/dl\",\"fasting blood sugar > 120 mg/dl\",\"resting electrocardiographic results (values 0,1,2)\",\n",
    "\" maximum heart rate achieved\",\"exercise induced angina\",\"oldpeak = ST depression induced by exercise relative to rest\",\n",
    "\"the slope of the peak exercise ST segment\",\"number of major vessels (0-3) colored by flourosopy\",\n",
    "\"thal: 3 = normal; 6 = fixed defect; 7 = reversable defect\"]\n",
    "\n",
    "\n",
    "\n",
    "for i in range(len(info)):\n",
    "    print(df.columns[i]+\":\\t\\t\\t\"+info[i])"
   ]
  },
  {
   "cell_type": "code",
   "execution_count": 5,
   "metadata": {},
   "outputs": [
    {
     "data": {
      "text/html": [
       "<div>\n",
       "<style scoped>\n",
       "    .dataframe tbody tr th:only-of-type {\n",
       "        vertical-align: middle;\n",
       "    }\n",
       "\n",
       "    .dataframe tbody tr th {\n",
       "        vertical-align: top;\n",
       "    }\n",
       "\n",
       "    .dataframe thead th {\n",
       "        text-align: right;\n",
       "    }\n",
       "</style>\n",
       "<table border=\"1\" class=\"dataframe\">\n",
       "  <thead>\n",
       "    <tr style=\"text-align: right;\">\n",
       "      <th></th>\n",
       "      <th>age</th>\n",
       "      <th>sex</th>\n",
       "      <th>cp</th>\n",
       "      <th>trestbps</th>\n",
       "      <th>chol</th>\n",
       "      <th>fbs</th>\n",
       "      <th>restecg</th>\n",
       "      <th>thalach</th>\n",
       "      <th>exang</th>\n",
       "      <th>oldpeak</th>\n",
       "      <th>slope</th>\n",
       "      <th>ca</th>\n",
       "      <th>thal</th>\n",
       "      <th>target</th>\n",
       "    </tr>\n",
       "  </thead>\n",
       "  <tbody>\n",
       "    <tr>\n",
       "      <th>count</th>\n",
       "      <td>303.000000</td>\n",
       "      <td>303.000000</td>\n",
       "      <td>303.000000</td>\n",
       "      <td>303.000000</td>\n",
       "      <td>303.000000</td>\n",
       "      <td>303.000000</td>\n",
       "      <td>303.000000</td>\n",
       "      <td>303.000000</td>\n",
       "      <td>303.000000</td>\n",
       "      <td>303.000000</td>\n",
       "      <td>303.000000</td>\n",
       "      <td>303.000000</td>\n",
       "      <td>303.000000</td>\n",
       "      <td>303.000000</td>\n",
       "    </tr>\n",
       "    <tr>\n",
       "      <th>mean</th>\n",
       "      <td>54.366337</td>\n",
       "      <td>0.683168</td>\n",
       "      <td>0.966997</td>\n",
       "      <td>131.623762</td>\n",
       "      <td>246.264026</td>\n",
       "      <td>0.148515</td>\n",
       "      <td>0.528053</td>\n",
       "      <td>149.646865</td>\n",
       "      <td>0.326733</td>\n",
       "      <td>1.039604</td>\n",
       "      <td>1.399340</td>\n",
       "      <td>0.729373</td>\n",
       "      <td>2.313531</td>\n",
       "      <td>0.544554</td>\n",
       "    </tr>\n",
       "    <tr>\n",
       "      <th>std</th>\n",
       "      <td>9.082101</td>\n",
       "      <td>0.466011</td>\n",
       "      <td>1.032052</td>\n",
       "      <td>17.538143</td>\n",
       "      <td>51.830751</td>\n",
       "      <td>0.356198</td>\n",
       "      <td>0.525860</td>\n",
       "      <td>22.905161</td>\n",
       "      <td>0.469794</td>\n",
       "      <td>1.161075</td>\n",
       "      <td>0.616226</td>\n",
       "      <td>1.022606</td>\n",
       "      <td>0.612277</td>\n",
       "      <td>0.498835</td>\n",
       "    </tr>\n",
       "    <tr>\n",
       "      <th>min</th>\n",
       "      <td>29.000000</td>\n",
       "      <td>0.000000</td>\n",
       "      <td>0.000000</td>\n",
       "      <td>94.000000</td>\n",
       "      <td>126.000000</td>\n",
       "      <td>0.000000</td>\n",
       "      <td>0.000000</td>\n",
       "      <td>71.000000</td>\n",
       "      <td>0.000000</td>\n",
       "      <td>0.000000</td>\n",
       "      <td>0.000000</td>\n",
       "      <td>0.000000</td>\n",
       "      <td>0.000000</td>\n",
       "      <td>0.000000</td>\n",
       "    </tr>\n",
       "    <tr>\n",
       "      <th>25%</th>\n",
       "      <td>47.500000</td>\n",
       "      <td>0.000000</td>\n",
       "      <td>0.000000</td>\n",
       "      <td>120.000000</td>\n",
       "      <td>211.000000</td>\n",
       "      <td>0.000000</td>\n",
       "      <td>0.000000</td>\n",
       "      <td>133.500000</td>\n",
       "      <td>0.000000</td>\n",
       "      <td>0.000000</td>\n",
       "      <td>1.000000</td>\n",
       "      <td>0.000000</td>\n",
       "      <td>2.000000</td>\n",
       "      <td>0.000000</td>\n",
       "    </tr>\n",
       "    <tr>\n",
       "      <th>50%</th>\n",
       "      <td>55.000000</td>\n",
       "      <td>1.000000</td>\n",
       "      <td>1.000000</td>\n",
       "      <td>130.000000</td>\n",
       "      <td>240.000000</td>\n",
       "      <td>0.000000</td>\n",
       "      <td>1.000000</td>\n",
       "      <td>153.000000</td>\n",
       "      <td>0.000000</td>\n",
       "      <td>0.800000</td>\n",
       "      <td>1.000000</td>\n",
       "      <td>0.000000</td>\n",
       "      <td>2.000000</td>\n",
       "      <td>1.000000</td>\n",
       "    </tr>\n",
       "    <tr>\n",
       "      <th>75%</th>\n",
       "      <td>61.000000</td>\n",
       "      <td>1.000000</td>\n",
       "      <td>2.000000</td>\n",
       "      <td>140.000000</td>\n",
       "      <td>274.500000</td>\n",
       "      <td>0.000000</td>\n",
       "      <td>1.000000</td>\n",
       "      <td>166.000000</td>\n",
       "      <td>1.000000</td>\n",
       "      <td>1.600000</td>\n",
       "      <td>2.000000</td>\n",
       "      <td>1.000000</td>\n",
       "      <td>3.000000</td>\n",
       "      <td>1.000000</td>\n",
       "    </tr>\n",
       "    <tr>\n",
       "      <th>max</th>\n",
       "      <td>77.000000</td>\n",
       "      <td>1.000000</td>\n",
       "      <td>3.000000</td>\n",
       "      <td>200.000000</td>\n",
       "      <td>564.000000</td>\n",
       "      <td>1.000000</td>\n",
       "      <td>2.000000</td>\n",
       "      <td>202.000000</td>\n",
       "      <td>1.000000</td>\n",
       "      <td>6.200000</td>\n",
       "      <td>2.000000</td>\n",
       "      <td>4.000000</td>\n",
       "      <td>3.000000</td>\n",
       "      <td>1.000000</td>\n",
       "    </tr>\n",
       "  </tbody>\n",
       "</table>\n",
       "</div>"
      ],
      "text/plain": [
       "              age         sex          cp    trestbps        chol         fbs  \\\n",
       "count  303.000000  303.000000  303.000000  303.000000  303.000000  303.000000   \n",
       "mean    54.366337    0.683168    0.966997  131.623762  246.264026    0.148515   \n",
       "std      9.082101    0.466011    1.032052   17.538143   51.830751    0.356198   \n",
       "min     29.000000    0.000000    0.000000   94.000000  126.000000    0.000000   \n",
       "25%     47.500000    0.000000    0.000000  120.000000  211.000000    0.000000   \n",
       "50%     55.000000    1.000000    1.000000  130.000000  240.000000    0.000000   \n",
       "75%     61.000000    1.000000    2.000000  140.000000  274.500000    0.000000   \n",
       "max     77.000000    1.000000    3.000000  200.000000  564.000000    1.000000   \n",
       "\n",
       "          restecg     thalach       exang     oldpeak       slope          ca  \\\n",
       "count  303.000000  303.000000  303.000000  303.000000  303.000000  303.000000   \n",
       "mean     0.528053  149.646865    0.326733    1.039604    1.399340    0.729373   \n",
       "std      0.525860   22.905161    0.469794    1.161075    0.616226    1.022606   \n",
       "min      0.000000   71.000000    0.000000    0.000000    0.000000    0.000000   \n",
       "25%      0.000000  133.500000    0.000000    0.000000    1.000000    0.000000   \n",
       "50%      1.000000  153.000000    0.000000    0.800000    1.000000    0.000000   \n",
       "75%      1.000000  166.000000    1.000000    1.600000    2.000000    1.000000   \n",
       "max      2.000000  202.000000    1.000000    6.200000    2.000000    4.000000   \n",
       "\n",
       "             thal      target  \n",
       "count  303.000000  303.000000  \n",
       "mean     2.313531    0.544554  \n",
       "std      0.612277    0.498835  \n",
       "min      0.000000    0.000000  \n",
       "25%      2.000000    0.000000  \n",
       "50%      2.000000    1.000000  \n",
       "75%      3.000000    1.000000  \n",
       "max      3.000000    1.000000  "
      ]
     },
     "execution_count": 5,
     "metadata": {},
     "output_type": "execute_result"
    }
   ],
   "source": [
    "df.describe()"
   ]
  },
  {
   "cell_type": "code",
   "execution_count": 6,
   "metadata": {},
   "outputs": [
    {
     "name": "stdout",
     "output_type": "stream",
     "text": [
      "<class 'pandas.core.frame.DataFrame'>\n",
      "RangeIndex: 303 entries, 0 to 302\n",
      "Data columns (total 14 columns):\n",
      " #   Column    Non-Null Count  Dtype  \n",
      "---  ------    --------------  -----  \n",
      " 0   age       303 non-null    int64  \n",
      " 1   sex       303 non-null    int64  \n",
      " 2   cp        303 non-null    int64  \n",
      " 3   trestbps  303 non-null    int64  \n",
      " 4   chol      303 non-null    int64  \n",
      " 5   fbs       303 non-null    int64  \n",
      " 6   restecg   303 non-null    int64  \n",
      " 7   thalach   303 non-null    int64  \n",
      " 8   exang     303 non-null    int64  \n",
      " 9   oldpeak   303 non-null    float64\n",
      " 10  slope     303 non-null    int64  \n",
      " 11  ca        303 non-null    int64  \n",
      " 12  thal      303 non-null    int64  \n",
      " 13  target    303 non-null    int64  \n",
      "dtypes: float64(1), int64(13)\n",
      "memory usage: 33.3 KB\n"
     ]
    }
   ],
   "source": [
    "df.info()"
   ]
  },
  {
   "cell_type": "markdown",
   "metadata": {},
   "source": [
    "There are no null values in our dataset"
   ]
  },
  {
   "cell_type": "code",
   "execution_count": 7,
   "metadata": {},
   "outputs": [
    {
     "data": {
      "text/plain": [
       "age          41\n",
       "sex           2\n",
       "cp            4\n",
       "trestbps     49\n",
       "chol        152\n",
       "fbs           2\n",
       "restecg       3\n",
       "thalach      91\n",
       "exang         2\n",
       "oldpeak      40\n",
       "slope         3\n",
       "ca            5\n",
       "thal          4\n",
       "target        2\n",
       "dtype: int64"
      ]
     },
     "execution_count": 7,
     "metadata": {},
     "output_type": "execute_result"
    }
   ],
   "source": [
    "df.nunique()"
   ]
  },
  {
   "cell_type": "code",
   "execution_count": 8,
   "metadata": {},
   "outputs": [
    {
     "data": {
      "text/plain": [
       "(303, 14)"
      ]
     },
     "execution_count": 8,
     "metadata": {},
     "output_type": "execute_result"
    }
   ],
   "source": [
    "df.shape"
   ]
  },
  {
   "cell_type": "code",
   "execution_count": 9,
   "metadata": {},
   "outputs": [
    {
     "data": {
      "text/plain": [
       "1    165\n",
       "0    138\n",
       "Name: target, dtype: int64"
      ]
     },
     "execution_count": 9,
     "metadata": {},
     "output_type": "execute_result"
    }
   ],
   "source": [
    "df.target.value_counts()"
   ]
  },
  {
   "cell_type": "markdown",
   "metadata": {},
   "source": [
    "# Data Visulization"
   ]
  },
  {
   "cell_type": "code",
   "execution_count": 10,
   "metadata": {},
   "outputs": [],
   "source": [
    "import seaborn as sns\n",
    "import matplotlib.pyplot as plt"
   ]
  },
  {
   "cell_type": "code",
   "execution_count": 11,
   "metadata": {},
   "outputs": [
    {
     "name": "stdout",
     "output_type": "stream",
     "text": [
      "\n",
      "We have 165 person with Heart disease and 138 person without heart disease, so our dataset is balanced\n"
     ]
    },
    {
     "data": {
      "image/png": "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\n",
      "text/plain": [
       "<Figure size 360x360 with 1 Axes>"
      ]
     },
     "metadata": {
      "needs_background": "light"
     },
     "output_type": "display_data"
    }
   ],
   "source": [
    "plt.figure(figsize=(5,5))\n",
    "\n",
    "df.target.value_counts().plot(kind=\"bar\", color=[\"r\", \"b\"],edgecolor=\"y\",linewidth=2,hatch='/')\n",
    "plt.ylim(0,200)\n",
    "plt.title(\" Target feature (total count of  having heart disease or not)\",fontweight=\"bold\",color=\"g\")\n",
    "plt.xlabel(\" \\nHeart disease = 1 , Not heart disease = 0 \",fontweight=\"bold\",color=\"y\")\n",
    "plt.ylabel(\" count of person having disease or not  \",fontweight=\"bold\")\n",
    "\n",
    "print(\"\\nWe have 165 person with Heart disease and 138 person without heart disease, so our dataset is balanced\")"
   ]
  },
  {
   "cell_type": "code",
   "execution_count": 12,
   "metadata": {},
   "outputs": [
    {
     "data": {
      "image/png": "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\n",
      "text/plain": [
       "<Figure size 432x288 with 1 Axes>"
      ]
     },
     "metadata": {
      "needs_background": "light"
     },
     "output_type": "display_data"
    }
   ],
   "source": [
    "plt.title(\"total number of male and female\",fontweight=\"bold\")\n",
    "plt.ylabel(\"total number of male and female \",fontweight=\"bold\",color=\"m\")\n",
    "plt.xlabel(\"male=1   female=0\",fontweight=\"bold\",color=\"r\")\n",
    "df[\"sex\"].value_counts().plot(kind=\"bar\",color=[\"g\",\"c\"],edgecolor=\"y\",linewidth=2,hatch='/');\n"
   ]
  },
  {
   "cell_type": "code",
   "execution_count": 13,
   "metadata": {},
   "outputs": [
    {
     "data": {
      "image/png": "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\n",
      "text/plain": [
       "<Figure size 864x864 with 2 Axes>"
      ]
     },
     "metadata": {
      "needs_background": "light"
     },
     "output_type": "display_data"
    }
   ],
   "source": [
    "\n",
    "plt.figure(figsize=(12,12))\n",
    "plt.subplot(2,2,1)\n",
    "plt.title(\"no of males  having / not having heart disease\",fontweight=\"bold\",color=\"c\")\n",
    "plt.ylabel(\"total number of male  \",fontweight=\"bold\",color=\"m\")\n",
    "plt.xlabel(\"0= no disease ,  1= disease in males \",fontweight=\"bold\",color=\"b\")\n",
    "plt.ylim(60,140)\n",
    "df[df[\"sex\"] == 1][\"target\"].value_counts().plot(kind=\"bar\",color=[\"b\",\"r\"],edgecolor=\"y\",linewidth=2,hatch='/')\n",
    "\n",
    "#plt.legend()\n",
    "plt.subplot(2,2,2)\n",
    "plt.title(\"no of females having / not having heart disease\",fontweight=\"bold\",color=\"c\")\n",
    "plt.ylabel(\"total number of female  \",fontweight=\"bold\",color=\"m\")\n",
    "plt.xlabel(\"1=  disease ,  0= no disease in females \",fontweight=\"bold\",color=\"b\")\n",
    "\n",
    "df[df[\"sex\"] == 0][\"target\"].value_counts().plot(kind=\"bar\",color=[\"r\",\"b\"],edgecolor=\"y\",linewidth=2,hatch='/')\n",
    "plt.show()\n",
    "#df[df[\"sex\"] == 1][\"target\"].value_counts().plot(kind=\"bar\",color=\"r\")\n",
    "#plt.savefig(\"pplhaving.png\")"
   ]
  },
  {
   "cell_type": "code",
   "execution_count": 14,
   "metadata": {},
   "outputs": [
    {
     "data": {
      "image/png": "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\n",
      "text/plain": [
       "<Figure size 1080x1080 with 16 Axes>"
      ]
     },
     "metadata": {
      "needs_background": "light"
     },
     "output_type": "display_data"
    }
   ],
   "source": [
    "df.hist(figsize=(15,15),color=\"g\",edgecolor=\"y\",linewidth=2,linestyle='-');"
   ]
  },
  {
   "cell_type": "code",
   "execution_count": 15,
   "metadata": {},
   "outputs": [
    {
     "data": {
      "image/png": "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\n",
      "text/plain": [
       "<Figure size 432x288 with 1 Axes>"
      ]
     },
     "metadata": {
      "needs_background": "light"
     },
     "output_type": "display_data"
    }
   ],
   "source": [
    "plt.figure(figsize=(15,6))\n",
    "sns.countplot(x='age',data = df, hue = 'target',palette='cubehelix')\n"
    "plt.show()"
   ]
  },
  {
   "cell_type": "markdown",
   "metadata": {},
   "source": [
    "We see that for females who are suffering from the disease are older than males."
   ]
  },
  {
   "cell_type": "code",
   "execution_count": 16,
   "metadata": {},
   "outputs": [
    {
     "name": "stdout",
     "output_type": "stream",
     "text": [
      "==============================\n",
      "age : [63 37 41 56 57 44 52 54 48 49 64 58 50 66 43 69 59 42 61 40 71 51 65 53\n",
      " 46 45 39 47 62 34 35 29 55 60 67 68 74 76 70 38 77]\n",
      "==============================\n",
      "sex : [1 0]\n",
      "==============================\n",
      "cp : [3 2 1 0]\n",
      "==============================\n",
      "trestbps : [145 130 120 140 172 150 110 135 160 105 125 142 155 104 138 128 108 134\n",
      " 122 115 118 100 124  94 112 102 152 101 132 148 178 129 180 136 126 106\n",
      " 156 170 146 117 200 165 174 192 144 123 154 114 164]\n",
      "==============================\n",
      "chol : [233 250 204 236 354 192 294 263 199 168 239 275 266 211 283 219 340 226\n",
      " 247 234 243 302 212 175 417 197 198 177 273 213 304 232 269 360 308 245\n",
      " 208 264 321 325 235 257 216 256 231 141 252 201 222 260 182 303 265 309\n",
      " 186 203 183 220 209 258 227 261 221 205 240 318 298 564 277 214 248 255\n",
      " 207 223 288 160 394 315 246 244 270 195 196 254 126 313 262 215 193 271\n",
      " 268 267 210 295 306 178 242 180 228 149 278 253 342 157 286 229 284 224\n",
      " 206 167 230 335 276 353 225 330 290 172 305 188 282 185 326 274 164 307\n",
      " 249 341 407 217 174 281 289 322 299 300 293 184 409 259 200 327 237 218\n",
      " 319 166 311 169 187 176 241 131]\n",
      "==============================\n",
      "fbs : [1 0]\n",
      "==============================\n",
      "restecg : [0 1 2]\n",
      "==============================\n",
      "thalach : [150 187 172 178 163 148 153 173 162 174 160 139 171 144 158 114 151 161\n",
      " 179 137 157 123 152 168 140 188 125 170 165 142 180 143 182 156 115 149\n",
      " 146 175 186 185 159 130 190 132 147 154 202 166 164 184 122 169 138 111\n",
      " 145 194 131 133 155 167 192 121  96 126 105 181 116 108 129 120 112 128\n",
      " 109 113  99 177 141 136  97 127 103 124  88 195 106  95 117  71 118 134\n",
      "  90]\n",
      "==============================\n",
      "exang : [0 1]\n",
      "==============================\n",
      "oldpeak : [2.3 3.5 1.4 0.8 0.6 0.4 1.3 0.  0.5 1.6 1.2 0.2 1.8 1.  2.6 1.5 3.  2.4\n",
      " 0.1 1.9 4.2 1.1 2.  0.7 0.3 0.9 3.6 3.1 3.2 2.5 2.2 2.8 3.4 6.2 4.  5.6\n",
      " 2.9 2.1 3.8 4.4]\n",
      "==============================\n",
      "slope : [0 2 1]\n",
      "==============================\n",
      "ca : [0 2 1 3 4]\n",
      "==============================\n",
      "thal : [1 2 3 0]\n",
      "==============================\n",
      "target : [1 0]\n"
     ]
    }
   ],
   "source": [
    "categorical_val = []\n",
    "continous_val = []\n",
    "for column in df.columns:\n",
    "    print('==============================')\n",
    "    print(f\"{column} : {df[column].unique()}\")\n",
    "    if len(df[column].unique()) <= 10:\n",
    "        categorical_val.append(column)\n",
    "    else:\n",
    "        continous_val.append(column)"
   ]
  },
  {
   "cell_type": "code",
   "execution_count": 17,
   "metadata": {},
   "outputs": [
    {
     "name": "stdout",
     "output_type": "stream",
     "text": [
      " categorical val  ['sex', 'cp', 'fbs', 'restecg', 'exang', 'slope', 'ca', 'thal', 'target']\n",
      "continous val  ['age', 'trestbps', 'chol', 'thalach', 'oldpeak']\n"
     ]
    }
   ],
   "source": [
    "print(\" categorical val \",categorical_val)\n",
    "print(\"continous val \",continous_val)"
   ]
  },
  {
   "cell_type": "markdown",
   "metadata": {},
   "source": [
    "# Ploting categorical features "
   ]
  },
  {
   "cell_type": "code",
   "execution_count": 18,
   "metadata": {},
   "outputs": [
    {
     "data": {
      "image/png": "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\n",
      "text/plain": [
       "<Figure size 1080x1080 with 9 Axes>"
      ]
     },
     "metadata": {
      "needs_background": "light"
     },
     "output_type": "display_data"
    }
   ],
   "source": [
    "plt.figure(figsize=(15, 15))\n",
    "for i, column in enumerate(categorical_val,1):\n",
    "    plt.subplot(3, 3, i)\n",
    "    df[df[\"target\"] == 0][column].hist(bins=35, color='blue', label='Have Heart Disease = NO', alpha=0.6)\n",
    "    df[df[\"target\"] == 1][column].hist(bins=35, color='red', label='Have Heart Disease = YES', alpha=0.6)\n",
    "    plt.legend()\n",
    "    plt.xlabel(column)\n",
    "\n"
   ]
  },
  {
   "cell_type": "markdown",
   "metadata": {},
   "source": [
    "1.cp {Chest Pain} : People with cp equl to 1, 2, 3 are more likely to have heart disease than people with cp equal to 0.\n",
    "\n",
    "2.restecg {resting electrocardiographic results} : People with value 1 (signals non-normal heart beat, can range from mild symptoms to severe problems) are more likely to have heart disease.\n",
    "\n",
    "3.exang {exercise induced angina} : People with value 0 (No ==> exercice induced angina) have heart disease more than people with value 1 (Yes ==> exercice induced angina)\n",
    "\n",
    "4.slope {the slope of the peak exercise ST segment} : People with slope value equal to 2 (Downslopins: signs of unhealthy heart) are more likely to have heart disease than people with slope value equal to 0 (Upsloping: better heart rate with excercise) or 1 (Flatsloping: minimal change (typical healthy heart)).\n",
    "\n",
    "5.ca {number of major vessels (0-3) colored by flourosopy} : the more blood movement the better so people with ca equal to 0 are more likely to have heart disease.\n",
    "\n",
    "6.thal {thalium stress result} : People with thal value equal to 2 (fixed defect: used to be defect but ok now) are more likely to have heart disease."
   ]
  },
  {
   "cell_type": "markdown",
   "metadata": {},
   "source": [
    "# ploting continous features below"
   ]
  },
  {
   "cell_type": "code",
   "execution_count": 19,
   "metadata": {},
   "outputs": [
    {
     "data": {
      "image/png": "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\n",
      "text/plain": [
       "<Figure size 1080x1080 with 5 Axes>"
      ]
     },
     "metadata": {
      "needs_background": "light"
     },
     "output_type": "display_data"
    }
   ],
   "source": [
    "plt.figure(figsize=(15, 15))\n",
    "\n",
    "for i, column in enumerate(continous_val, 1):\n",
    "    plt.subplot(3, 2, i)\n",
    "    df[df[\"target\"] == 0][column].hist(bins=35, color='blue', label='Have Heart Disease = NO', alpha=0.6)\n",
    "    df[df[\"target\"] == 1][column].hist(bins=35, color='red', label='Have Heart Disease = YES', alpha=0.6)\n",
    "    plt.legend()\n",
    "    plt.xlabel(column)\n"
   ]
  },
  {
   "cell_type": "markdown",
   "metadata": {},
   "source": [
    "1.trestbps : resting blood pressure (in mm Hg on admission to the hospital) anything above 130-140 is typically cause for concern\n",
    "\n",
    "2.chol {serum cholestoral in mg/dl} : above 200 is cause for concern.\n",
    "\n",
    "3.thalach {maximum heart rate achieved} : People that have acheived a maximum more than 140 are more likely to have heart disease.\n",
    "\n",
    "4.oldpeak ST depression induced by exercise relative to rest looks at stress of heart during excercise unhealthy heart will stress more"
   ]
  },
  {
   "cell_type": "markdown",
   "metadata": {},
   "source": [
    "# Age vs. Max Heart Rate for Heart Disease"
   ]
  },
  {
   "cell_type": "code",
   "execution_count": 20,
   "metadata": {},
   "outputs": [
    {
     "data": {
      "image/png": "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\n",
      "text/plain": [
       "<Figure size 720x576 with 1 Axes>"
      ]
     },
     "metadata": {
      "needs_background": "light"
     },
     "output_type": "display_data"
    }
   ],
   "source": [
    "# Create another figure\n",
    "plt.figure(figsize=(10, 8))\n",
    "\n",
    "# Scatter with postivie examples\n",
    "plt.scatter(df.age[df.target==1],\n",
    "            df.thalach[df.target==1],\n",
    "            c=\"r\")\n",
    "\n",
    "# Scatter with negative examples\n",
    "plt.scatter(df.age[df.target==0],\n",
    "            df.thalach[df.target==0],\n",
    "            c=\"blue\")\n",
    "\n",
    "# Add some helpful info\n",
    "plt.title(\"Heart Disease in function of Age and Max Heart Rate\",fontweight=\"bold\")\n",
    "plt.xlabel(\"Age\")\n",
    "plt.ylabel(\"Max Heart Rate\")\n",
    "plt.legend([\"Disease\", \"No Disease\"]);\n",
    "#terminator elimnates <matplotlib.legend.Legend at 0x7f39518951d0>\n"
   ]
  },
  {
   "cell_type": "markdown",
   "metadata": {},
   "source": [
    "# Correlation Matrix (heat map)"
   ]
  },
  {
   "cell_type": "code",
   "execution_count": 21,
   "metadata": {},
   "outputs": [
    {
     "data": {
      "text/plain": [
       "(14.3, -0.3)"
      ]
     },
     "execution_count": 21,
     "metadata": {},
     "output_type": "execute_result"
    },
    {
     "data": {
      "image/png": "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\n",
      "text/plain": [
       "<Figure size 864x864 with 2 Axes>"
      ]
     },
     "metadata": {
      "needs_background": "light"
     },
     "output_type": "display_data"
    }
   ],
   "source": [
    "corr_matrix = df.corr()\n",
    "fig, ax = plt.subplots(figsize=(12, 12))\n",
    "ax = sns.heatmap(corr_matrix,\n",
    "                 annot=True,\n",
    "                 linewidths=0.5,\n",
    "                 fmt=\".2f\",\n",
    "                 cmap=\"YlGnBu\");\n",
    "bottom, top = ax.get_ylim()\n",
    "ax.set_ylim(bottom + 0.3, top - 0.3)\n"
   ]
  },
  {
   "cell_type": "code",
   "execution_count": 22,
   "metadata": {},
   "outputs": [
    {
     "data": {
      "image/png": "iVBORw0KGgoAAAANSUhEUgAAAssAAAIBCAYAAAC/e/IJAAAABHNCSVQICAgIfAhkiAAAAAlwSFlzAAALEgAACxIB0t1+/AAAADh0RVh0U29mdHdhcmUAbWF0cGxvdGxpYiB2ZXJzaW9uMy4yLjIsIGh0dHA6Ly9tYXRwbG90bGliLm9yZy+WH4yJAAAgAElEQVR4nO3debhsV1kn/u8LYQ4QMBACAQI0oLTNlAuCYHOvSguohLaZogIONKIy2HZQUDQEsFE7+BNtFGkRmTQqoowKipwoyJQgg4gMgphAEEgzJCDBwPv7Y+9DTm7uSnKGe+tU3c/nee5zz961d+13nao69a1da69V3R0AAODSrrToAgAAYLcSlgEAYEBYBgCAAWEZAAAGhGUAABgQlgEAYEBYBtimqvqBqnrjNvb/s6p6xE7WtJPHr6rfraqnH8qaAHYLYRlYCVX1vVV1ZlVdUFXnzgHwnouua39V9ZSqevHGdd193+5+waJq2nj8HQj+x1dVV9URO1fh8hwfWD3CMrD0quonk/xqkv+V5JgkN0vyG0lO3MJ9XSpkCV6Hjt81sNsIy8BSq6rrJnlqkh/v7pd19xe6+9+7+5Xd/YR5m6tV1a9W1cfnf79aVVebb9tbVedU1U9X1SeSPH8++/vSqnpxVX0+yQ9U1XWr6nnzWeuPVdXTq+rKg5qeVVVnV9Xnq+qsqvqWef19kvxMkofMZ8DfNa9fq6pHzj9fqaqeXFUfrapPVtUL5zZuPGv6iKr6l6r6dFX97KCGW1TVZ6vqSvPyb1fVJzfc/uKq+omNx6+qb0jynCR3n+v77Ia7vF5Vvbqqzq+qt1bVrQYPyV/P/392vo+7V9Wtquqvquq8ueaXVNVRG2r55/n3/+4kX6iqI6rq4fPv4Lyq+rl5m2/f8Dt6YlX903z7H1bV9UfHH9QJcIUIy8Cyu3uSqyf5k8vY5meT3C3JHZPcIcldkzx5w+03SnL9JDdP8qh53YlJXprkqCQvSfKCJBcl+Q9J7pTkvyR55OB4b5+Pdf0kv5fkj6rq6t3955nOfv9Bdx/Z3Xc4wL4/MP/bl+SWSY5M8n/22+aeSW6b5NuS/Pwcci+huz+S5PNzrUnyLUku2LDtf05yxn77vC/Jo5O8ea7vqA03n5Tk1CTXS/KhJL8waPt/nv8/ar6PNyepJM9IcuMk35Dkpkmest9+JyX5zky/79tk+mbg+5Icm+S6SW6yYdvHJXlAknvN9/mZJM++jOMDbJmwDCy7r0vy6e6+6DK2+b4kT+3uT3b3pzKFvodtuP2rSU7p7gu7+9/mdW/u7j/t7q8muU6S+yb5ifnM9SeT/H9JHnqgg3X3i7v7vO6+qLufmeRqmcLtFfF9SX6luz/c3RckeVKSh+7XPeHU7v637n5Xkndl+gBwIGckuVdV3Whefum8fIu5Te+6gjUlycu6+23z7/klmT4MXCHd/aHu/ov59/upJL+SKehu9Gvdffb8+39gkld29xu7+8tJfj5Jb9j2R5L8bHef090XZgreD9SFAzgY/GEBlt15SY6uqiMuIzDfOMlHNyx/dF637lPd/aX99jl7w883T3KVJOdW1fq6K+23zddU1f/MdNb5xplC3nWSHH35TRnWekSmvtjrPrHh5y9mOvt8IGckuX+SczJ1T1jL9CHhS0n+Zv4gcEVd0WNeSlXdMMmvZTq7fe1Mv7vP7LfZxt/ljTcud/cXq+q8DbffPMmfVNXG+r+SS/6OAHaEM8vAsntzpvD3gMvY5uOZAta6m83r1nUubeO6s5NcmOTo7j5q/ned7v6P++8090/+6SQPTnK9uSvD5zJ1RRgd6/JqvSjJv17OfgdyRqaAunf++Y1J7pHprO4Zg30ur77Lc6D9nzGvv313XyfJ9+fi38eB9js3yXHrC1V1jUzfIKw7O8l9NzwWR3X31bv7YztQP8AlCMvAUuvuz2X6mv7ZVfWAqrpmVV2lqu5bVb88b/b7SZ5cVTeoqqPn7V88us8DHOPcJK9L8syqus58gdmtqmr/rgTJdOb0oiSfSnJEVf18pjPL6/41yfHrF94dwO8n+R/zBXpH5uI+zpfVzWRU9weT/FumcPrX3f35+fj/LeOw/K9Jjquqq272eLNPZerWcssN666d5IJMF93dJMkTLuc+Xprku6vqm+c6Ts0lw/VzkvxCVd08SebHdX3kkwMdH2DLhGVg6XX3ryT5yUwX7X0q05nHxyT503mTpyc5M8m7k7wnyTvmdZvx8CRXTfIPmboQvDTTxWf7e22SP0vygUxdKL6US3Yx+KP5//Oq6h0H2P93krwoU7eJj8z7P3aTtW50RpLzuvtfNixXkr8bbP9XSd6b5BNV9enNHqy7v5jp4r83zaNx3C1T2L1zpjPsr07yssu5j/dmavPpmc4yn5/kk5nO7ifJs5K8Isnrqur8JG9J8k2XcXyALatu31gBsHvNZ9g/m+TW8ygfAIeMM8sA7DpV9d1zl5prJTkt0zcC/7zYqoDDkbAMwG50YqaLHT+e5NZJHtq+CgUWQDcMAAAYcGYZAAAGhGUAABjY1TP4HX300X388ccf1GN84QtfyLWuda2DeoxDaZXas0ptSVarPavUlmS12rNKbUlWqz2r1JZktdqzSm1JVqs9h6otZ5111qe7+wYHum1Xh+Xjjz8+Z5555kE9xtraWvbu3XtQj3EorVJ7VqktyWq1Z5XakqxWe1apLclqtWeV2pKsVntWqS3JarXnULWlqj46uk03DAAAGBCWAQBgQFgGAIABYRkAAAaEZQAAGBCWAQBgQFgGAIABYRkAAAaEZQAAGBCWAQBgQFgGAIABYRkAAAaEZQAAGBCWAQBgQFgGAIABYRkAAAaEZQAAGBCWAQBg4IhFF8DhoU6tTe9z2m1Oy75T921qnz6lN30cAIARZ5YBAGBAWAYAgAFhGQAABoRlAAAYcIEfAIeEC32BZeTMMgAADAjLAAAwICwDAMCAsAwAAAPCMgAADOxIWK6q+1TV+6vqQ1X1xMvY7i5V9ZWqeuBOHBcAAA6mbYflqrpykmcnuW+S2yU5qapuN9jul5K8drvHBACAQ2EnzizfNcmHuvvD3f3lJKcnOfEA2z02yR8n+eQOHBMAAA66nQjLN0ly9oblc+Z1X1NVN0nyX5M8ZweOBwAAh0R1b2+mo6p6UJLv6O5HzssPS3LX7n7shm3+KMkzu/stVfW7SV7V3S8d3N+jkjwqSY455pgTTj/99G3Vd3kuuOCCHHnkkQf1GIfSbm3PWeeetel9jrvacTnnwnM2tc8Jx56w6eMcKrv1sdmKVWpLslrt2c1tOdz/Duzmx2YrVqk9q9SWZLXac6jasm/fvrO6e8+BbtuJ6a7PSXLTDcvHJfn4ftvsSXJ6VSXJ0UnuV1UXdfef7n9n3f3cJM9Nkj179vTevXt3oMSxtbW1HOxjHEq7tT2bna42maa5PfkDJ29qnz5p905zu1sfm61YpbYkq9We3dyWw/3vwG5+bLZildqzSm1JVqs9u6EtOxGW357k1lV1iyQfS/LQJN+7cYPuvsX6zxvOLF8qKAMAwG6y7bDc3RdV1WMyjXJx5SS/093vrapHz7frpwwAwFLaiTPL6e7XJHnNfusOGJK7+wd24pgAAHCwmcEPAAAGhGUAABgQlgEAYEBYBgCAAWEZAAAGhGUAABgQlgEAYEBYBgCAAWEZAAAGhGUAABgQlgEAYEBYBgCAAWEZAAAGhGUAABgQlgEAYEBYBgCAAWEZAAAGhGUAABgQlgEAYEBYBgCAgSMWXQAAwE6qU2tT2592m9Oy79R9m9qnT+lNbc/ycmYZAAAGhGUAABgQlgEAYEBYBgCAAWEZAAAGhGUAABgQlgEAYEBYBgCAAWEZAAAGhGUAABgQlgEAYEBYBgCAAWEZAAAGhGUAABgQlgEAYEBYBgCAAWEZAAAGhGUAABgQlgEAYEBYBgCAAWEZAAAGhGUAABgQlgEAYEBYBgCAAWEZAAAGhGUAABgQlgEAYEBYBgCAAWEZAAAGhGUAABgQlgEAYEBYBgCAAWEZAAAGhGUAABgQlgEAYEBYBgCAAWEZAAAGhGUAABgQlgEAYEBYBgCAAWEZAAAGhGUAABgQlgEAYEBYBgCAAWEZAAAGhGUAABgQlgEAYEBYBgCAAWEZAAAGhGUAABgQlgEAYEBYBgCAAWEZAAAGhGUAABgQlgEAYEBYBgCAAWEZAAAGhGUAABgQlgEAYEBYBgCAAWEZAAAGdiQsV9V9qur9VfWhqnriAW7/vqp69/zvb6vqDjtxXAAAOJi2HZar6spJnp3kvklul+Skqrrdfpt9JMm9uvv2SZ6W5LnbPS4AABxsO3Fm+a5JPtTdH+7uLyc5PcmJGzfo7r/t7s/Mi29JctwOHBcAAA6qnQjLN0ly9oblc+Z1Iz+c5M924LgAAHBQVXdv7w6qHpTkO7r7kfPyw5Lctbsfe4Bt9yX5jST37O7zBvf3qCSPSpJjjjnmhNNPP31b9V2eCy64IEceeeRBPcahtFvbc9a5Z216n+OudlzOufCcTe1zwrEnbPo4h8pufWy2YpXakqxWe3ZzWw73vwO7+bHZit3cns0+11bpeZbs7sdmsw5VW/bt23dWd+850G07EZbvnuQp3f0d8/KTkqS7n7HfdrdP8idJ7tvdH7gi971nz54+88wzt1Xf5VlbW8vevXsP6jEOpd3anjq1Nr3Pabc5LSd/4ORN7dOnbO/5fDDt1sdmK1apLclqtWc3t+Vw/zuwmx+brdjN7dnsc22VnmfJ7n5sNutQtaWqhmF5J7phvD3JravqFlV11SQPTfKK/Qq4WZKXJXnYFQ3KAACwaEds9w66+6KqekyS1ya5cpLf6e73VtWj59ufk+Tnk3xdkt+oqiS5aJTeAQBgt9h2WE6S7n5Nktfst+45G35+ZJJH7sSxAADgUDGDHwAADAjLAAAwICwDAMCAsAwAAAPCMgAADAjLAAAwICwDAMCAsAwAAAPCMgAADAjLAAAwICwDAMCAsAwAAAPCMgAADAjLAAAwICwDAMCAsAwAAAPCMgAADAjLAAAwICwDAMCAsAwAAAPCMgAADAjLAAAwICwDAMCAsAwAAANHLLoAAA6sTq1N73PabU7LvlP3bWqfPqU3fRyAw4UzywAAMCAsAwDAgLAMAAADwjIAAAwIywAAMCAsAwDAgLAMAAADwjIAAAwIywAAMCAsAwDAgLAMAAADwjIAAAwIywAAMCAsAwDAgLAMAAADwjIAAAwIywAAMCAsAwDAgLAMAAADwjIAAAwIywAAMCAsAwDAgLAMAAADwjIAAAwIywAAMCAsAwDAgLAMAAADwjIAAAwIywAAMCAsAwDAgLAMAAADwjIAAAwIywAAMCAsAwDAgLAMAAADwjIAAAwIywAAMCAsAwDAgLAMAAADwjIAAAwIywAAMCAsAwDAgLAMAAADwjIAAAwIywAAMCAsAwDAgLAMAAADwjIAAAwIywAAMCAsAwDAgLAMAAADwjIAAAwIywAAMCAsAwDAgLAMAAADwjIAAAwIywAAMLAjYbmq7lNV76+qD1XVEw9we1XVr823v7uq7rwTxwUAgINp22G5qq6c5NlJ7pvkdklOqqrb7bfZfZPcev73qCS/ud3jAgDAwbYTZ5bvmuRD3f3h7v5yktOTnLjfNicmeWFP3pLkqKo6dgeODQAAB81OhOWbJDl7w/I587rNbgMAALtKdff27qDqQUm+o7sfOS8/LMldu/uxG7Z5dZJndPcb5+XXJ/mp7j7rAPf3qExdNXLMMceccPrpp1/hWs4691J3d7mOu9pxOefCcza1zwnHnrDp42zFqrVnsy644IIceeSRiy7jgFbpsVmltiSr157N2s2vm63Yze3Z7HNtNz/PvG5W53mW7O7HZre+bvbt23dWd+850G07EZbvnuQp3f0d8/KTkqS7n7Fhm99Kstbdvz8vvz/J3u4+97Lue8+ePX3mmWde8VpOrU3Xf9ptTsvJHzh5U/v0Kdv7nV1Rq9aezVpbW8vevXsXXcYBrdJjs0ptSVavPZu1m183W7Gb27PZ59pufp553azO8yzZ3Y/Nbn3dVNUwLO9EN4y3J7l1Vd2iqq6a5KFJXrHfNq9I8vB5VIy7Jfnc5QVlAABYtCO2ewfdfVFVPSbJa5NcOcnvdPd7q+rR8+3PSfKaJPdL8qEkX0zyg9s9LgAAHGzbDstJ0t2vyRSIN657zoafO8mP78SxAADgUDGDHwAADAjLAAAwICwDAMCAsAwAAAPCMgAADAjLAAAwICwDAMCAsAwAAAM7MikJwG7Rp/Sm91lbW0uftPn9AFh9ziwDAMCAsAwAAAPCMgAADAjLAAAwICwDAMCAsAwAAAPCMgAADAjLAAAwICwDAMCAsAwAAAPCMgAADAjLAAAwICwDAMCAsAwAAAPCMgAADAjLAAAwICwDAMCAsAwAAAPCMgAADAjLAAAwICwDAMCAsAwAAAPCMgAADAjLAAAwICwDAMDAEYsuAFisPqU3vc/a2lr6pM3vBwDLxpllAAAYEJYBAGBAWAYAgAFhGQAABoRlAAAYEJYBAGBAWAYAgAFhGQAABoRlAAAYEJYBAGBAWAYAgAFhGQAABoRlAAAYEJYBAGBAWAYAgAFhGQAABoRlAAAYEJYBAGBAWAYAgAFhGQAABoRlAAAYEJYBAGBAWAYAgAFhGQAABoRlAAAYEJYBAGDgiEUXAMuoT+lN77O2tpY+afP7AQCL48wyAAAMCMsAADAgLAMAwICwDAAAA8IyAAAMCMsAADAgLAMAwICwDAAAA8IyAAAMCMsAADAgLAMAwICwDAAAA8IyAAAMCMsAADAgLAMAwICwDAAAA8IyAAAMCMsAADAgLAMAwICwDAAAA9sKy1V1/ar6i6r64Pz/9Q6wzU2r6g1V9b6qem9VPX47xwQAgENlu2eWn5jk9d196ySvn5f3d1GS/9nd35Dkbkl+vKput83jAgDAQbfdsHxikhfMP78gyQP236C7z+3ud8w/n5/kfUluss3jAgDAQbfdsHxMd5+bTKE4yQ0va+OqOj7JnZK8dZvHBQCAg666+7I3qPrLJDc6wE0/m+QF3X3Uhm0/092X6rc833ZkkjOS/EJ3v+wyjveoJI9KkmOOOeaE008//XIbse6sc8+6wtuuO+5qx+WcC8/Z1D4nHHvCpo+zFavWns264IILcuSRRy66jB2zSu1ZpbYkq9WeVWpLsrvbs9m/0bv577P3m9V5niW7+7HZra+bffv2ndXdew502+WG5ctSVe9Psre7z62qY5OsdfdtD7DdVZK8Kslru/tXruj979mzp88888wrXs+pdYW3XXfabU7LyR84eVP79Clb/51txqq1Z7PW1tayd+/eRZexY1apPavUlmS12rNKbUl2d3s2+zd6N/999n6zOs+zZHc/Nrv1dVNVw7C83W4Yr0jyiPnnRyR5+QEOXkmel+R9mwnKAACwaNsNy7+Y5N5V9cEk956XU1U3rqrXzNvcI8nDknxrVb1z/ne/bR4XAAAOuiO2s3N3n5fk2w6w/uNJ7jf//MYkm/8OAQAAFswMfgAAMCAsAwDAgLAMAAADwjIAAAwIywAAMCAsAwDAwLaGjttttjJjy9raWvqk3TmjEAAAi+XMMgAADAjLAAAwICwDAMCAsAwAAAPCMgAADAjLAAAwICwDAMCAsAwAAAPCMgAADAjLAAAwICwDAMCAsAwAAAPCMgAADAjLAAAwICwDAMCAsAwAAAPCMgAADAjLAAAwICwDAMCAsAwAAAPCMgAADAjLAAAwICwDAMCAsAwAAAPCMgAADByx6AIY61N60/usra2lT9r8fgAAXJozywAAMCAsAwDAgLAMAAADwjIAAAwIywAAMCAsAwDAgLAMAAADwjIAAAwIywAAMCAsAwDAgLAMAAADwjIAAAwIywAAMCAsAwDAgLAMAAADwjIAAAwIywAAMCAsAwDAgLAMAAADwjIAAAwIywAAMCAsAwDAgLAMAAADwjIAAAwIywAAMCAsAwDAgLAMAAADRyy6AAAADg99Sm9q+7W1tfRJm9tnpzmzDAAAA8IyAAAMCMsAADAgLAMAwICwDAAAA8IyAAAMCMsAADAgLAMAwICwDAAAA8IyAAAMCMsAADAgLAMAwICwDAAAA8IyAAAMCMsAADAgLAMAwICwDAAAA8IyAAAMCMsAADAgLAMAwICwDAAAA0dsZ+equn6SP0hyfJJ/TvLg7v7MYNsrJzkzyce6+7u2c1wAgMNBn9Kb3mdtbS190ub348C2e2b5iUle3923TvL6eXnk8Unet83jAQDAIbPdsHxikhfMP78gyQMOtFFVHZfkO5P89jaPBwAAh8x2w/Ix3X1uksz/33Cw3a8m+akkX93m8QAA4JCp7svu01JVf5nkRge46WeTvKC7j9qw7We6+3r77f9dSe7X3T9WVXuTnHxZfZar6lFJHpUkxxxzzAmnn376FW3LllxwwQU58sgjD+oxDqVVas8qtSVZrfasUluS1WrPKrUl2d3tOevcsza1/XFXOy7nXHjOpvY54dgTNrX9Vm22Lcnubs9m7ebn2VasUnsOVVv27dt3VnfvOdBtlxuWL0tVvT/J3u4+t6qOTbLW3bfdb5tnJHlYkouSXD3JdZK8rLu///Luf8+ePX3mmWduub4rYm1tLXv37j2oxziUVqk9q9SWZLXas0ptSVarPavUlmR3t6dOrU1tf9ptTsvJHzh5U/ts5eKurdhsW5Ld3Z7N2s3Ps61YpfYcqrZU1TAsb7cbxiuSPGL++RFJXr7/Bt39pO4+rruPT/LQJH91RYIyAAAs2nbD8i8muXdVfTDJveflVNWNq+o12y0OAAAWaVvjLHf3eUm+7QDrP57kfgdYv5ZkbTvHBACAQ8UMfgAAMCAsAwDAgLAMAAADwjIAAAwIywAAMCAsAwDAgLAMAAADwjIAAAwIywAAMLCtGfwAgOXXp/Sm91lbW0uftPn9YNk4swwAAAPOLAPAFmz2bKwzsbCcnFkGAIABYRkAAAaEZQAAGBCWAQBgQFgGAIABYRkAAAaEZQAAGBCWAQBgQFgGAIABYRkAAAaEZQAAGBCWAQBgQFgGAIABYRkAAAaEZQAAGBCWAQBgQFgGAIABYRkAAAaEZQAAGKjuXnQNQ1X1qSQfPciHOTrJpw/yMQ6lVWrPKrUlWa32rFJbktVqzyq1JVmt9qxSW5LVas8qtSVZrfYcqrbcvLtvcKAbdnVYPhSq6szu3rPoOnbKKrVnldqSrFZ7VqktyWq1Z5XakqxWe1apLclqtWeV2pKsVnt2Q1t0wwAAgAFhGQAABoTl5LmLLmCHrVJ7VqktyWq1Z5XakqxWe1apLclqtWeV2pKsVntWqS3JarVn4W057PssAwDAiDPLAAAwICwDAMCAsAwAAANHLLqARaqqa3X3FxZdx3ZU1Q939/M2LF85yZO7+9QFlrUtVXXVJF+fpJO8v7u/vOCStq2qrpfkpt397kXXQlJV90jyzu7+QlV9f5I7J3lWdx/sSZAOiqq68wFWfy7JR7v7okNdz3ZV1TcnOT4b3qO6+4ULK4gkSVVdv7v/337rbtHdH1lUTayWqvqey7q9u192qGrZ6LC8wG/+Q/zbSY7s7ptV1R2S/Eh3/9iCS9u0qvq9JEcl+eEkX5fk+UnO6O6TF1rYFlXVdyZ5TpJ/SlJJbpHpsfmzhRa2BVW1luT+md7w35nkU5kem59cZF2bVVXvyfTB5VI3Jenuvv0hLmnbqurdSe6Q5PZJXpTkeUm+p7vvtdDCtqiq3pIp8L870+PyjfPPX5fk0d39ugWWtylV9aIkt8r0mvnKvLq7+3GLq2rrBq+fzyU5M8nTu/u8Q1/V1lTVm5Lct7s/Py/fLskfdvc3Lrayramq2yT5zSTHdPc3VtXtk9y/u5++4NI2rapukOSnk9wuydXX13f3ty6sqC2oqudfxs3d3T90yIrZ4HANy29N8sAkr+juO83r/n6JX/APSfLsJF9MclJ3v2nBJW1ZVf1jku/q7g/Ny7dK8uru/vrFVrZ5VfV33X2nqnpkprPKp1TVu5ctXFbVzS/r9mU8G1tV7+juO1fVzyf5WHc/b33domvbiqo6PcnTuvu98/LtkjwhydOSvKy777jI+jajqt6X5Ha9Im9OVfXLmUL/782rHjr///kk9+zu715IYVswn8z4qSTfmeS2SV6Y5Pu6+50LLWyLquqMTK+T31r2LFBVr0vyB0lOTvLoJI9I8qnu/umFFrYiDttuGN19dlVtXPWV0ba7WVXdOsnjk/xxkm9I8rA5pH1xsZVt2SfXg/Lsw0k+uahitumIqjo2yYOT/Oyii9mqjWG4qo5Jcpd58W3dvayPzflV9aQkD0vyLXP3passuKbt+Pr1oJwk3f0PVXWn7v7wfn/nlsHfJ7lRknMXXcgOuUd332PD8nuq6k3dfY+5C9DS6O5XV9VVkrwuybWTPKC7P7jgsrbjmt39tv1eI0vXbWn2dfOH/sd39xlJzpg/DCyt+cPZf8wlz5Q/dRG1HK5h+ey5K0bP/WMfl+R9C65pq16Z5DHd/Zc1veJ/MsnbMz3BltF7q+o1Sf4w01eXD0ry9vV+TIvqr7RFT03y2iRv6u63V9UtkyztG0tVPTjJ/06ylumr/l+vqid090sXWtjWPCTJ9yb5oe7+RFXdLFPbltX7q+o3k5w+Lz8kyQeq6mpJ/n1xZV1xVfXKTK/5ayf5h6p6W5IL12/v7vsvqrZtOrKqvqm735okVXXXJEfOty1FMKuqX88lu5JcJ9OJjMdWVZa1i0yST8/fXnaSVNUDs7wf0tZf5+fOIfPjSY5bYD3bUlXPSXLNJPsydZt9YJK3LayeFfmma1Oq6ugkz0ry7Zne9F+X5PHL1HdsXVVdZ73/2IZ1t17WT/uD/kqdi/vHLqS/EklVvSvJvdfPJs995P6yu++w2Mq2pqpulOSumZ5fb+/uTyy4pC2rqmsk+bEk98z0Wnljkt9I8qVMZ88uWGB5V0hVXWZ/8fls2dKpqrsk+Z1MAbkydb94ZJL3JvnO7v7DBZZ3hVTVIy7r9u5+waGqZSfNJzCem+Sbk3wmyUcydStZxq5l35Xkb5LcNMmvZ/pA86GSuE4AAA7FSURBVJTufuVCC9ui9S6LG/4/MlOXsv+ykHoOx7C8Suavxf9Xkpt0933mvop33zhCxjKpqhdk+uDy2Xn5ekmeuYwhef5D/Kwkd8sUyN6c5CeW9crxqnpPd/+nDctXSvKujeuWxdyP/OeT/FWmAHOvJE/t7t9ZaGFbVFXXSvKl7v7KvHzlJFdbxu5YVXWLJOd295fm5WtkugDrnxda2DZV1XUzved+dtG1cEnz6+dK3X3+omvZqgO8d14/yWnL+N6ZTNeWdfc3zRcvf0+S85L8fXffehH1HJbdMKrq1w6w+nNJzuzulx/qerbpdzONgLHeJ/YDmTr5L2VYTnL7jW8m3f2ZqrrTIgvaht/LdOHlf52XH5rpa/JvWlhF2/PnVfXaJL8/Lz8kyWsWWM92PCHJnda/Taqqr0vyt5nOAC6j12f6pmz9DPI1Mn1j9s0Lq2jr/iiXrPsr87q7HHjz3W3uCvPfMg+Ft94/dlF9L7djvkbmGbn0iAu3XFhR2zC/7k/J9I1MV9UbM31oXrpvmXPp987/t8TvnUnyqqo6KlP3uHdkOuH024sq5nCdlOTqSe6Yqf/oBzMNH3X9JD9cVb+6yMK24Oj5a7yvJsk8pupSXqw4u9J8NjnJ1z4dL+uHuuruF3X3RfO/F+fAQ7Athe5+QqavLG+fadi15y7xldbnJNl4Fun8JGcvqJadcPWNXS3mn6+5wHq244jeMLb6/PNVF1jPdr08yYmZ+id/YcO/ZfT8TEOtXZSpL+kLMw29uKxOzzSk53/L1Cf2U5lONi2jVXrvTHc/rbs/291/nOTmmS5i/rlF1bO0v8ht+g9JvnUOlpkvjHldknsnec8iC9uCL8yfjtcvULhbprPky+qZSf62ql6aqU0PTvILiy1py95QVU/M9Ae5M52JffX8Ryy93+D+y2D+w/XHi65jq6pqfYzrjyV5a1W9PNNjc2IWePHIDvhCVd25u9+RJFV1QpJ/W3BNW/Wpqrp/d78iSarqxCSfXnBN23Fcd99n0UXskGt09+urquZ+vU+pqr/JdHZ2GV2/u5+2YfnpVfWAhVWzPav03pnk0pMTzReTLmRyosM1LN8kybVycai8VpIbd/dXqurC8W670k8meUWSW9U0YPwNMn1CXkrd/cKqOjPJt2bqS/o93f0PCy5rqx4y//8j+63/oUx/zJbqq8t5RJJfSnLDTI/N+kWX11loYZtzpyQfSvLdSTZ+i7Rs3a/29xNJ/qiqPj4vH5uLn3/L5tFJXlJV/yfTc+zsJA9fbEnb8rdV9Z+6e9lOxBzIl+ZrFT5YVY/J9KHzhguuaTveUFUPzTT6UjK9d756gfVs2Yq9dw4nJ8r0bcahr+dwvMCvqn44yZNz8RBY/znTRXK/n+nq0ScsrrrNqaoHZRqe7KaZvkr6piQ/t36GCXZKVX0oyXd397IOs5iq+ock98005OLe/W9fxrP96+bxb2+b6W/aP3b3UgwZNzJf/V7LfNFV8rXn3H/INNLChVnumS/vkmmY1aMyTXhznST/u7vfstDCtqiqzs90suyr86or5eIuMst2ImCl1C6bnOiwDMtJUlU3zjQhwT9merGc091/vdiqNm/DsCr3zBT4n5nkZ7p7WS8iWxlVdfVcPJxXZxrW5znrV/kvm/WJFBZdx3ZU1eOS/GimadQ/vvGmTG+OS3W2f11VXTPTt0w37+7/Pl+IddvuftWCS9uS3TQZwXbVYAbMZRyebF1VXau7l7XfNUugqv4oyeO6e1eMe31YhuV52KjHZxqw+52ZhvZ6cy/ZHOrJJaZUfkaS93T3762vW3Rth7uq+sNMF469eF51UpLrdfeDFlfV5q1PCJNpeLUbJfnTXHKyiGWaKCbJdJ1Cd//oouvYKVX1B0nOSvLw7v7Gebi1N/cSTXO9bjQZQXf/8EIL26aqumEuGf7/ZYHlbElV3T3TSEtHdvfNquoOSX6ku39swaVtWVXdP9O3y0mytqwfMFfFfpMT3THTtSQLn5zocA3L78k0DNFbuvuOVfX1SU7t7qXr41dVr8rUb+zbk6xf1PO2ZZ0oYpVU1bv2fxwOtG632zBRzPrkMBuZKGYXqKozu3vPxg/Ky/hcS3bfZATbNYexZya5cZJPZrqy/33dvXSzrFbVWzN9eHnFhufZ33f3Ny62sq2pql/MlAVeMq86KclZ3f3ExVV1eJsnJ6pM18f81MabkvzSor41P1wv8PtSd3+pqlJVV+vuf6yq2y66qC16cJL7ZBp8/LNVdWymMWRZvL+rqrut9+erqm9K8qYF17Rp3f2DyXjCmEXWxtd8eT6bvD4qzq2y4WzMklkfxeOLc3e58zJ1m1lWT8v07eVfzt8C7ssUypZSd5+9Plb0bJmHKr1fkjt291eTr/2N+7skwvKC9DxTZ1VdpfebtXP+G7cQh2tYPmce7PpPk/xFVX0ml+y/uDTmGbpetmH53Czv3PYrYf7mopNcJcnDq+pf5uWbJ1naq5OzWhPGrJqnJPnzJDetqpckuUeSH1xoRVu3qyYj2AH/3t3nVdWVqupK3f2GqvqlRRe1RWfPw3l1VV01yeMyXfC3zI5Ksn5h73UXWQhJVf1opmt9bllV795w07WzwJNNh2U3jI3mU/7XTfLnGwfCh60aXdCzblkv7KmqdyXZ292fmZevn+SMXsLprlfRPN763TJ9XfmW7l7msYmTfG32u6t399KOHV9Vf5nkAZlmvjs6U1eMu3T30s2uWFVHJ3lWpm5/V8o0EtPjl3TGu1TVSUl+MckbcvHIWE/q7tMXWthhrKZp4a+X6fWy8Qz/+YscreiwD8twsFTVi7r7YZe3bllU1cOTPCnJJQa97+5lnsFrJVTV67v72y5v3W624ULSA1rGC0mTaeSIJF/KFMa+L9PJmZcsa8BcNXPXxbtkenze2t2fWHBJ7EKHazcMOBQucQFPVR2R6SLMpbRqg96vgnl4wmsmOXruQ77emfQ6mS4oWybffRm3dTZ0N1syN9/wOnlBklTV3kzj/C+VqrplpjPLd8v0mLw5yf/o7g8vtLBNqqo777fqnPn/G1fVjc1TwP6cWYYdVlVPSvIzSa6R5Ivrq5N8Oclzu/tJi6qN1VJVj880e9+NM42Ksx6WP5/k/3b3/1lUbUyq6u+TvCjJL2caOu6Xk+zp7rsvtLAtqKq3JHl2pgm8kuShSR67bOP6V9UbDrD6a2FoGYeR5eASluEgqapnCMYcClX12O7+9UXXsVNWbFKSa2UaBuuETBcpvSTTEFhfvcwdd6Gqeuv+wbiq3tLdd1tUTdtRVQ/OdL3S56vq55LcOcnTnFlmf1dadAGwwl41v1Gmqr6/qn7l8i7+gy36RFVdO0mq6slV9bIDfNW8FOZJSR6S5LGZzpQ/KNNIMsvq3zMNh3eNTOH/I8sYlGdvqKonVtXxVXXzqvqpJK+uquvPF/wumyfPQfmeSe6d5HeT/OZiS2I3cmYZDpJ52Js7JLl9pq9hn5epn++9FloYK6cuOe39M5KcliWd9n4FJyV5V5KXJ3lqptEwfivTcHIPXGhhW1BVH7mMm5duungz4HJFObMMB89FPX0aPTHJs7r7WZm+hoWdtj4xxHcm+c3ufnmSqy6wnu3Yf1KSf89yT0ry35N8MNOHl09kOmP+zsWWtDXdfYvL+LdUQXn2sar6rUwj+7xmHqpQLuJSjIYBB8/588V+D0vyLVV15UwTlcBOW3/T//Ykv7Tkb/qrNinJDyb5aqZRZJ6a5PxMH6CfvsiiNmNVh/WLGXC5gnTDgIOkqm6U5HuTvL27/6aqbpZpUo8XLrg0VkxVXTPTm/57uvuD85v+f+ru1y24tG1ZkUlJ3tHdd9749X5VvbO777jo2q6oqnr+/OMNk3xzkr+al/clWevuywzTsOycWYaDpLs/UVV/nOTW86pPJ/mTBZbEiuruL1bVJ5PcM9NX/hfN/y+leUrl4zO/R1VVlvhD5r/P3yp1klTVDbJhmLJl0N0/mCRV9aokt+vuc+flYzMNJQcrTViGg6Sq/nuSRyW5fpJbJblJkuckWZpZ1VgOVXVKkj1Jbpvk+Zm6+7w4yT0WWddWVNWLMr1e3pmL+2J3kmUNy7+W6UPyDavqF5I8MMmTF1vSlh2/HpRn/5rkNosqBg4VYRkOnh9Pctckb02S+evxGy62JFbUf01yp0x9fNPdH18fSm4J7cl09nKpzr6OdPdLquqsTB+SK8kDuvt9Cy5rq9aq6rWZJiXpTJOSHGiCD1gpwjIcPBd295erpknV5umuVyIAsOt8ubu7qta/6r/Wogvahr9PcqMk517ehsuiu/8xyT8uuo7t6u7HzBf7fcu86rndrWsZK09YhoPnjKr6mSTXqKp7J/mxJK9ccE2smJo+jb1qHg3jqLn7zw8l+b+LrWxzquqVmT5MXjvJP1TV25JcuH57d99/UbVxsXnki2Ud/QK2xGgYcJDMIeaRSf5Lpq9fX5vkt1fl62V2j6p6R5KfzobnWnf/xWKr2pyqulem2n8pyU9tvCnT9NBLN8HKqqiq8zN9kKlc8tuxyjQZyXUWUhgcIs4sw0FQVVdK8u7u/sYs2Rk+ltKbk3y2u5d2jNjuPiNJquoq6z+vq6prLKYqkqS7v9b/varumIu7Yfx1d79rMVXBobOsg9bDrtbdX03yrnlsZTjY9iV5c1X9U1W9e/3foovajKr60ap6T5LbbmzDPMXyUrVlVVXV45K8KNO03TdI8qKqeuxiq4KDTzcMOEiq6q+S3CXJ25J8YX29vpfstKq6+YHWd/dHD3UtW1VV101yvSTPSPLEDTed393/bzFVsdH8Aezu3f2FeflaSd7c3bdfbGVwcOmGAQfPkUm+a8Pyen9M2FHLFIpH5ln6PpfkpEXXwlDl4rGvM/9cC6oFDhlhGQ6eI/S9BFbI85O8tarWh4t7QJLnLbAeOCR0w4AdVlU/mmmYuFsm+acNN107yZu6+/sXUhjANlXVnTNNq16ZLvD7uwWXBAedsAw7TN9LAFgdwjIAAAwYOg4AAAaEZQAAGBCWAQBgQFgGAIABYRkAAAb+f2xQz7A6hB7QAAAAAElFTkSuQmCC\n",
      "text/plain": [
       "<Figure size 864x576 with 1 Axes>"
      ]
     },
     "metadata": {
      "needs_background": "light"
     },
     "output_type": "display_data"
    }
   ],
   "source": [
    "df.drop('target', axis=1).corrwith(df.target).plot(kind='bar', grid=True, figsize=(12, 8), \n",
    "                                                   title=\"Correlation with target\",color=\"g\");"
   ]
  },
  {
   "cell_type": "markdown",
   "metadata": {},
   "source": [
    "\n",
    "1.fbs and chol are the lowest correlated with the target variable.\n",
    "\n",
    "2.All other variables have a significant correlation with the target variable.\n"
   ]
  },
  {
   "cell_type": "markdown",
   "metadata": {},
   "source": [
    "# Data processing"
   ]
  },
  {
   "cell_type": "markdown",
   "metadata": {},
   "source": [
    "# One hot encoding"
   ]
  },
  {
   "cell_type": "code",
   "execution_count": 23,
   "metadata": {},
   "outputs": [
    {
     "data": {
      "text/html": [
       "<div>\n",
       "<style scoped>\n",
       "    .dataframe tbody tr th:only-of-type {\n",
       "        vertical-align: middle;\n",
       "    }\n",
       "\n",
       "    .dataframe tbody tr th {\n",
       "        vertical-align: top;\n",
       "    }\n",
       "\n",
       "    .dataframe thead th {\n",
       "        text-align: right;\n",
       "    }\n",
       "</style>\n",
       "<table border=\"1\" class=\"dataframe\">\n",
       "  <thead>\n",
       "    <tr style=\"text-align: right;\">\n",
       "      <th></th>\n",
       "      <th>age</th>\n",
       "      <th>trestbps</th>\n",
       "      <th>chol</th>\n",
       "      <th>thalach</th>\n",
       "      <th>oldpeak</th>\n",
       "      <th>target</th>\n",
       "      <th>sex_0</th>\n",
       "      <th>sex_1</th>\n",
       "      <th>cp_0</th>\n",
       "      <th>cp_1</th>\n",
       "      <th>...</th>\n",
       "      <th>slope_2</th>\n",
       "      <th>ca_0</th>\n",
       "      <th>ca_1</th>\n",
       "      <th>ca_2</th>\n",
       "      <th>ca_3</th>\n",
       "      <th>ca_4</th>\n",
       "      <th>thal_0</th>\n",
       "      <th>thal_1</th>\n",
       "      <th>thal_2</th>\n",
       "      <th>thal_3</th>\n",
       "    </tr>\n",
       "  </thead>\n",
       "  <tbody>\n",
       "    <tr>\n",
       "      <th>0</th>\n",
       "      <td>63</td>\n",
       "      <td>145</td>\n",
       "      <td>233</td>\n",
       "      <td>150</td>\n",
       "      <td>2.3</td>\n",
       "      <td>1</td>\n",
       "      <td>0</td>\n",
       "      <td>1</td>\n",
       "      <td>0</td>\n",
       "      <td>0</td>\n",
       "      <td>...</td>\n",
       "      <td>0</td>\n",
       "      <td>1</td>\n",
       "      <td>0</td>\n",
       "      <td>0</td>\n",
       "      <td>0</td>\n",
       "      <td>0</td>\n",
       "      <td>0</td>\n",
       "      <td>1</td>\n",
       "      <td>0</td>\n",
       "      <td>0</td>\n",
       "    </tr>\n",
       "    <tr>\n",
       "      <th>1</th>\n",
       "      <td>37</td>\n",
       "      <td>130</td>\n",
       "      <td>250</td>\n",
       "      <td>187</td>\n",
       "      <td>3.5</td>\n",
       "      <td>1</td>\n",
       "      <td>0</td>\n",
       "      <td>1</td>\n",
       "      <td>0</td>\n",
       "      <td>0</td>\n",
       "      <td>...</td>\n",
       "      <td>0</td>\n",
       "      <td>1</td>\n",
       "      <td>0</td>\n",
       "      <td>0</td>\n",
       "      <td>0</td>\n",
       "      <td>0</td>\n",
       "      <td>0</td>\n",
       "      <td>0</td>\n",
       "      <td>1</td>\n",
       "      <td>0</td>\n",
       "    </tr>\n",
       "    <tr>\n",
       "      <th>2</th>\n",
       "      <td>41</td>\n",
       "      <td>130</td>\n",
       "      <td>204</td>\n",
       "      <td>172</td>\n",
       "      <td>1.4</td>\n",
       "      <td>1</td>\n",
       "      <td>1</td>\n",
       "      <td>0</td>\n",
       "      <td>0</td>\n",
       "      <td>1</td>\n",
       "      <td>...</td>\n",
       "      <td>1</td>\n",
       "      <td>1</td>\n",
       "      <td>0</td>\n",
       "      <td>0</td>\n",
       "      <td>0</td>\n",
       "      <td>0</td>\n",
       "      <td>0</td>\n",
       "      <td>0</td>\n",
       "      <td>1</td>\n",
       "      <td>0</td>\n",
       "    </tr>\n",
       "    <tr>\n",
       "      <th>3</th>\n",
       "      <td>56</td>\n",
       "      <td>120</td>\n",
       "      <td>236</td>\n",
       "      <td>178</td>\n",
       "      <td>0.8</td>\n",
       "      <td>1</td>\n",
       "      <td>0</td>\n",
       "      <td>1</td>\n",
       "      <td>0</td>\n",
       "      <td>1</td>\n",
       "      <td>...</td>\n",
       "      <td>1</td>\n",
       "      <td>1</td>\n",
       "      <td>0</td>\n",
       "      <td>0</td>\n",
       "      <td>0</td>\n",
       "      <td>0</td>\n",
       "      <td>0</td>\n",
       "      <td>0</td>\n",
       "      <td>1</td>\n",
       "      <td>0</td>\n",
       "    </tr>\n",
       "    <tr>\n",
       "      <th>4</th>\n",
       "      <td>57</td>\n",
       "      <td>120</td>\n",
       "      <td>354</td>\n",
       "      <td>163</td>\n",
       "      <td>0.6</td>\n",
       "      <td>1</td>\n",
       "      <td>1</td>\n",
       "      <td>0</td>\n",
       "      <td>1</td>\n",
       "      <td>0</td>\n",
       "      <td>...</td>\n",
       "      <td>1</td>\n",
       "      <td>1</td>\n",
       "      <td>0</td>\n",
       "      <td>0</td>\n",
       "      <td>0</td>\n",
       "      <td>0</td>\n",
       "      <td>0</td>\n",
       "      <td>0</td>\n",
       "      <td>1</td>\n",
       "      <td>0</td>\n",
       "    </tr>\n",
       "  </tbody>\n",
       "</table>\n",
       "<p>5 rows × 31 columns</p>\n",
       "</div>"
      ],
      "text/plain": [
       "   age  trestbps  chol  thalach  oldpeak  target  sex_0  sex_1  cp_0  cp_1  \\\n",
       "0   63       145   233      150      2.3       1      0      1     0     0   \n",
       "1   37       130   250      187      3.5       1      0      1     0     0   \n",
       "2   41       130   204      172      1.4       1      1      0     0     1   \n",
       "3   56       120   236      178      0.8       1      0      1     0     1   \n",
       "4   57       120   354      163      0.6       1      1      0     1     0   \n",
       "\n",
       "   ...  slope_2  ca_0  ca_1  ca_2  ca_3  ca_4  thal_0  thal_1  thal_2  thal_3  \n",
       "0  ...        0     1     0     0     0     0       0       1       0       0  \n",
       "1  ...        0     1     0     0     0     0       0       0       1       0  \n",
       "2  ...        1     1     0     0     0     0       0       0       1       0  \n",
       "3  ...        1     1     0     0     0     0       0       0       1       0  \n",
       "4  ...        1     1     0     0     0     0       0       0       1       0  \n",
       "\n",
       "[5 rows x 31 columns]"
      ]
     },
     "execution_count": 23,
     "metadata": {},
     "output_type": "execute_result"
    }
   ],
   "source": [
    "if 'target'  in categorical_val:\n",
    "    categorical_val.remove('target')\n",
    "    dataset = pd.get_dummies(df, columns = categorical_val)\n",
    "else:\n",
    "    pass\n",
    "dataset.head()\n"
   ]
  },
  {
   "cell_type": "code",
   "execution_count": 24,
   "metadata": {},
   "outputs": [
    {
     "name": "stdout",
     "output_type": "stream",
     "text": [
      "Index(['age', 'sex', 'cp', 'trestbps', 'chol', 'fbs', 'restecg', 'thalach',\n",
      "       'exang', 'oldpeak', 'slope', 'ca', 'thal', 'target'],\n",
      "      dtype='object')\n",
      "Index(['age', 'trestbps', 'chol', 'thalach', 'oldpeak', 'target', 'sex_0',\n",
      "       'sex_1', 'cp_0', 'cp_1', 'cp_2', 'cp_3', 'fbs_0', 'fbs_1', 'restecg_0',\n",
      "       'restecg_1', 'restecg_2', 'exang_0', 'exang_1', 'slope_0', 'slope_1',\n",
      "       'slope_2', 'ca_0', 'ca_1', 'ca_2', 'ca_3', 'ca_4', 'thal_0', 'thal_1',\n",
      "       'thal_2', 'thal_3'],\n",
      "      dtype='object')\n"
     ]
    }
   ],
   "source": [
    "print(df.columns)\n",
    "print(dataset.columns)"
   ]
  },
  {
   "cell_type": "markdown",
   "metadata": {},
   "source": [
    "# Standardization"
   ]
  },
  {
   "cell_type": "code",
   "execution_count": 25,
   "metadata": {},
   "outputs": [],
   "source": [
    "from sklearn.preprocessing import StandardScaler\n",
    "\n",
    "s_sc = StandardScaler()\n",
    "col_to_scale = ['age', 'trestbps', 'chol', 'thalach', 'oldpeak']\n",
    "dataset[col_to_scale] = s_sc.fit_transform(dataset[col_to_scale])\n"
   ]
  },
  {
   "cell_type": "markdown",
   "metadata": {},
   "source": [
    "# Performance of an Algorithm"
   ]
  },
  {
   "cell_type": "code",
   "execution_count": 26,
   "metadata": {},
   "outputs": [],
   "source": [
    "from sklearn.metrics import accuracy_score, confusion_matrix, precision_score, recall_score, f1_score\n",
    "train_score_1x={}\n",
    "\n",
    "f1_train1x={}\n",
    "precision_train1x={}\n",
    "recall_train1x={}\n",
    "test_score_1x={}\n",
    "f1_test1x={}\n",
    "precision_test1x={}\n",
    "recall_test1x={}\n",
    "def print_score(algo_name,clf, X_train, y_train, X_test, y_test, train=True):\n",
    "    \n",
    "    if train:\n",
    "        pred = clf.predict(X_train)\n",
    "        print(\"Train Result:\\n================================================\")\n",
    "        \n",
    "        print(f\"Accuracy Score: {accuracy_score(y_train, pred) * 100:.2f}%\")\n",
    "        print(\"_______________________________________________\")\n",
    "        print(\"Classification Report:\", end='')\n",
    "        print(f\"\\tPrecision Score: {precision_score(y_train, pred) * 100:.2f}%\")\n",
    "        print(f\"\\t\\t\\tRecall Score: {recall_score(y_train, pred) * 100:.2f}%\")\n",
    "        print(f\"\\t\\t\\tF1 score: {f1_score(y_train, pred) * 100:.2f}%\")\n",
    "        print(\"_______________________________________________\")\n",
    "        print(f\"Confusion Matrix: \\n {confusion_matrix(y_train, pred)}\\n\")\n",
    "        train_score_1x[\"Training score \"+algo_name]=accuracy_score(y_train, pred) * 100\n",
    "        f1_train1x[algo_name+\" training f1 score \"]=f1_score(y_train, pred) * 100\n",
    "        precision_train1x[algo_name+\" training precision score\"]=precision_score(y_train, pred) * 100\n",
    "        recall_train1x[algo_name+\" training recall score\"]= recall_score(y_train, pred) * 100\n",
    "        \n",
    "    elif train==False:\n",
    "        pred = clf.predict(X_test)\n",
    "        print(\"Test Result:\\n================================================\")        \n",
    "        print(f\"Accuracy Score: {accuracy_score(y_test, pred) * 100:.2f}%\")\n",
    "        print(\"_______________________________________________\")\n",
    "        print(\"Classification Report:\", end='')\n",
    "        print(f\"\\tPrecision Score: {precision_score(y_test, pred) * 100:.2f}%\")\n",
    "        print(f\"\\t\\t\\tRecall Score: {recall_score(y_test, pred) * 100:.2f}%\")\n",
    "        print(f\"\\t\\t\\tF1 score: {f1_score(y_test, pred) * 100:.2f}%\")\n",
    "        print(\"_______________________________________________\")\n",
    "        print(f\"Confusion Matrix: \\n {confusion_matrix(y_test, pred)}\\n\")\n",
    "        test_score_1x[\"Testing score\"+algo_name]=accuracy_score(y_test, pred) * 100\n",
    "        f1_test1x[algo_name+\" testing f1 score\"]=f1_score(y_test, pred) * 100\n",
    "        precision_test1x[algo_name+\" testing precision score\"]=precision_score(y_test, pred) * 100\n",
    "        recall_test1x[algo_name+\" testing recall score\"]= recall_score(y_test, pred) * 100\n",
    "    #return f1_train , precision_train ,recall_train,f1_test,precision_test,recall_test"
   ]
  },
  {
   "cell_type": "markdown",
   "metadata": {},
   "source": [
    "# Splitting data into train and test set"
   ]
  },
  {
   "cell_type": "code",
   "execution_count": 27,
   "metadata": {},
   "outputs": [],
   "source": [
    "from sklearn.model_selection import train_test_split\n",
    "\n",
    "X = dataset.drop('target', axis=1)\n",
    "y = dataset.target\n",
    "\n",
    "X_train, X_test, y_train, y_test = train_test_split(X, y, test_size=0.3, random_state=42)\n"
   ]
  },
  {
   "cell_type": "code",
   "execution_count": 28,
   "metadata": {},
   "outputs": [
    {
     "data": {
      "text/html": [
       "<div>\n",
       "<style scoped>\n",
       "    .dataframe tbody tr th:only-of-type {\n",
       "        vertical-align: middle;\n",
       "    }\n",
       "\n",
       "    .dataframe tbody tr th {\n",
       "        vertical-align: top;\n",
       "    }\n",
       "\n",
       "    .dataframe thead th {\n",
       "        text-align: right;\n",
       "    }\n",
       "</style>\n",
       "<table border=\"1\" class=\"dataframe\">\n",
       "  <thead>\n",
       "    <tr style=\"text-align: right;\">\n",
       "      <th></th>\n",
       "      <th>age</th>\n",
       "      <th>trestbps</th>\n",
       "      <th>chol</th>\n",
       "      <th>thalach</th>\n",
       "      <th>oldpeak</th>\n",
       "      <th>sex_0</th>\n",
       "      <th>sex_1</th>\n",
       "      <th>cp_0</th>\n",
       "      <th>cp_1</th>\n",
       "      <th>cp_2</th>\n",
       "      <th>...</th>\n",
       "      <th>slope_2</th>\n",
       "      <th>ca_0</th>\n",
       "      <th>ca_1</th>\n",
       "      <th>ca_2</th>\n",
       "      <th>ca_3</th>\n",
       "      <th>ca_4</th>\n",
       "      <th>thal_0</th>\n",
       "      <th>thal_1</th>\n",
       "      <th>thal_2</th>\n",
       "      <th>thal_3</th>\n",
       "    </tr>\n",
       "  </thead>\n",
       "  <tbody>\n",
       "    <tr>\n",
       "      <th>179</th>\n",
       "      <td>0.290464</td>\n",
       "      <td>1.049520</td>\n",
       "      <td>0.574662</td>\n",
       "      <td>-1.646316</td>\n",
       "      <td>-0.379244</td>\n",
       "      <td>0</td>\n",
       "      <td>1</td>\n",
       "      <td>1</td>\n",
       "      <td>0</td>\n",
       "      <td>0</td>\n",
       "      <td>...</td>\n",
       "      <td>0</td>\n",
       "      <td>0</td>\n",
       "      <td>1</td>\n",
       "      <td>0</td>\n",
       "      <td>0</td>\n",
       "      <td>0</td>\n",
       "      <td>0</td>\n",
       "      <td>1</td>\n",
       "      <td>0</td>\n",
       "      <td>0</td>\n",
       "    </tr>\n",
       "    <tr>\n",
       "      <th>228</th>\n",
       "      <td>0.511041</td>\n",
       "      <td>2.191778</td>\n",
       "      <td>0.806568</td>\n",
       "      <td>0.409017</td>\n",
       "      <td>-0.724323</td>\n",
       "      <td>0</td>\n",
       "      <td>1</td>\n",
       "      <td>0</td>\n",
       "      <td>0</td>\n",
       "      <td>0</td>\n",
       "      <td>...</td>\n",
       "      <td>0</td>\n",
       "      <td>1</td>\n",
       "      <td>0</td>\n",
       "      <td>0</td>\n",
       "      <td>0</td>\n",
       "      <td>0</td>\n",
       "      <td>0</td>\n",
       "      <td>0</td>\n",
       "      <td>0</td>\n",
       "      <td>1</td>\n",
       "    </tr>\n",
       "    <tr>\n",
       "      <th>111</th>\n",
       "      <td>0.290464</td>\n",
       "      <td>1.049520</td>\n",
       "      <td>-2.324160</td>\n",
       "      <td>1.021244</td>\n",
       "      <td>-0.724323</td>\n",
       "      <td>0</td>\n",
       "      <td>1</td>\n",
       "      <td>0</td>\n",
       "      <td>0</td>\n",
       "      <td>1</td>\n",
       "      <td>...</td>\n",
       "      <td>1</td>\n",
       "      <td>0</td>\n",
       "      <td>1</td>\n",
       "      <td>0</td>\n",
       "      <td>0</td>\n",
       "      <td>0</td>\n",
       "      <td>0</td>\n",
       "      <td>0</td>\n",
       "      <td>0</td>\n",
       "      <td>1</td>\n",
       "    </tr>\n",
       "    <tr>\n",
       "      <th>246</th>\n",
       "      <td>0.180175</td>\n",
       "      <td>0.135714</td>\n",
       "      <td>3.144951</td>\n",
       "      <td>0.015443</td>\n",
       "      <td>0.742260</td>\n",
       "      <td>1</td>\n",
       "      <td>0</td>\n",
       "      <td>1</td>\n",
       "      <td>0</td>\n",
       "      <td>0</td>\n",
       "      <td>...</td>\n",
       "      <td>0</td>\n",
       "      <td>0</td>\n",
       "      <td>0</td>\n",
       "      <td>1</td>\n",
       "      <td>0</td>\n",
       "      <td>0</td>\n",
       "      <td>0</td>\n",
       "      <td>0</td>\n",
       "      <td>0</td>\n",
       "      <td>1</td>\n",
       "    </tr>\n",
       "    <tr>\n",
       "      <th>60</th>\n",
       "      <td>1.834507</td>\n",
       "      <td>-1.234996</td>\n",
       "      <td>0.362082</td>\n",
       "      <td>-0.859167</td>\n",
       "      <td>-0.896862</td>\n",
       "      <td>1</td>\n",
       "      <td>0</td>\n",
       "      <td>0</td>\n",
       "      <td>0</td>\n",
       "      <td>1</td>\n",
       "      <td>...</td>\n",
       "      <td>1</td>\n",
       "      <td>0</td>\n",
       "      <td>1</td>\n",
       "      <td>0</td>\n",
       "      <td>0</td>\n",
       "      <td>0</td>\n",
       "      <td>0</td>\n",
       "      <td>0</td>\n",
       "      <td>1</td>\n",
       "      <td>0</td>\n",
       "    </tr>\n",
       "    <tr>\n",
       "      <th>...</th>\n",
       "      <td>...</td>\n",
       "      <td>...</td>\n",
       "      <td>...</td>\n",
       "      <td>...</td>\n",
       "      <td>...</td>\n",
       "      <td>...</td>\n",
       "      <td>...</td>\n",
       "      <td>...</td>\n",
       "      <td>...</td>\n",
       "      <td>...</td>\n",
       "      <td>...</td>\n",
       "      <td>...</td>\n",
       "      <td>...</td>\n",
       "      <td>...</td>\n",
       "      <td>...</td>\n",
       "      <td>...</td>\n",
       "      <td>...</td>\n",
       "      <td>...</td>\n",
       "      <td>...</td>\n",
       "      <td>...</td>\n",
       "      <td>...</td>\n",
       "    </tr>\n",
       "    <tr>\n",
       "      <th>250</th>\n",
       "      <td>-0.371269</td>\n",
       "      <td>0.478391</td>\n",
       "      <td>0.999823</td>\n",
       "      <td>-1.209011</td>\n",
       "      <td>2.726460</td>\n",
       "      <td>0</td>\n",
       "      <td>1</td>\n",
       "      <td>1</td>\n",
       "      <td>0</td>\n",
       "      <td>0</td>\n",
       "      <td>...</td>\n",
       "      <td>0</td>\n",
       "      <td>0</td>\n",
       "      <td>0</td>\n",
       "      <td>0</td>\n",
       "      <td>1</td>\n",
       "      <td>0</td>\n",
       "      <td>0</td>\n",
       "      <td>0</td>\n",
       "      <td>0</td>\n",
       "      <td>1</td>\n",
       "    </tr>\n",
       "    <tr>\n",
       "      <th>19</th>\n",
       "      <td>1.613930</td>\n",
       "      <td>0.478391</td>\n",
       "      <td>-0.140381</td>\n",
       "      <td>0.059173</td>\n",
       "      <td>0.655990</td>\n",
       "      <td>1</td>\n",
       "      <td>0</td>\n",
       "      <td>0</td>\n",
       "      <td>0</td>\n",
       "      <td>0</td>\n",
       "      <td>...</td>\n",
       "      <td>1</td>\n",
       "      <td>0</td>\n",
       "      <td>0</td>\n",
       "      <td>1</td>\n",
       "      <td>0</td>\n",
       "      <td>0</td>\n",
       "      <td>0</td>\n",
       "      <td>0</td>\n",
       "      <td>1</td>\n",
       "      <td>0</td>\n",
       "    </tr>\n",
       "    <tr>\n",
       "      <th>143</th>\n",
       "      <td>1.393352</td>\n",
       "      <td>-1.463447</td>\n",
       "      <td>-0.449589</td>\n",
       "      <td>-0.334401</td>\n",
       "      <td>-0.638053</td>\n",
       "      <td>1</td>\n",
       "      <td>0</td>\n",
       "      <td>1</td>\n",
       "      <td>0</td>\n",
       "      <td>0</td>\n",
       "      <td>...</td>\n",
       "      <td>1</td>\n",
       "      <td>0</td>\n",
       "      <td>0</td>\n",
       "      <td>1</td>\n",
       "      <td>0</td>\n",
       "      <td>0</td>\n",
       "      <td>0</td>\n",
       "      <td>0</td>\n",
       "      <td>1</td>\n",
       "      <td>0</td>\n",
       "    </tr>\n",
       "    <tr>\n",
       "      <th>79</th>\n",
       "      <td>0.400752</td>\n",
       "      <td>-1.520560</td>\n",
       "      <td>-0.121055</td>\n",
       "      <td>0.190365</td>\n",
       "      <td>-0.379244</td>\n",
       "      <td>0</td>\n",
       "      <td>1</td>\n",
       "      <td>0</td>\n",
       "      <td>0</td>\n",
       "      <td>1</td>\n",
       "      <td>...</td>\n",
       "      <td>0</td>\n",
       "      <td>1</td>\n",
       "      <td>0</td>\n",
       "      <td>0</td>\n",
       "      <td>0</td>\n",
       "      <td>0</td>\n",
       "      <td>0</td>\n",
       "      <td>0</td>\n",
       "      <td>0</td>\n",
       "      <td>1</td>\n",
       "    </tr>\n",
       "    <tr>\n",
       "      <th>144</th>\n",
       "      <td>2.385951</td>\n",
       "      <td>0.478391</td>\n",
       "      <td>-0.952051</td>\n",
       "      <td>-1.471394</td>\n",
       "      <td>0.052103</td>\n",
       "      <td>1</td>\n",
       "      <td>0</td>\n",
       "      <td>0</td>\n",
       "      <td>0</td>\n",
       "      <td>1</td>\n",
       "      <td>...</td>\n",
       "      <td>0</td>\n",
       "      <td>1</td>\n",
       "      <td>0</td>\n",
       "      <td>0</td>\n",
       "      <td>0</td>\n",
       "      <td>0</td>\n",
       "      <td>0</td>\n",
       "      <td>0</td>\n",
       "      <td>1</td>\n",
       "      <td>0</td>\n",
       "    </tr>\n",
       "  </tbody>\n",
       "</table>\n",
       "<p>91 rows × 30 columns</p>\n",
       "</div>"
      ],
      "text/plain": [
       "          age  trestbps      chol   thalach   oldpeak  sex_0  sex_1  cp_0  \\\n",
       "179  0.290464  1.049520  0.574662 -1.646316 -0.379244      0      1     1   \n",
       "228  0.511041  2.191778  0.806568  0.409017 -0.724323      0      1     0   \n",
       "111  0.290464  1.049520 -2.324160  1.021244 -0.724323      0      1     0   \n",
       "246  0.180175  0.135714  3.144951  0.015443  0.742260      1      0     1   \n",
       "60   1.834507 -1.234996  0.362082 -0.859167 -0.896862      1      0     0   \n",
       "..        ...       ...       ...       ...       ...    ...    ...   ...   \n",
       "250 -0.371269  0.478391  0.999823 -1.209011  2.726460      0      1     1   \n",
       "19   1.613930  0.478391 -0.140381  0.059173  0.655990      1      0     0   \n",
       "143  1.393352 -1.463447 -0.449589 -0.334401 -0.638053      1      0     1   \n",
       "79   0.400752 -1.520560 -0.121055  0.190365 -0.379244      0      1     0   \n",
       "144  2.385951  0.478391 -0.952051 -1.471394  0.052103      1      0     0   \n",
       "\n",
       "     cp_1  cp_2  ...  slope_2  ca_0  ca_1  ca_2  ca_3  ca_4  thal_0  thal_1  \\\n",
       "179     0     0  ...        0     0     1     0     0     0       0       1   \n",
       "228     0     0  ...        0     1     0     0     0     0       0       0   \n",
       "111     0     1  ...        1     0     1     0     0     0       0       0   \n",
       "246     0     0  ...        0     0     0     1     0     0       0       0   \n",
       "60      0     1  ...        1     0     1     0     0     0       0       0   \n",
       "..    ...   ...  ...      ...   ...   ...   ...   ...   ...     ...     ...   \n",
       "250     0     0  ...        0     0     0     0     1     0       0       0   \n",
       "19      0     0  ...        1     0     0     1     0     0       0       0   \n",
       "143     0     0  ...        1     0     0     1     0     0       0       0   \n",
       "79      0     1  ...        0     1     0     0     0     0       0       0   \n",
       "144     0     1  ...        0     1     0     0     0     0       0       0   \n",
       "\n",
       "     thal_2  thal_3  \n",
       "179       0       0  \n",
       "228       0       1  \n",
       "111       0       1  \n",
       "246       0       1  \n",
       "60        1       0  \n",
       "..      ...     ...  \n",
       "250       0       1  \n",
       "19        1       0  \n",
       "143       1       0  \n",
       "79        0       1  \n",
       "144       1       0  \n",
       "\n",
       "[91 rows x 30 columns]"
      ]
     },
     "execution_count": 28,
     "metadata": {},
     "output_type": "execute_result"
    }
   ],
   "source": [
    "X_test"
   ]
  },
  {
   "cell_type": "markdown",
   "metadata": {},
   "source": [
    "Now we've got our data split into training and test sets, it's time to build a machine learning model.\n",
    "\n",
    "We'll train it (find the patterns) on the training set.\n",
    "\n",
    "And we'll test it (use the patterns) on the test set.\n",
    "\n",
    "We're going to try  different machine learning models:\n",
    "\n",
    "Logistic Regression\n",
    "K-Nearest Neighbours Classifier\n",
    "Decision Tree Classifier\n",
    "Random Forest Classifier\n",
    "XGBoost Classifier"
   ]
  },
  {
   "cell_type": "markdown",
   "metadata": {},
   "source": [
    "# Applying  Algorithms (without hypertuning)"
   ]
  },
  {
   "cell_type": "markdown",
   "metadata": {},
   "source": [
    "# Decsion tree"
   ]
  },
  {
   "cell_type": "code",
   "execution_count": 29,
   "metadata": {},
   "outputs": [
    {
     "name": "stdout",
     "output_type": "stream",
     "text": [
      "Train Result:\n",
      "================================================\n",
      "Accuracy Score: 100.00%\n",
      "_______________________________________________\n",
      "Classification Report:\tPrecision Score: 100.00%\n",
      "\t\t\tRecall Score: 100.00%\n",
      "\t\t\tF1 score: 100.00%\n",
      "_______________________________________________\n",
      "Confusion Matrix: \n",
      " [[ 97   0]\n",
      " [  0 115]]\n",
      "\n",
      "Test Result:\n",
      "================================================\n",
      "Accuracy Score: 78.02%\n",
      "_______________________________________________\n",
      "Classification Report:\tPrecision Score: 84.09%\n",
      "\t\t\tRecall Score: 74.00%\n",
      "\t\t\tF1 score: 78.72%\n",
      "_______________________________________________\n",
      "Confusion Matrix: \n",
      " [[34  7]\n",
      " [13 37]]\n",
      "\n"
     ]
    }
   ],
   "source": [
    "from sklearn.tree import DecisionTreeClassifier\n",
    "\n",
    "\n",
    "tree2 = DecisionTreeClassifier(random_state=42)\n",
    "tree2.fit(X_train, y_train)\n",
    "\n",
    "print_score(\"*dt \",tree2, X_train, y_train, X_test, y_test, train=True)\n",
    "print_score(\"*dt \",tree2, X_train, y_train, X_test, y_test, train=False)"
   ]
  },
  {
   "cell_type": "markdown",
   "metadata": {},
   "source": [
    "# Random Forest below"
   ]
  },
  {
   "cell_type": "code",
   "execution_count": 30,
   "metadata": {},
   "outputs": [
    {
     "name": "stdout",
     "output_type": "stream",
     "text": [
      "Train Result:\n",
      "================================================\n",
      "Accuracy Score: 100.00%\n",
      "_______________________________________________\n",
      "Classification Report:\tPrecision Score: 100.00%\n",
      "\t\t\tRecall Score: 100.00%\n",
      "\t\t\tF1 score: 100.00%\n",
      "_______________________________________________\n",
      "Confusion Matrix: \n",
      " [[ 97   0]\n",
      " [  0 115]]\n",
      "\n",
      "Test Result:\n",
      "================================================\n",
      "Accuracy Score: 82.42%\n",
      "_______________________________________________\n",
      "Classification Report:\tPrecision Score: 84.00%\n",
      "\t\t\tRecall Score: 84.00%\n",
      "\t\t\tF1 score: 84.00%\n",
      "_______________________________________________\n",
      "Confusion Matrix: \n",
      " [[33  8]\n",
      " [ 8 42]]\n",
      "\n"
     ]
    }
   ],
   "source": [
    "from sklearn.ensemble import RandomForestClassifier\n",
    "from sklearn.model_selection import RandomizedSearchCV\n",
    "\n",
    "rand_forest2 = RandomForestClassifier(n_estimators=1000, random_state=42)\n",
    "rand_forest2.fit(X_train, y_train)\n",
    "\n",
    "print_score(\"*random\\nforest\",rand_forest2, X_train, y_train, X_test, y_test, train=True)\n",
    "print_score(\"*random\\n forest\",rand_forest2, X_train, y_train, X_test, y_test, train=False)"
   ]
  },
  {
   "cell_type": "markdown",
   "metadata": {},
   "source": [
    "# KNN"
   ]
  },
  {
   "cell_type": "code",
   "execution_count": 31,
   "metadata": {},
   "outputs": [
    {
     "name": "stdout",
     "output_type": "stream",
     "text": [
      "Train Result:\n",
      "================================================\n",
      "Accuracy Score: 86.79%\n",
      "_______________________________________________\n",
      "Classification Report:\tPrecision Score: 87.18%\n",
      "\t\t\tRecall Score: 88.70%\n",
      "\t\t\tF1 score: 87.93%\n",
      "_______________________________________________\n",
      "Confusion Matrix: \n",
      " [[ 82  15]\n",
      " [ 13 102]]\n",
      "\n",
      "Test Result:\n",
      "================================================\n",
      "Accuracy Score: 86.81%\n",
      "_______________________________________________\n",
      "Classification Report:\tPrecision Score: 88.00%\n",
      "\t\t\tRecall Score: 88.00%\n",
      "\t\t\tF1 score: 88.00%\n",
      "_______________________________________________\n",
      "Confusion Matrix: \n",
      " [[35  6]\n",
      " [ 6 44]]\n",
      "\n"
     ]
    }
   ],
   "source": [
    "from sklearn.neighbors import KNeighborsClassifier\n",
    "\n",
    "knn_classifier2 = KNeighborsClassifier()\n",
    "knn_classifier2.fit(X_train, y_train)\n",
    "\n",
    "print_score(\"*KNN\",knn_classifier2, X_train, y_train, X_test, y_test, train=True)\n",
    "print_score(\"*KNN\",knn_classifier2, X_train, y_train, X_test, y_test, train=False)"
   ]
  },
  {
   "cell_type": "markdown",
   "metadata": {},
   "source": [
    "# Logistic regression"
   ]
  },
  {
   "cell_type": "code",
   "execution_count": 32,
   "metadata": {},
   "outputs": [
    {
     "name": "stdout",
     "output_type": "stream",
     "text": [
      "Train Result:\n",
      "================================================\n",
      "Accuracy Score: 86.79%\n",
      "_______________________________________________\n",
      "Classification Report:\tPrecision Score: 85.95%\n",
      "\t\t\tRecall Score: 90.43%\n",
      "\t\t\tF1 score: 88.14%\n",
      "_______________________________________________\n",
      "Confusion Matrix: \n",
      " [[ 80  17]\n",
      " [ 11 104]]\n",
      "\n",
      "Test Result:\n",
      "================================================\n",
      "Accuracy Score: 86.81%\n",
      "_______________________________________________\n",
      "Classification Report:\tPrecision Score: 86.54%\n",
      "\t\t\tRecall Score: 90.00%\n",
      "\t\t\tF1 score: 88.24%\n",
      "_______________________________________________\n",
      "Confusion Matrix: \n",
      " [[34  7]\n",
      " [ 5 45]]\n",
      "\n"
     ]
    }
   ],
   "source": [
    "from sklearn.linear_model import LogisticRegression\n",
    "\n",
    "log_reg2 = LogisticRegression(solver='liblinear')\n",
    "log_reg2.fit(X_train, y_train);\n",
    "print_score(\"*log-reg\",log_reg2, X_train, y_train, X_test, y_test, train=True)\n",
    "print_score(\"*log-reg\",log_reg2, X_train, y_train, X_test, y_test, train=False)"
   ]
  },
  {
   "cell_type": "markdown",
   "metadata": {},
   "source": [
    "# SVM"
   ]
  },
  {
   "cell_type": "code",
   "execution_count": 33,
   "metadata": {},
   "outputs": [
    {
     "name": "stdout",
     "output_type": "stream",
     "text": [
      "Train Result:\n",
      "================================================\n",
      "Accuracy Score: 93.40%\n",
      "_______________________________________________\n",
      "Classification Report:\tPrecision Score: 93.16%\n",
      "\t\t\tRecall Score: 94.78%\n",
      "\t\t\tF1 score: 93.97%\n",
      "_______________________________________________\n",
      "Confusion Matrix: \n",
      " [[ 89   8]\n",
      " [  6 109]]\n",
      "\n",
      "Test Result:\n",
      "================================================\n",
      "Accuracy Score: 87.91%\n",
      "_______________________________________________\n",
      "Classification Report:\tPrecision Score: 89.80%\n",
      "\t\t\tRecall Score: 88.00%\n",
      "\t\t\tF1 score: 88.89%\n",
      "_______________________________________________\n",
      "Confusion Matrix: \n",
      " [[36  5]\n",
      " [ 6 44]]\n",
      "\n"
     ]
    }
   ],
   "source": [
    "from sklearn.svm import SVC\n",
    "svm2 = SVC(kernel='rbf', gamma=0.1, C=1.0)\n",
    "svm2.fit(X_train, y_train);\n",
    "print_score(\"*SVM\",svm2, X_train, y_train, X_test, y_test, train=True)\n",
    "print_score(\"*SVM\",svm2, X_train, y_train, X_test, y_test, train=False)"
   ]
  },
  {
   "cell_type": "markdown",
   "metadata": {},
   "source": [
    "# xgboost"
   ]
  },
  {
   "cell_type": "code",
   "execution_count": 34,
   "metadata": {},
   "outputs": [],
   "source": [
    "from xgboost import XGBClassifier \n",
    "xgboost2 = XGBClassifier()\n",
    "#xgboost1=RandomizedSearchCV(xgboost1,param_distributions=params,n_iter=5,scoring='roc_auc',n_jobs=-1,cv=5,verbose=3,iid=True);\n",
    "#xgboost1.fit(X_train, y_train)"
   ]
  },
  {
   "cell_type": "code",
   "execution_count": 35,
   "metadata": {},
   "outputs": [],
   "source": [
    "xgboost2=XGBClassifier()\n",
    "xgboost2.fit(X_train, y_train);"
   ]
  },
  {
   "cell_type": "code",
   "execution_count": 36,
   "metadata": {},
   "outputs": [
    {
     "name": "stdout",
     "output_type": "stream",
     "text": [
      "Train Result:\n",
      "================================================\n",
      "Accuracy Score: 100.00%\n",
      "_______________________________________________\n",
      "Classification Report:\tPrecision Score: 100.00%\n",
      "\t\t\tRecall Score: 100.00%\n",
      "\t\t\tF1 score: 100.00%\n",
      "_______________________________________________\n",
      "Confusion Matrix: \n",
      " [[ 97   0]\n",
      " [  0 115]]\n",
      "\n",
      "Test Result:\n",
      "================================================\n",
      "Accuracy Score: 82.42%\n",
      "_______________________________________________\n",
      "Classification Report:\tPrecision Score: 84.00%\n",
      "\t\t\tRecall Score: 84.00%\n",
      "\t\t\tF1 score: 84.00%\n",
      "_______________________________________________\n",
      "Confusion Matrix: \n",
      " [[33  8]\n",
      " [ 8 42]]\n",
      "\n"
     ]
    }
   ],
   "source": [
    "print_score(\"*xgboost\",xgboost2 , X_train, y_train, X_test, y_test, train=True)\n",
    "print_score(\"*xgboost\",xgboost2 , X_train, y_train, X_test, y_test, train=False)"
   ]
  },
  {
   "cell_type": "markdown",
   "metadata": {},
   "source": [
    "# Voting classifier"
   ]
  },
  {
   "cell_type": "code",
   "execution_count": 37,
   "metadata": {},
   "outputs": [],
   "source": [
    "from sklearn.ensemble import VotingClassifier \n"
   ]
  },
  {
   "cell_type": "code",
   "execution_count": 38,
   "metadata": {},
   "outputs": [],
   "source": [
    "voting_clf2 = VotingClassifier( estimators=[\n",
    "                                          ('lr',log_reg2 ), \n",
    "                                         ('knn',knn_classifier2 ),\n",
    "                                          ('dt',tree2),\n",
    "                                         ('rf',rand_forest2),\n",
    "                                          ('xgb',xgboost2),\n",
    "                                          \n",
    "                                          ],\n",
    "                                            voting ='soft')\n",
    "voting_clf2.fit(X_train,y_train);"
   ]
  },
  {
   "cell_type": "code",
   "execution_count": 39,
   "metadata": {},
   "outputs": [
    {
     "name": "stdout",
     "output_type": "stream",
     "text": [
      "LogisticRegression 86.81318681318682\n",
      "KNeighborsClassifier 86.81318681318682\n",
      "DecisionTreeClassifier 78.02197802197803\n",
      "RandomForestClassifier 82.41758241758241\n",
      "XGBClassifier 82.41758241758241\n",
      "VotingClassifier 80.21978021978022\n"
     ]
    }
   ],
   "source": [
    "for clf in (\n",
    "            log_reg2,\n",
    "            knn_classifier2,\n",
    "            tree2,\n",
    "            rand_forest2,\n",
    "            xgboost2,\n",
    "            voting_clf2):\n",
    "    y_pred = clf.predict(X_test)\n",
    "    print(clf.__class__.__name__, accuracy_score(y_test, y_pred)*100)"
   ]
  },
  {
   "cell_type": "code",
   "execution_count": 40,
   "metadata": {},
   "outputs": [
    {
     "name": "stdout",
     "output_type": "stream",
     "text": [
      "Train Result:\n",
      "================================================\n",
      "Accuracy Score: 100.00%\n",
      "_______________________________________________\n",
      "Classification Report:\tPrecision Score: 100.00%\n",
      "\t\t\tRecall Score: 100.00%\n",
      "\t\t\tF1 score: 100.00%\n",
      "_______________________________________________\n",
      "Confusion Matrix: \n",
      " [[ 97   0]\n",
      " [  0 115]]\n",
      "\n",
      "Test Result:\n",
      "================================================\n",
      "Accuracy Score: 80.22%\n",
      "_______________________________________________\n",
      "Classification Report:\tPrecision Score: 82.00%\n",
      "\t\t\tRecall Score: 82.00%\n",
      "\t\t\tF1 score: 82.00%\n",
      "_______________________________________________\n",
      "Confusion Matrix: \n",
      " [[32  9]\n",
      " [ 9 41]]\n",
      "\n"
     ]
    }
   ],
   "source": [
    "print_score(\"*voting\",voting_clf2, X_train, y_train, X_test, y_test, train=True)\n",
    "print_score(\"*voting\",voting_clf2, X_train, y_train, X_test, y_test, train=False)"
   ]
  },
  {
   "cell_type": "markdown",
   "metadata": {},
   "source": [
    "# Algorithm performance before hypertuning"
   ]
  },
  {
   "cell_type": "markdown",
   "metadata": {},
   "source": [
    "So as we have dictionries in print_score()  function \n",
    "we will extract value from these dictionaries for \n",
    "ploting purpose  \n",
    "those dictionaries are\n",
    "train_score_1x={}\n",
    "f1_train1x={}\n",
    "precision_train1x={}\n",
    "recall_train1x={}\n",
    "test_score_1x={}\n",
    "f1_test1x={}\n",
    "precision_test1x={}\n",
    "recall_test1x={}"
   ]
  },
  {
   "cell_type": "code",
   "execution_count": 41,
   "metadata": {},
   "outputs": [],
   "source": [
    "#test_scores=[test_score1,test_score2,test_score3,test_score4,test_score5]\n",
    "\n",
    "\n",
    "algos_names1=[\"Decision\\ntree\",\"Random\\nforest\", \"KNN\",\"Logistic\\nregression\",\"SVM\",\"xgboost\"]\n",
    "train_score_1=list(train_score_1x.values())\n",
    "test_score_1=list(test_score_1x.values())\n",
    "f1_test1=list(f1_test1x.values())\n",
    "precision_test1=list(precision_test1x.values())\n",
    "recall_test1=list(recall_test1x.values())\n",
    "f1_train1=list(f1_train1x.values())\n",
    "precision_train1=list(precision_train1x.values())\n",
    "recall_train1=list(recall_train1x.values())\n"
   ]
  },
  {
   "cell_type": "code",
   "execution_count": 42,
   "metadata": {},
   "outputs": [
    {
     "data": {
      "text/plain": [
       "[78.02197802197803,\n",
       " 82.41758241758241,\n",
       " 86.81318681318682,\n",
       " 86.81318681318682,\n",
       " 87.91208791208791,\n",
       " 82.41758241758241,\n",
       " 80.21978021978022]"
      ]
     },
     "execution_count": 42,
     "metadata": {},
     "output_type": "execute_result"
    }
   ],
   "source": [
    "test_score_1"
   ]
  },
  {
   "cell_type": "markdown",
   "metadata": {},
   "source": [
    "Genrating csv of above algorithms"
   ]
  },
  {
   "cell_type": "code",
   "execution_count": 43,
   "metadata": {
    "scrolled": true
   },
   "outputs": [
    {
     "data": {
      "text/html": [
       "<div>\n",
       "<style scoped>\n",
       "    .dataframe tbody tr th:only-of-type {\n",
       "        vertical-align: middle;\n",
       "    }\n",
       "\n",
       "    .dataframe tbody tr th {\n",
       "        vertical-align: top;\n",
       "    }\n",
       "\n",
       "    .dataframe thead th {\n",
       "        text-align: right;\n",
       "    }\n",
       "</style>\n",
       "<table border=\"1\" class=\"dataframe\">\n",
       "  <thead>\n",
       "    <tr style=\"text-align: right;\">\n",
       "      <th></th>\n",
       "      <th>Model</th>\n",
       "      <th>Testing Accuracy %</th>\n",
       "      <th>f1 test %</th>\n",
       "      <th>Precision test %</th>\n",
       "      <th>Recall test %</th>\n",
       "    </tr>\n",
       "  </thead>\n",
       "  <tbody>\n",
       "    <tr>\n",
       "      <th>0</th>\n",
       "      <td>Random forest</td>\n",
       "      <td>82.417582</td>\n",
       "      <td>84.000000</td>\n",
       "      <td>84.000000</td>\n",
       "      <td>84.0</td>\n",
       "    </tr>\n",
       "    <tr>\n",
       "      <th>1</th>\n",
       "      <td>KNN</td>\n",
       "      <td>86.813187</td>\n",
       "      <td>88.000000</td>\n",
       "      <td>88.000000</td>\n",
       "      <td>88.0</td>\n",
       "    </tr>\n",
       "    <tr>\n",
       "      <th>2</th>\n",
       "      <td>Decision tree</td>\n",
       "      <td>78.021978</td>\n",
       "      <td>78.723404</td>\n",
       "      <td>84.090909</td>\n",
       "      <td>74.0</td>\n",
       "    </tr>\n",
       "    <tr>\n",
       "      <th>3</th>\n",
       "      <td>Logistic Regression</td>\n",
       "      <td>86.813187</td>\n",
       "      <td>88.235294</td>\n",
       "      <td>86.538462</td>\n",
       "      <td>90.0</td>\n",
       "    </tr>\n",
       "    <tr>\n",
       "      <th>4</th>\n",
       "      <td>SVM</td>\n",
       "      <td>87.912088</td>\n",
       "      <td>88.888889</td>\n",
       "      <td>89.795918</td>\n",
       "      <td>88.0</td>\n",
       "    </tr>\n",
       "    <tr>\n",
       "      <th>5</th>\n",
       "      <td>Xgboost</td>\n",
       "      <td>82.417582</td>\n",
       "      <td>84.000000</td>\n",
       "      <td>84.000000</td>\n",
       "      <td>84.0</td>\n",
       "    </tr>\n",
       "    <tr>\n",
       "      <th>6</th>\n",
       "      <td>Voting</td>\n",
       "      <td>80.219780</td>\n",
       "      <td>82.000000</td>\n",
       "      <td>82.000000</td>\n",
       "      <td>82.0</td>\n",
       "    </tr>\n",
       "  </tbody>\n",
       "</table>\n",
       "</div>"
      ],
      "text/plain": [
       "                 Model  Testing Accuracy %  f1 test %  Precision test %  \\\n",
       "0        Random forest           82.417582  84.000000         84.000000   \n",
       "1                  KNN           86.813187  88.000000         88.000000   \n",
       "2        Decision tree           78.021978  78.723404         84.090909   \n",
       "3  Logistic Regression           86.813187  88.235294         86.538462   \n",
       "4                  SVM           87.912088  88.888889         89.795918   \n",
       "5              Xgboost           82.417582  84.000000         84.000000   \n",
       "6               Voting           80.219780  82.000000         82.000000   \n",
       "\n",
       "   Recall test %  \n",
       "0           84.0  \n",
       "1           88.0  \n",
       "2           74.0  \n",
       "3           90.0  \n",
       "4           88.0  \n",
       "5           84.0  \n",
       "6           82.0  "
      ]
     },
     "execution_count": 43,
     "metadata": {},
     "output_type": "execute_result"
    }
   ],
   "source": [
    "results_df = pd.DataFrame(data=[[\"Random forest\",test_score_1[1],f1_test1[1],precision_test1[1],recall_test1[1]],\n",
    "                                [\"KNN\",test_score_1[2],f1_test1[2],precision_test1[2],recall_test1[2]],\n",
    "                                [\"Decision tree\",test_score_1[0],f1_test1[0],precision_test1[0],recall_test1[0]],\n",
    "                                [\"Logistic Regression\", test_score_1[3],f1_test1[3],precision_test1[3],recall_test1[3]],\n",
    "                                [\"SVM\", test_score_1[4],f1_test1[4],precision_test1[4],recall_test1[4]] ,\n",
    "                                [\"Xgboost\", test_score_1[5],f1_test1[5],precision_test1[5],recall_test1[5]] ,\n",
    "                                [\"Voting\", test_score_1[6],f1_test1[6],precision_test1[6],recall_test1[6]] \n",
    "                                \n",
    "                               ], \n",
    "                          columns=['Model', 'Testing Accuracy %'\n",
    "                                  ,'f1 test %','Precision test %','Recall test %'])\n",
    "\n",
    "\n",
    "\n",
    "#results_df.to_csv(\"results/*trainresults.csv\") \n",
    "\n",
    "results_df"
   ]
  },
  {
   "cell_type": "markdown",
   "metadata": {},
   "source": [
    "# Algorithms  with HYPERPARAMETER TUNING "
   ]
  },
  {
   "cell_type": "markdown",
   "metadata": {},
   "source": [
    "# Decision tree "
   ]
  },
  {
   "cell_type": "code",
   "execution_count": 44,
   "metadata": {},
   "outputs": [],
   "source": [
    "from sklearn. tree import DecisionTreeClassifier\n",
    "from sklearn.model_selection import GridSearchCV ,RandomizedSearchCV\n",
    "\n",
    "params = {\"criterion\":(\"gini\", \"entropy\"), \n",
    "          \"splitter\":(\"best\", \"random\"), \n",
    "          \"max_depth\":(list(range(1, 20))), \n",
    "          \"min_samples_split\":[2, 3, 4], \n",
    "          \"min_samples_leaf\":list(range(1, 20))\n",
    "          }\n",
    "\n",
    "\n",
    "tree1 = DecisionTreeClassifier(random_state=42)\n",
    "grid_search_cv = GridSearchCV(tree1, params, scoring=\"accuracy\", verbose=3, n_jobs=-1, cv=3,iid=True)\n",
    "\n"
   ]
  },
  {
   "cell_type": "markdown",
   "metadata": {},
   "source": [
    "Verbose is a general programming term for produce lots of logging output.\n",
    "You can think of it as asking the program to \"tell me everything about what you are doing all the time\".\n",
    "Just set it to true and see what happens.\n",
    "\n",
    "iid : boolean, default=True\n",
    "\n",
    "    If True, the data is assumed to be identically distributed across the folds, and the loss minimized is the total \n",
    "    loss per sample, and not the mean loss across the folds.\n",
    "\n",
    "n_jobs : int, default=1\n",
    "\n",
    "    Number of jobs to run in parallel."
   ]
  },
  {
   "cell_type": "code",
   "execution_count": 45,
   "metadata": {},
   "outputs": [],
   "source": [
    "#grid_search_cv.fit(X_train, y_train)"
   ]
  },
  {
   "cell_type": "code",
   "execution_count": 46,
   "metadata": {},
   "outputs": [],
   "source": [
    "#grid_search_cv.best_estimator_ "
   ]
  },
  {
   "cell_type": "code",
   "execution_count": 47,
   "metadata": {},
   "outputs": [],
   "source": [
    "#grid_search_cv.best_score_\n",
    "#grid_search_cv.best_params_\n"
   ]
  },
  {
   "cell_type": "markdown",
   "metadata": {},
   "source": [
    "\n",
    "best_estimator_ : estimator -> Estimator that was chosen by the search, \n",
    "                i.e. estimator which gave highest score \n",
    "                (or smallest loss if specified) on the left \n",
    "                out data. Not available if refit=False.\n",
    "\n",
    "best_score_ : float\n",
    "\n",
    "    Score of best_estimator on the left out data.\n",
    "\n",
    "best_params_ : dict\n",
    "\n",
    "    Parameter setting that gave the best results on the hold out data.\n",
    "\n",
    "scorer_ : function\n",
    "\n",
    "    Scorer function used on the held out data to \n",
    "    choose the best parameters for the model"
   ]
  },
  {
   "cell_type": "code",
   "execution_count": 48,
   "metadata": {},
   "outputs": [],
   "source": [
    "tree1 = DecisionTreeClassifier(criterion='gini', \n",
    "                              max_depth=3,\n",
    "                              min_samples_leaf=2, \n",
    "                              min_samples_split=2, \n",
    "                              splitter='random')"
   ]
  },
  {
   "cell_type": "code",
   "execution_count": 49,
   "metadata": {},
   "outputs": [
    {
     "name": "stdout",
     "output_type": "stream",
     "text": [
      "Train Result:\n",
      "================================================\n",
      "Accuracy Score: 85.85%\n",
      "_______________________________________________\n",
      "Classification Report:\tPrecision Score: 85.12%\n",
      "\t\t\tRecall Score: 89.57%\n",
      "\t\t\tF1 score: 87.29%\n",
      "_______________________________________________\n",
      "Confusion Matrix: \n",
      " [[ 79  18]\n",
      " [ 12 103]]\n",
      "\n",
      "Test Result:\n",
      "================================================\n",
      "Accuracy Score: 83.52%\n",
      "_______________________________________________\n",
      "Classification Report:\tPrecision Score: 87.23%\n",
      "\t\t\tRecall Score: 82.00%\n",
      "\t\t\tF1 score: 84.54%\n",
      "_______________________________________________\n",
      "Confusion Matrix: \n",
      " [[35  6]\n",
      " [ 9 41]]\n",
      "\n"
     ]
    }
   ],
   "source": [
    "tree1.fit(X_train, y_train)\n",
    "\n",
    "\n",
    "print_score(\"Decision tree\",tree1,X_train, y_train, X_test, y_test, train=True)\n",
    "print_score(\"Decision tree\",tree1, X_train, y_train, X_test, y_test, train=False)\n"
   ]
  },
  {
   "cell_type": "code",
   "execution_count": null,
   "metadata": {},
   "outputs": [],
   "source": []
  },
  {
   "cell_type": "markdown",
   "metadata": {},
   "source": [
    "# logistic regression"
   ]
  },
  {
   "cell_type": "code",
   "execution_count": 50,
   "metadata": {},
   "outputs": [
    {
     "data": {
      "text/plain": [
       "LogisticRegression(random_state=42, solver='liblinear')"
      ]
     },
     "execution_count": 50,
     "metadata": {},
     "output_type": "execute_result"
    }
   ],
   "source": [
    "from sklearn.linear_model import LogisticRegression\n",
    "\"\"\"\n",
    "params1 = {\"solver\":(\"newton-cg\", \"lbfgs\", \"liblinear\", \"sag\", \"saga\"), \n",
    "           \n",
    "          \"C\":(list(range(1, 100)))  ,\n",
    "           \"multi_class\":(\"auto\", \"ovr\")\n",
    "          }\n",
    "\"\"\"\n",
    "log_reg = LogisticRegression(random_state=42,solver=\"liblinear\")\n",
    "\n",
    "#grid_search_cv = GridSearchCV(log_reg, params1, scoring=\"accuracy\", verbose=3, n_jobs=-1, cv=3,iid=True)\n",
    "\n",
    "#grid_search_cv.fit(X_train, y_train)\n",
    "\n",
    "\n",
    "log_reg.fit(X_train,y_train)"
   ]
  },
  {
   "cell_type": "code",
   "execution_count": 51,
   "metadata": {},
   "outputs": [],
   "source": [
    "#grid_search_cv.best_estimator_ \n",
    "\n"
   ]
  },
  {
   "cell_type": "code",
   "execution_count": 52,
   "metadata": {},
   "outputs": [
    {
     "data": {
      "text/plain": [
       "LogisticRegression(C=1, solver='newton-cg')"
      ]
     },
     "execution_count": 52,
     "metadata": {},
     "output_type": "execute_result"
    }
   ],
   "source": [
    "log_reg = LogisticRegression(C=1,solver=\"newton-cg\")\n",
    "log_reg.fit(X_train,y_train)"
   ]
  },
  {
   "cell_type": "code",
   "execution_count": 53,
   "metadata": {},
   "outputs": [
    {
     "name": "stdout",
     "output_type": "stream",
     "text": [
      "Train Result:\n",
      "================================================\n",
      "Accuracy Score: 86.79%\n",
      "_______________________________________________\n",
      "Classification Report:\tPrecision Score: 85.95%\n",
      "\t\t\tRecall Score: 90.43%\n",
      "\t\t\tF1 score: 88.14%\n",
      "_______________________________________________\n",
      "Confusion Matrix: \n",
      " [[ 80  17]\n",
      " [ 11 104]]\n",
      "\n",
      "Test Result:\n",
      "================================================\n",
      "Accuracy Score: 85.71%\n",
      "_______________________________________________\n",
      "Classification Report:\tPrecision Score: 84.91%\n",
      "\t\t\tRecall Score: 90.00%\n",
      "\t\t\tF1 score: 87.38%\n",
      "_______________________________________________\n",
      "Confusion Matrix: \n",
      " [[33  8]\n",
      " [ 5 45]]\n",
      "\n"
     ]
    }
   ],
   "source": [
    "print_score(\"Logistic regression\",log_reg, X_train, y_train, X_test, y_test, train=True)\n",
    "print_score(\"Logistic regression\",log_reg, X_train, y_train, X_test, y_test, train=False)"
   ]
  },
  {
   "cell_type": "markdown",
   "metadata": {},
   "source": [
    "# Svm"
   ]
  },
  {
   "cell_type": "code",
   "execution_count": 54,
   "metadata": {},
   "outputs": [],
   "source": [
    "from sklearn import svm"
   ]
  },
  {
   "cell_type": "code",
   "execution_count": 55,
   "metadata": {},
   "outputs": [],
   "source": [
    "params= {'C': [0.1, 1, 10, 100, 1000],  \n",
    "              'gamma': [1, 0.1, 0.01, 0.001, 0.0001], \n",
    "              'kernel': ['rbf']}  "
   ]
  },
  {
   "cell_type": "code",
   "execution_count": 56,
   "metadata": {},
   "outputs": [],
   "source": [
    "svm1 = svm.SVC(kernel='linear') \n",
    "#svmrn=RandomizedSearchCV(svm1,param_distributions=params,n_iter=5,scoring='roc_auc',n_jobs=-1,cv=5,verbose=3,iid=True);\n"
   ]
  },
  {
   "cell_type": "code",
   "execution_count": 57,
   "metadata": {},
   "outputs": [],
   "source": [
    "#svmrn.fit(X_train, y_train)"
   ]
  },
  {
   "cell_type": "code",
   "execution_count": 58,
   "metadata": {},
   "outputs": [],
   "source": [
    "#svmrn.best_estimator_"
   ]
  },
  {
   "cell_type": "code",
   "execution_count": 59,
   "metadata": {},
   "outputs": [],
   "source": [
    "svm1=svm.SVC(C=10, cache_size=200, class_weight=None, coef0=0.0,\n",
    "    decision_function_shape='ovr', degree=3, gamma=0.001, kernel='rbf',\n",
    "    max_iter=-1, probability=False, random_state=None, shrinking=True,\n",
    "    tol=0.001, verbose=False)"
   ]
  },
  {
   "cell_type": "code",
   "execution_count": 60,
   "metadata": {},
   "outputs": [
    {
     "data": {
      "text/plain": [
       "SVC(C=10, gamma=0.001)"
      ]
     },
     "execution_count": 60,
     "metadata": {},
     "output_type": "execute_result"
    }
   ],
   "source": [
    "svm1.fit(X_train, y_train)"
   ]
  },
  {
   "cell_type": "code",
   "execution_count": 61,
   "metadata": {},
   "outputs": [
    {
     "name": "stdout",
     "output_type": "stream",
     "text": [
      "Train Result:\n",
      "================================================\n",
      "Accuracy Score: 84.91%\n",
      "_______________________________________________\n",
      "Classification Report:\tPrecision Score: 84.30%\n",
      "\t\t\tRecall Score: 88.70%\n",
      "\t\t\tF1 score: 86.44%\n",
      "_______________________________________________\n",
      "Confusion Matrix: \n",
      " [[ 78  19]\n",
      " [ 13 102]]\n",
      "\n",
      "Test Result:\n",
      "================================================\n",
      "Accuracy Score: 86.81%\n",
      "_______________________________________________\n",
      "Classification Report:\tPrecision Score: 88.00%\n",
      "\t\t\tRecall Score: 88.00%\n",
      "\t\t\tF1 score: 88.00%\n",
      "_______________________________________________\n",
      "Confusion Matrix: \n",
      " [[35  6]\n",
      " [ 6 44]]\n",
      "\n"
     ]
    }
   ],
   "source": [
    "print_score(\"SVM\",svm1, X_train, y_train, X_test, y_test, train=True)\n",
    "print_score(\"SVM\",svm1, X_train, y_train, X_test, y_test, train=False)"
   ]
  },
  {
   "cell_type": "markdown",
   "metadata": {},
   "source": [
    "# KNN algorithm"
   ]
  },
  {
   "cell_type": "code",
   "execution_count": 62,
   "metadata": {},
   "outputs": [],
   "source": [
    "from sklearn.neighbors import KNeighborsClassifier\n",
    "\n",
    "train_score = []\n",
    "test_score = []\n",
    "neighbors = range(1, 21)\n",
    "\n",
    "for k in neighbors:\n",
    "    model = KNeighborsClassifier(n_neighbors=k)\n",
    "    model.fit(X_train, y_train)\n",
    "    train_score.append(accuracy_score(y_train, model.predict(X_train)))\n",
    "    test_score.append(accuracy_score(y_test, model.predict(X_test)))"
   ]
  },
  {
   "cell_type": "code",
   "execution_count": 63,
   "metadata": {},
   "outputs": [
    {
     "name": "stdout",
     "output_type": "stream",
     "text": [
      "Maximum KNN score on the test data: 89.01%\n"
     ]
    },
    {
     "data": {
      "image/png": "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\n",
      "text/plain": [
       "<Figure size 360x360 with 1 Axes>"
      ]
     },
     "metadata": {
      "needs_background": "light"
     },
     "output_type": "display_data"
    }
   ],
   "source": [
    "plt.figure(figsize=(5,5))\n",
    "\n",
    "plt.plot(neighbors, train_score, label=\"Train score\")\n",
    "plt.plot(neighbors, test_score, label=\"Test score\")\n",
    "plt.xticks(np.arange(1, 21, 1))\n",
    "plt.xlabel(\"Number of neighbors\")\n",
    "plt.ylabel(\"Model score\")\n",
    "plt.legend()\n",
    "\n",
    "print(f\"Maximum KNN score on the test data: {max(test_score)*100:.2f}%\")"
   ]
  },
  {
   "cell_type": "code",
   "execution_count": 64,
   "metadata": {},
   "outputs": [
    {
     "name": "stdout",
     "output_type": "stream",
     "text": [
      "Train Result:\n",
      "================================================\n",
      "Accuracy Score: 84.43%\n",
      "_______________________________________________\n",
      "Classification Report:\tPrecision Score: 82.54%\n",
      "\t\t\tRecall Score: 90.43%\n",
      "\t\t\tF1 score: 86.31%\n",
      "_______________________________________________\n",
      "Confusion Matrix: \n",
      " [[ 75  22]\n",
      " [ 11 104]]\n",
      "\n",
      "Test Result:\n",
      "================================================\n",
      "Accuracy Score: 89.01%\n",
      "_______________________________________________\n",
      "Classification Report:\tPrecision Score: 87.04%\n",
      "\t\t\tRecall Score: 94.00%\n",
      "\t\t\tF1 score: 90.38%\n",
      "_______________________________________________\n",
      "Confusion Matrix: \n",
      " [[34  7]\n",
      " [ 3 47]]\n",
      "\n"
     ]
    }
   ],
   "source": [
    "knn_classifier = KNeighborsClassifier(n_neighbors=19)\n",
    "knn_classifier.fit(X_train, y_train)\n",
    "\n",
    "print_score(\"KNN\",knn_classifier, X_train, y_train, X_test, y_test, train=True)\n",
    "print_score(\"KNN\",knn_classifier, X_train, y_train, X_test, y_test, train=False)\n"
   ]
  },
  {
   "cell_type": "markdown",
   "metadata": {},
   "source": [
    "# Random forest"
   ]
  },
  {
   "cell_type": "code",
   "execution_count": 65,
   "metadata": {},
   "outputs": [
    {
     "data": {
      "text/plain": [
       "'\\nn_estimators = [int(x) for x in np.linspace(start=200, stop=2000, num=10)]\\nmax_features = [\\'auto\\', \\'sqrt\\']\\nmax_depth = [int(x) for x in np.linspace(10, 110, num=11)]\\nmax_depth.append(None)\\nmin_samples_split = [2, 5, 10]\\nmin_samples_leaf = [1, 2, 4]\\nbootstrap = [True, False]\\n\\nrandom_grid = {\\'n_estimators\\': n_estimators, \\'max_features\\': max_features,\\n               \\'max_depth\\': max_depth, \\'min_samples_split\\': min_samples_split,\\n               \\'min_samples_leaf\\': min_samples_leaf, \\'bootstrap\\': bootstrap}\\n\\nrand_forest = RandomForestClassifier()\\n\\ngrid_search_cv2 = GridSearchCV(rand_forest, random_grid, scoring=\"accuracy\", verbose=3, n_jobs=-1, cv=3,iid=True)\\n\\n'"
      ]
     },
     "execution_count": 65,
     "metadata": {},
     "output_type": "execute_result"
    }
   ],
   "source": [
    "from sklearn.ensemble import RandomForestClassifier\n",
    "\n",
    "\"\"\"\n",
    "n_estimators = [int(x) for x in np.linspace(start=200, stop=2000, num=10)]\n",
    "max_features = ['auto', 'sqrt']\n",
    "max_depth = [int(x) for x in np.linspace(10, 110, num=11)]\n",
    "max_depth.append(None)\n",
    "min_samples_split = [2, 5, 10]\n",
    "min_samples_leaf = [1, 2, 4]\n",
    "bootstrap = [True, False]\n",
    "\n",
    "random_grid = {'n_estimators': n_estimators, 'max_features': max_features,\n",
    "               'max_depth': max_depth, 'min_samples_split': min_samples_split,\n",
    "               'min_samples_leaf': min_samples_leaf, 'bootstrap': bootstrap}\n",
    "\n",
    "rand_forest = RandomForestClassifier()\n",
    "\n",
    "grid_search_cv2 = GridSearchCV(rand_forest, random_grid, scoring=\"accuracy\", verbose=3, n_jobs=-1, cv=3,iid=True)\n",
    "\n",
    "\"\"\"\n"
   ]
  },
  {
   "cell_type": "markdown",
   "metadata": {},
   "source": [
    " n_estimators = number of trees in the foreset\n",
    "    \n",
    "    max_features = max number of features considered for splitting a node\n",
    "    \n",
    "    max_depth = max number of levels in each decision tree\n",
    "    \n",
    "    min_samples_split = min number of data points placed in a node before the node is split\n",
    "    \n",
    "    min_samples_leaf = min number of data points allowed in a leaf node\n",
    "    \n",
    "    bootstrap = method for sampling data points (with or without replacement)"
   ]
  },
  {
   "cell_type": "code",
   "execution_count": 66,
   "metadata": {},
   "outputs": [],
   "source": [
    "#grid_search_cv2.fit(X_train, y_train)"
   ]
  },
  {
   "cell_type": "code",
   "execution_count": 67,
   "metadata": {},
   "outputs": [],
   "source": [
    "#grid_search_cv2.best_params_\n",
    "#rand_forest.fit(X_train, y_train)\n",
    "\n",
    "rand_forest = RandomForestClassifier(bootstrap= True,max_depth= 10, min_samples_split= 5, n_estimators= 200)\n",
    "\n"
   ]
  },
  {
   "cell_type": "code",
   "execution_count": 68,
   "metadata": {},
   "outputs": [],
   "source": [
    "rand_forest.fit(X_train,y_train);"
   ]
  },
  {
   "cell_type": "code",
   "execution_count": 69,
   "metadata": {},
   "outputs": [
    {
     "name": "stdout",
     "output_type": "stream",
     "text": [
      "Train Result:\n",
      "================================================\n",
      "Accuracy Score: 98.11%\n",
      "_______________________________________________\n",
      "Classification Report:\tPrecision Score: 98.26%\n",
      "\t\t\tRecall Score: 98.26%\n",
      "\t\t\tF1 score: 98.26%\n",
      "_______________________________________________\n",
      "Confusion Matrix: \n",
      " [[ 95   2]\n",
      " [  2 113]]\n",
      "\n",
      "Test Result:\n",
      "================================================\n",
      "Accuracy Score: 83.52%\n",
      "_______________________________________________\n",
      "Classification Report:\tPrecision Score: 84.31%\n",
      "\t\t\tRecall Score: 86.00%\n",
      "\t\t\tF1 score: 85.15%\n",
      "_______________________________________________\n",
      "Confusion Matrix: \n",
      " [[33  8]\n",
      " [ 7 43]]\n",
      "\n"
     ]
    }
   ],
   "source": [
    "print_score(\"Random forest\",rand_forest, X_train, y_train, X_test, y_test, train=True)\n",
    "print_score(\"Random forest\",rand_forest, X_train, y_train, X_test, y_test, train=False)"
   ]
  },
  {
   "cell_type": "code",
   "execution_count": null,
   "metadata": {},
   "outputs": [],
   "source": []
  },
  {
   "cell_type": "code",
   "execution_count": null,
   "metadata": {},
   "outputs": [],
   "source": []
  },
  {
   "cell_type": "markdown",
   "metadata": {},
   "source": [
    "# Xgboost"
   ]
  },
  {
   "cell_type": "code",
   "execution_count": 70,
   "metadata": {},
   "outputs": [],
   "source": [
    "params={\n",
    "    \"learning_rate\" :  [0.05,0.10,0.15,0.20,0.25,0.30],\n",
    "    \"max_depth\" : [3,4,5,6,8,10,12,15],\n",
    "    \"min_child_weight\" : [1,3,5,7],\n",
    "    \"gamma\" : [0.0,0.1,0.2,0.3,0.4],\n",
    "    \"colsample_bytree\" : [0.3,0.4,0.5,0.7]\n",
    "}"
   ]
  },
  {
   "cell_type": "code",
   "execution_count": null,
   "metadata": {},
   "outputs": [],
   "source": []
  },
  {
   "cell_type": "code",
   "execution_count": 71,
   "metadata": {},
   "outputs": [],
   "source": [
    "from xgboost import XGBClassifier \n",
    "xgboost1 = XGBClassifier()\n",
    "#xgboost1=RandomizedSearchCV(xgboost1,param_distributions=params,n_iter=5,scoring='roc_auc',n_jobs=-1,cv=5,verbose=3,iid=True);\n",
    "#xgboost1.fit(X_train, y_train)"
   ]
  },
  {
   "cell_type": "code",
   "execution_count": 72,
   "metadata": {},
   "outputs": [],
   "source": [
    "#xgboost1.best_estimator_\n",
    "\n"
   ]
  },
  {
   "cell_type": "code",
   "execution_count": 73,
   "metadata": {},
   "outputs": [],
   "source": [
    "xgboost1=XGBClassifier(base_score=0.5, booster='gbtree', colsample_bylevel=1,\n",
    "              colsample_bynode=1, colsample_bytree=0.7, gamma=0.4,\n",
    "              learning_rate=0.25, max_delta_step=0, max_depth=8,\n",
    "              min_child_weight=7, missing=None, n_estimators=100, n_jobs=1,\n",
    "              nthread=None, objective='binary:logistic', random_state=0,\n",
    "              reg_alpha=0, reg_lambda=1, scale_pos_weight=1, seed=None,\n",
    "              silent=None, subsample=1, verbosity=1)\n",
    "xgboost1.fit(X_train, y_train);"
   ]
  },
  {
   "cell_type": "code",
   "execution_count": null,
   "metadata": {},
   "outputs": [],
   "source": []
  },
  {
   "cell_type": "code",
   "execution_count": 74,
   "metadata": {},
   "outputs": [
    {
     "name": "stdout",
     "output_type": "stream",
     "text": [
      "Train Result:\n",
      "================================================\n",
      "Accuracy Score: 91.51%\n",
      "_______________________________________________\n",
      "Classification Report:\tPrecision Score: 90.76%\n",
      "\t\t\tRecall Score: 93.91%\n",
      "\t\t\tF1 score: 92.31%\n",
      "_______________________________________________\n",
      "Confusion Matrix: \n",
      " [[ 86  11]\n",
      " [  7 108]]\n",
      "\n",
      "Test Result:\n",
      "================================================\n",
      "Accuracy Score: 85.71%\n",
      "_______________________________________________\n",
      "Classification Report:\tPrecision Score: 86.27%\n",
      "\t\t\tRecall Score: 88.00%\n",
      "\t\t\tF1 score: 87.13%\n",
      "_______________________________________________\n",
      "Confusion Matrix: \n",
      " [[34  7]\n",
      " [ 6 44]]\n",
      "\n"
     ]
    }
   ],
   "source": [
    "print_score(\"xgboost\",xgboost1, X_train, y_train, X_test, y_test, train=True)\n",
    "print_score(\"xgboost\",xgboost1, X_train, y_train, X_test, y_test, train=False)"
   ]
  },
  {
   "cell_type": "code",
   "execution_count": null,
   "metadata": {},
   "outputs": [],
   "source": []
  },
  {
   "cell_type": "code",
   "execution_count": null,
   "metadata": {},
   "outputs": [],
   "source": []
  },
  {
   "cell_type": "code",
   "execution_count": null,
   "metadata": {},
   "outputs": [],
   "source": []
  },
  {
   "cell_type": "markdown",
   "metadata": {},
   "source": [
    "# Voting classifier"
   ]
  },
  {
   "cell_type": "code",
   "execution_count": 75,
   "metadata": {},
   "outputs": [],
   "source": [
    "from sklearn.ensemble import VotingClassifier \n"
   ]
  },
  {
   "cell_type": "code",
   "execution_count": 76,
   "metadata": {},
   "outputs": [],
   "source": [
    "voting_clf = VotingClassifier( estimators=[\n",
    "                                          ('lr',log_reg ), \n",
    "                                         ('knn',knn_classifier ),\n",
    "                                          ('dt',tree1),\n",
    "                                         ('rf',rand_forest),\n",
    "                                          ('xgb',xgboost1),\n",
    "                                          \n",
    "                                          ],\n",
    "                                            voting ='soft')\n",
    "voting_clf.fit(X_train,y_train);"
   ]
  },
  {
   "cell_type": "code",
   "execution_count": 77,
   "metadata": {},
   "outputs": [
    {
     "name": "stdout",
     "output_type": "stream",
     "text": [
      "LogisticRegression 85.71428571428571\n",
      "KNeighborsClassifier 89.01098901098901\n",
      "DecisionTreeClassifier 83.51648351648352\n",
      "RandomForestClassifier 83.51648351648352\n",
      "XGBClassifier 85.71428571428571\n",
      "VotingClassifier 83.51648351648352\n"
     ]
    }
   ],
   "source": [
    "for clf in (\n",
    "            log_reg,\n",
    "            knn_classifier,\n",
    "            tree1,\n",
    "            rand_forest,\n",
    "            xgboost1,\n",
    "            voting_clf):\n",
    "    voting_clf.fit(X_train, y_train)\n",
    "    y_pred = clf.predict(X_test)\n",
    "    print(clf.__class__.__name__, accuracy_score(y_test, y_pred)*100)"
   ]
  },
  {
   "cell_type": "code",
   "execution_count": null,
   "metadata": {},
   "outputs": [],
   "source": []
  },
  {
   "cell_type": "code",
   "execution_count": null,
   "metadata": {},
   "outputs": [],
   "source": []
  },
  {
   "cell_type": "code",
   "execution_count": 78,
   "metadata": {},
   "outputs": [
    {
     "name": "stdout",
     "output_type": "stream",
     "text": [
      "Train Result:\n",
      "================================================\n",
      "Accuracy Score: 89.15%\n",
      "_______________________________________________\n",
      "Classification Report:\tPrecision Score: 88.98%\n",
      "\t\t\tRecall Score: 91.30%\n",
      "\t\t\tF1 score: 90.13%\n",
      "_______________________________________________\n",
      "Confusion Matrix: \n",
      " [[ 84  13]\n",
      " [ 10 105]]\n",
      "\n",
      "Test Result:\n",
      "================================================\n",
      "Accuracy Score: 83.52%\n",
      "_______________________________________________\n",
      "Classification Report:\tPrecision Score: 84.31%\n",
      "\t\t\tRecall Score: 86.00%\n",
      "\t\t\tF1 score: 85.15%\n",
      "_______________________________________________\n",
      "Confusion Matrix: \n",
      " [[33  8]\n",
      " [ 7 43]]\n",
      "\n"
     ]
    }
   ],
   "source": [
    "print_score(\"Voting Classifier\", voting_clf,X_train, y_train, X_test, y_test, train=True)\n",
    "print_score(\"Voting Classifier\",voting_clf, X_train, y_train, X_test, y_test, train=False)"
   ]
  },
  {
   "cell_type": "markdown",
   "metadata": {},
   "source": [
    "# Comparing effect of hyperparameter tuning on our model"
   ]
  },
  {
   "cell_type": "markdown",
   "metadata": {},
   "source": [
    "below are returned scores from print_scores() fucntion"
   ]
  },
  {
   "cell_type": "code",
   "execution_count": null,
   "metadata": {},
   "outputs": [],
   "source": []
  },
  {
   "cell_type": "code",
   "execution_count": 79,
   "metadata": {},
   "outputs": [],
   "source": [
    "#test_scores=[test_score1,test_score2,test_score3,test_score4,test_score5]\n",
    "\n",
    "\n",
    "algos_names=[\"Dt\", \"Log-reg\",\"SVM\", \"KNN\", \"Rnf\",\"xgboost\", \"Voting\"]\n",
    "train_score_=list(train_score_1x.values())[7:]\n",
    "\n",
    "test_score_=list(test_score_1x.values())[7:]\n",
    "f1_test=list(f1_test1x.values())[7:]\n",
    "precision_test=list(precision_test1x.values())[7:]\n",
    "recall_test=list(recall_test1x.values())[7:]\n",
    "f1_train=list(f1_train1x.values())[7:]\n",
    "precision_train=list(precision_train1x.values())[7:]\n",
    "recall_train=list(recall_train1x.values())[7:]\n"
   ]
  },
  {
   "cell_type": "code",
   "execution_count": 80,
   "metadata": {},
   "outputs": [
    {
     "data": {
      "text/plain": [
       "{'Testing score*dt ': 78.02197802197803,\n",
       " 'Testing score*random\\n forest': 82.41758241758241,\n",
       " 'Testing score*KNN': 86.81318681318682,\n",
       " 'Testing score*log-reg': 86.81318681318682,\n",
       " 'Testing score*SVM': 87.91208791208791,\n",
       " 'Testing score*xgboost': 82.41758241758241,\n",
       " 'Testing score*voting': 80.21978021978022,\n",
       " 'Testing scoreDecision tree': 83.51648351648352,\n",
       " 'Testing scoreLogistic regression': 85.71428571428571,\n",
       " 'Testing scoreSVM': 86.81318681318682,\n",
       " 'Testing scoreKNN': 89.01098901098901,\n",
       " 'Testing scoreRandom forest': 83.51648351648352,\n",
       " 'Testing scorexgboost': 85.71428571428571,\n",
       " 'Testing scoreVoting Classifier': 83.51648351648352}"
      ]
     },
     "execution_count": 80,
     "metadata": {},
     "output_type": "execute_result"
    }
   ],
   "source": [
    "test_score_1x"
   ]
  },
  {
   "cell_type": "code",
   "execution_count": 81,
   "metadata": {},
   "outputs": [
    {
     "data": {
      "text/html": [
       "<div>\n",
       "<style scoped>\n",
       "    .dataframe tbody tr th:only-of-type {\n",
       "        vertical-align: middle;\n",
       "    }\n",
       "\n",
       "    .dataframe tbody tr th {\n",
       "        vertical-align: top;\n",
       "    }\n",
       "\n",
       "    .dataframe thead th {\n",
       "        text-align: right;\n",
       "    }\n",
       "</style>\n",
       "<table border=\"1\" class=\"dataframe\">\n",
       "  <thead>\n",
       "    <tr style=\"text-align: right;\">\n",
       "      <th></th>\n",
       "      <th>Model</th>\n",
       "      <th>Testing Accuracy %</th>\n",
       "      <th>f1 test %</th>\n",
       "      <th>Precision test %</th>\n",
       "      <th>Recall test %</th>\n",
       "    </tr>\n",
       "  </thead>\n",
       "  <tbody>\n",
       "    <tr>\n",
       "      <th>0</th>\n",
       "      <td>Random forest</td>\n",
       "      <td>83.516484</td>\n",
       "      <td>85.148515</td>\n",
       "      <td>84.313725</td>\n",
       "      <td>86.0</td>\n",
       "    </tr>\n",
       "    <tr>\n",
       "      <th>1</th>\n",
       "      <td>KNN</td>\n",
       "      <td>89.010989</td>\n",
       "      <td>90.384615</td>\n",
       "      <td>87.037037</td>\n",
       "      <td>94.0</td>\n",
       "    </tr>\n",
       "    <tr>\n",
       "      <th>2</th>\n",
       "      <td>Decision tree</td>\n",
       "      <td>85.849057</td>\n",
       "      <td>84.536082</td>\n",
       "      <td>87.234043</td>\n",
       "      <td>82.0</td>\n",
       "    </tr>\n",
       "    <tr>\n",
       "      <th>3</th>\n",
       "      <td>Logistic Regression</td>\n",
       "      <td>85.714286</td>\n",
       "      <td>87.378641</td>\n",
       "      <td>84.905660</td>\n",
       "      <td>90.0</td>\n",
       "    </tr>\n",
       "    <tr>\n",
       "      <th>4</th>\n",
       "      <td>SVM</td>\n",
       "      <td>86.813187</td>\n",
       "      <td>88.000000</td>\n",
       "      <td>88.000000</td>\n",
       "      <td>88.0</td>\n",
       "    </tr>\n",
       "    <tr>\n",
       "      <th>5</th>\n",
       "      <td>xgboost</td>\n",
       "      <td>85.714286</td>\n",
       "      <td>87.128713</td>\n",
       "      <td>86.274510</td>\n",
       "      <td>88.0</td>\n",
       "    </tr>\n",
       "    <tr>\n",
       "      <th>6</th>\n",
       "      <td>Voting</td>\n",
       "      <td>83.516484</td>\n",
       "      <td>85.148515</td>\n",
       "      <td>84.313725</td>\n",
       "      <td>86.0</td>\n",
       "    </tr>\n",
       "  </tbody>\n",
       "</table>\n",
       "</div>"
      ],
      "text/plain": [
       "                 Model  Testing Accuracy %  f1 test %  Precision test %  \\\n",
       "0        Random forest           83.516484  85.148515         84.313725   \n",
       "1                  KNN           89.010989  90.384615         87.037037   \n",
       "2        Decision tree           85.849057  84.536082         87.234043   \n",
       "3  Logistic Regression           85.714286  87.378641         84.905660   \n",
       "4                  SVM           86.813187  88.000000         88.000000   \n",
       "5              xgboost           85.714286  87.128713         86.274510   \n",
       "6               Voting           83.516484  85.148515         84.313725   \n",
       "\n",
       "   Recall test %  \n",
       "0           86.0  \n",
       "1           94.0  \n",
       "2           82.0  \n",
       "3           90.0  \n",
       "4           88.0  \n",
       "5           88.0  \n",
       "6           86.0  "
      ]
     },
     "execution_count": 81,
     "metadata": {},
     "output_type": "execute_result"
    }
   ],
   "source": [
    "results_df1 = pd.DataFrame(data=[[\"Random forest\",test_score_[4],f1_test[4],precision_test[4],recall_test[4]],\n",
    "                                [\"KNN\",test_score_[3],f1_test[3],precision_test[3],recall_test[3]],\n",
    "                                [\"Decision tree\",train_score_[0],f1_test[0],precision_test[0],recall_test[0]],\n",
    "                                [\"Logistic Regression\", test_score_[1],f1_test[1],precision_test[1],recall_test[1]],\n",
    "                                [\"SVM\", test_score_[2],f1_test[2],precision_test[2],recall_test[2]],\n",
    "                                [\"xgboost\",test_score_[5],f1_test[5],precision_test[5],recall_test[5]],\n",
    "                                [\"Voting\",test_score_[6],f1_test[6],precision_test[6],recall_test[6]]\n",
    "                                \n",
    "                               \n",
    "                                ], \n",
    "                          columns=['Model', 'Testing Accuracy %'\n",
    "                                  ,'f1 test %','Precision test %','Recall test %'])\n",
    "results_df1"
   ]
  },
  {
   "cell_type": "code",
   "execution_count": 82,
   "metadata": {},
   "outputs": [
    {
     "data": {
      "text/html": [
       "<div>\n",
       "<style scoped>\n",
       "    .dataframe tbody tr th:only-of-type {\n",
       "        vertical-align: middle;\n",
       "    }\n",
       "\n",
       "    .dataframe tbody tr th {\n",
       "        vertical-align: top;\n",
       "    }\n",
       "\n",
       "    .dataframe thead th {\n",
       "        text-align: right;\n",
       "    }\n",
       "</style>\n",
       "<table border=\"1\" class=\"dataframe\">\n",
       "  <thead>\n",
       "    <tr style=\"text-align: right;\">\n",
       "      <th></th>\n",
       "      <th>Model</th>\n",
       "      <th>Testing Accuracy %</th>\n",
       "      <th>f1 test %</th>\n",
       "      <th>Precision test %</th>\n",
       "      <th>Recall test %</th>\n",
       "    </tr>\n",
       "  </thead>\n",
       "  <tbody>\n",
       "    <tr>\n",
       "      <th>0</th>\n",
       "      <td>Random forest</td>\n",
       "      <td>82.417582</td>\n",
       "      <td>84.000000</td>\n",
       "      <td>84.000000</td>\n",
       "      <td>84.0</td>\n",
       "    </tr>\n",
       "    <tr>\n",
       "      <th>1</th>\n",
       "      <td>KNN</td>\n",
       "      <td>86.813187</td>\n",
       "      <td>88.000000</td>\n",
       "      <td>88.000000</td>\n",
       "      <td>88.0</td>\n",
       "    </tr>\n",
       "    <tr>\n",
       "      <th>2</th>\n",
       "      <td>Decision tree</td>\n",
       "      <td>78.021978</td>\n",
       "      <td>78.723404</td>\n",
       "      <td>84.090909</td>\n",
       "      <td>74.0</td>\n",
       "    </tr>\n",
       "    <tr>\n",
       "      <th>3</th>\n",
       "      <td>Logistic Regression</td>\n",
       "      <td>86.813187</td>\n",
       "      <td>88.235294</td>\n",
       "      <td>86.538462</td>\n",
       "      <td>90.0</td>\n",
       "    </tr>\n",
       "    <tr>\n",
       "      <th>4</th>\n",
       "      <td>SVM</td>\n",
       "      <td>87.912088</td>\n",
       "      <td>88.888889</td>\n",
       "      <td>89.795918</td>\n",
       "      <td>88.0</td>\n",
       "    </tr>\n",
       "    <tr>\n",
       "      <th>5</th>\n",
       "      <td>Xgboost</td>\n",
       "      <td>82.417582</td>\n",
       "      <td>84.000000</td>\n",
       "      <td>84.000000</td>\n",
       "      <td>84.0</td>\n",
       "    </tr>\n",
       "    <tr>\n",
       "      <th>6</th>\n",
       "      <td>Voting</td>\n",
       "      <td>80.219780</td>\n",
       "      <td>82.000000</td>\n",
       "      <td>82.000000</td>\n",
       "      <td>82.0</td>\n",
       "    </tr>\n",
       "  </tbody>\n",
       "</table>\n",
       "</div>"
      ],
      "text/plain": [
       "                 Model  Testing Accuracy %  f1 test %  Precision test %  \\\n",
       "0        Random forest           82.417582  84.000000         84.000000   \n",
       "1                  KNN           86.813187  88.000000         88.000000   \n",
       "2        Decision tree           78.021978  78.723404         84.090909   \n",
       "3  Logistic Regression           86.813187  88.235294         86.538462   \n",
       "4                  SVM           87.912088  88.888889         89.795918   \n",
       "5              Xgboost           82.417582  84.000000         84.000000   \n",
       "6               Voting           80.219780  82.000000         82.000000   \n",
       "\n",
       "   Recall test %  \n",
       "0           84.0  \n",
       "1           88.0  \n",
       "2           74.0  \n",
       "3           90.0  \n",
       "4           88.0  \n",
       "5           84.0  \n",
       "6           82.0  "
      ]
     },
     "execution_count": 82,
     "metadata": {},
     "output_type": "execute_result"
    }
   ],
   "source": [
    "results_df"
   ]
  },
  {
   "cell_type": "code",
   "execution_count": null,
   "metadata": {},
   "outputs": [],
   "source": []
  },
  {
   "cell_type": "code",
   "execution_count": null,
   "metadata": {},
   "outputs": [],
   "source": []
  },
  {
   "cell_type": "code",
   "execution_count": null,
   "metadata": {},
   "outputs": [],
   "source": []
  },
  {
   "cell_type": "code",
   "execution_count": null,
   "metadata": {},
   "outputs": [],
   "source": []
  },
  {
   "cell_type": "markdown",
   "metadata": {},
   "source": [
    "# Test plots"
   ]
  },
  {
   "cell_type": "code",
   "execution_count": 83,
   "metadata": {},
   "outputs": [
    {
     "data": {
      "image/png": "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\n",
      "text/plain": [
       "<Figure size 1080x1080 with 4 Axes>"
      ]
     },
     "metadata": {
      "needs_background": "light"
     },
     "output_type": "display_data"
    }
   ],
   "source": [
    "\n",
    "plt.figure(figsize=(15,15))\n",
    "plt.subplot(2,2,1)\n",
    "plt.title(\"Testing Accuracy  plot of algrothims\",fontweight=\"bold\")\n",
    "\n",
    "\n",
    "plt.xlabel(\"Algorithms\",fontweight=\"bold\")\n",
    "plt.ylabel(\"Accuracy\",fontweight=\"bold\")\n",
    "plt.xlim(80,95)\n",
    "plt.barh(algos_names,test_score_,color=['r','b','g','y','m'],height=0.5,edgecolor=\"k\",linewidth=2,hatch='/');\n",
    "\n",
    "\n",
    "\n",
    "plt.subplot(2,2,2)\n",
    "plt.title(\" f1 test score plot of algrothims\",fontweight=\"bold\")\n",
    "\n",
    "plt.xlim(80,95)\n",
    "plt.ylabel(\"Algorithms \",fontweight=\"bold\")\n",
    "plt.xlabel(\"f1 score\",fontweight=\"bold\")\n",
    "\n",
    "plt.barh(algos_names,f1_test,color=['r','b','g','y','m'],height=0.5,edgecolor=\"k\",linewidth=2,hatch='/');\n",
    "\n",
    "\n",
    "\n",
    "plt.subplot(2,2,3)\n",
    "plt.title(\" precision test score plot of algrothims\",fontweight=\"bold\")\n",
    "\n",
    "\n",
    "plt.ylabel(\"Algorithms \",fontweight=\"bold\")\n",
    "plt.xlabel(\"precision\",fontweight=\"bold\")\n",
    "plt.xlim(80,95)\n",
    "plt.barh(algos_names,precision_test,color=['r','b','g','y','m'],height=0.5,edgecolor=\"k\",linewidth=2,hatch='/');\n",
    "\n",
    "\n",
    "plt.subplot(2,2,4)\n",
    "plt.title(\" recall test score plot of algrothims\",fontweight=\"bold\")\n",
    "\n",
    "\n",
    "plt.ylabel(\"Algorithms \",fontweight=\"bold\")\n",
    "plt.ylabel(\"recall\",fontweight=\"bold\")\n",
    "plt.xlim(80,95)\n",
    "plt.barh(algos_names,recall_test,color=['r','b','g','y','m'],height=0.5,edgecolor=\"k\",linewidth=2,hatch='/');"
   ]
  },
  {
   "cell_type": "code",
   "execution_count": 95,
   "metadata": {},
   "outputs": [
    {
     "data": {
      "text/plain": [
       "['age',\n",
       " 'trestbps',\n",
       " 'chol',\n",
       " 'thalach',\n",
       " 'oldpeak',\n",
       " 'target',\n",
       " 'sex_0',\n",
       " 'sex_1',\n",
       " 'cp_0',\n",
       " 'cp_1',\n",
       " 'cp_2',\n",
       " 'cp_3',\n",
       " 'fbs_0',\n",
       " 'fbs_1',\n",
       " 'restecg_0',\n",
       " 'restecg_1',\n",
       " 'restecg_2',\n",
       " 'exang_0',\n",
       " 'exang_1',\n",
       " 'slope_0',\n",
       " 'slope_1',\n",
       " 'slope_2',\n",
       " 'ca_0',\n",
       " 'ca_1',\n",
       " 'ca_2',\n",
       " 'ca_3',\n",
       " 'ca_4',\n",
       " 'thal_0',\n",
       " 'thal_1',\n",
       " 'thal_2',\n",
       " 'thal_3']"
      ]
     },
     "execution_count": 95,
     "metadata": {},
     "output_type": "execute_result"
    }
   ],
   "source": [
    "s=list(dataset.columns)\n",
    "s"
   ]
  },
  {
   "cell_type": "code",
   "execution_count": 100,
   "metadata": {},
   "outputs": [],
   "source": [
    "def feature_imp(dataset, model):\n",
    "    fi = pd.DataFrame()\n",
    "    fi[\"feature\"] = dataset.columns\n",
    "    fi[\"importance\"] = model.feature_importances_\n",
    "    return fi.sort_values(by=\"importance\", ascending=False)"
   ]
  },
  {
   "cell_type": "code",
   "execution_count": 101,
   "metadata": {},
   "outputs": [
    {
     "data": {
      "text/plain": [
       "<matplotlib.axes._subplots.AxesSubplot at 0x7f12e92ff9d0>"
      ]
     },
     "execution_count": 101,
     "metadata": {},
     "output_type": "execute_result"
    },
    {
     "data": {
      "image/png": "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\n",
      "text/plain": [
       "<Figure size 864x504 with 1 Axes>"
      ]
     },
     "metadata": {
      "needs_background": "light"
     },
     "output_type": "display_data"
    }
   ],
   "source": [
    "feature_imp(X, rand_forest).plot(kind='barh', figsize=(12,7), legend=False)"
   ]
  },
  {
   "cell_type": "code",
   "execution_count": null,
   "metadata": {},
   "outputs": [],
   "source": []
  },
  {
   "cell_type": "code",
   "execution_count": 86,
   "metadata": {},
   "outputs": [
    {
     "data": {
      "image/png": "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\n",
      "text/plain": [
       "<Figure size 864x864 with 4 Axes>"
      ]
     },
     "metadata": {
      "needs_background": "light"
     },
     "output_type": "display_data"
    }
   ],
   "source": [
    "plt.figure(figsize=(12,12))\n",
    "def plot_accuracy_algos_ht_no_ht(param1,colors,xlabal):\n",
    "    for i in range(1,5):\n",
    "        plt.subplot(2,2,i)\n",
    "        plt.title(columns_result_csv[i-1]+\"  comparsion ht and no ht\",fontweight=\"bold\")\n",
    "        plt.ylabel(\"score\",fontweight=\"bold\")\n",
    "        plt.xlabel(list(xlabal))\n",
    "        \n",
    "        plt.plot([0,2,4,6,8,10,12],results_df[param1[i-1]],label=\"Testing Accuracy NO HT\",linewidth=\"3\",marker='<',color=colors[i-1])\n",
    "        plt.plot([0,2,4,6,8,10,12],results_df1[param1[i-1]],label=\"Testing Accuracy HT\",linewidth=\"3\",marker='*',color=colors[i])\n",
    "        plt.legend()\n",
    "\n",
    "colors=['r','g','b','c','m']# save colors in list , used in above loop iterativeliy\n",
    "columns_result_csv=['Testing Accuracy %','f1 test %','Precision test %','Recall test %']\n",
    "xlabal=['Rnf',' KNN','Dt','Logreg','SVM','xgboost',' Voting ']\n",
    "\n",
    "plot_accuracy_algos_ht_no_ht(columns_result_csv,colors,xlabal) \n",
    "#passing these params above in function \"Testing Accuracy %\",\"f1 test %\",\"Precision test %\",\"Recall test %\"\n",
    "\n",
    "#plt.savefig(\"accurcaycomp.png\")"
   ]
  },
  {
   "cell_type": "code",
   "execution_count": 90,
   "metadata": {},
   "outputs": [
    {
     "data": {
      "text/plain": [
       "'slope_2'"
      ]
     },
     "execution_count": 90,
     "metadata": {},
     "output_type": "execute_result"
    }
   ],
   "source": [
    "dataset.columns[21]"
   ]
  },
  {
   "cell_type": "code",
   "execution_count": null,
   "metadata": {},
   "outputs": [],
   "source": []
  },
  {
   "cell_type": "code",
   "execution_count": null,
   "metadata": {},
   "outputs": [],
   "source": []
  },
  {
   "cell_type": "code",
   "execution_count": null,
   "metadata": {},
   "outputs": [],
   "source": []
  },
  {
   "cell_type": "code",
   "execution_count": null,
   "metadata": {},
   "outputs": [],
   "source": []
  }
 ],
 "metadata": {
  "kernelspec": {
   "display_name": "Python 3",
   "language": "python",
   "name": "python3"
  },
  "language_info": {
   "codemirror_mode": {
    "name": "ipython",
    "version": 3
   },
   "file_extension": ".py",
   "mimetype": "text/x-python",
   "name": "python",
   "nbconvert_exporter": "python",
   "pygments_lexer": "ipython3",
   "version": "3.8.3"
  }
 },
 "nbformat": 4,
 "nbformat_minor": 2
}
